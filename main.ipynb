{
 "cells": [
  {
   "cell_type": "code",
   "execution_count": 1,
   "metadata": {},
   "outputs": [
    {
     "name": "stderr",
     "output_type": "stream",
     "text": [
      "2024-02-02 09:09:04.387141: E external/local_xla/xla/stream_executor/cuda/cuda_dnn.cc:9261] Unable to register cuDNN factory: Attempting to register factory for plugin cuDNN when one has already been registered\n",
      "2024-02-02 09:09:04.387185: E external/local_xla/xla/stream_executor/cuda/cuda_fft.cc:607] Unable to register cuFFT factory: Attempting to register factory for plugin cuFFT when one has already been registered\n",
      "2024-02-02 09:09:04.387978: E external/local_xla/xla/stream_executor/cuda/cuda_blas.cc:1515] Unable to register cuBLAS factory: Attempting to register factory for plugin cuBLAS when one has already been registered\n",
      "2024-02-02 09:09:04.393933: I tensorflow/core/platform/cpu_feature_guard.cc:182] This TensorFlow binary is optimized to use available CPU instructions in performance-critical operations.\n",
      "To enable the following instructions: AVX2 FMA, in other operations, rebuild TensorFlow with the appropriate compiler flags.\n",
      "2024-02-02 09:09:05.811777: W tensorflow/compiler/tf2tensorrt/utils/py_utils.cc:38] TF-TRT Warning: Could not find TensorRT\n"
     ]
    }
   ],
   "source": [
    "import torch\n",
    "from model import load_resnet_model\n",
    "import os\n",
    "from train_regression_weighted_loss_loaded import train_model\n",
    "import re\n",
    "from dataloader import create_dataloader\n",
    "from tqdm import tqdm\n",
    "from dense_weight import DenseWeight"
   ]
  },
  {
   "cell_type": "code",
   "execution_count": 2,
   "metadata": {},
   "outputs": [
    {
     "name": "stderr",
     "output_type": "stream",
     "text": [
      "/opt/conda/envs/pytorch/lib/python3.10/site-packages/torchvision/models/_utils.py:208: UserWarning: The parameter 'pretrained' is deprecated since 0.13 and may be removed in the future, please use 'weights' instead.\n",
      "  warnings.warn(\n",
      "/opt/conda/envs/pytorch/lib/python3.10/site-packages/torchvision/models/_utils.py:223: UserWarning: Arguments other than a weight enum or `None` for 'weights' are deprecated since 0.13 and may be removed in the future. The current behavior is equivalent to passing `weights=ResNet50_Weights.IMAGENET1K_V1`. You can also use `weights=ResNet50_Weights.DEFAULT` to get the most up-to-date weights.\n",
      "  warnings.warn(msg)\n"
     ]
    }
   ],
   "source": [
    "device = torch.device('cuda' if torch.cuda.is_available() else 'cpu')\n",
    "model = load_resnet_model('resnet50', num_classes=1)"
   ]
  },
  {
   "cell_type": "code",
   "execution_count": 3,
   "metadata": {},
   "outputs": [],
   "source": [
    "def get_file_paths(directory):\n",
    "    \"\"\"\n",
    "    Get all file paths in the specified directory with the specified file extension.\n",
    "\n",
    "    Args:\n",
    "    - directory (str): The directory to search for files.\n",
    "    - file_extension (str): The file extension to filter by.\n",
    "\n",
    "    Returns:\n",
    "    - List[str]: A list of file paths.\n",
    "    \"\"\"\n",
    "    file_paths = []\n",
    "    for file in os.listdir(directory):\n",
    "        file_path = os.path.join(directory, file)\n",
    "        file_paths.append(file_path)\n",
    "    return file_paths\n",
    "\n",
    "# Use a regular expression to extract the batch number from the filename\n",
    "def extract_batch_number(file_path):\n",
    "    match = re.search(r\"data_batch_(\\d+)\", file_path)\n",
    "    if match:\n",
    "        return int(match.group(1))\n",
    "    else:\n",
    "        return -1  # If for some reason a file doesn't match the pattern\n"
   ]
  },
  {
   "cell_type": "code",
   "execution_count": 4,
   "metadata": {},
   "outputs": [],
   "source": [
    "train_files = sorted(get_file_paths('./data/records_unscaled/train/'), key= extract_batch_number)\n",
    "val_files = sorted(get_file_paths('./data/records_unscaled/val/'), key= extract_batch_number)\n",
    "\n",
    "train_loaders = [create_dataloader(file, True, 64) for file in train_files]\n",
    "val_loaders = [create_dataloader(file, True, 64) for file in val_files]"
   ]
  },
  {
   "cell_type": "code",
   "execution_count": 5,
   "metadata": {},
   "outputs": [
    {
     "name": "stderr",
     "output_type": "stream",
     "text": [
      "100%|██████████| 8/8 [00:00<00:00, 37.17it/s]\n",
      "100%|██████████| 8/8 [00:00<00:00, 39.92it/s]\n",
      "100%|██████████| 8/8 [00:00<00:00, 38.16it/s]\n",
      "100%|██████████| 8/8 [00:00<00:00, 37.13it/s]\n",
      "100%|██████████| 8/8 [00:00<00:00, 38.82it/s]\n",
      "100%|██████████| 8/8 [00:00<00:00, 38.78it/s]\n",
      "100%|██████████| 8/8 [00:00<00:00, 36.76it/s]\n",
      "100%|██████████| 8/8 [00:00<00:00, 39.58it/s]\n",
      "100%|██████████| 8/8 [00:00<00:00, 39.72it/s]\n",
      "100%|██████████| 8/8 [00:00<00:00, 38.18it/s]\n",
      "100%|██████████| 8/8 [00:00<00:00, 39.46it/s]\n",
      "100%|██████████| 8/8 [00:00<00:00, 39.35it/s]\n",
      "100%|██████████| 4/4 [00:00<00:00, 40.09it/s]\n"
     ]
    }
   ],
   "source": [
    "training_labels = []\n",
    "for train_loader in train_loaders:\n",
    "    for _, labels in tqdm(train_loader):\n",
    "        training_labels.extend(labels.detach().cpu().numpy())\n",
    "\n",
    "dense_weight_model = DenseWeight(0.2)\n",
    "dense_weight_model.fit(training_labels)"
   ]
  },
  {
   "cell_type": "code",
   "execution_count": 6,
   "metadata": {},
   "outputs": [
    {
     "name": "stdout",
     "output_type": "stream",
     "text": [
      "Epoch 1/30, Train Loss: 0.3235, Train R2: -0.5756, Val Loss: 0.1099, Val R2: 0.4875\n",
      "Model saved as checkpoint_epoch_1.pth\n",
      "Epoch 2/30, Train Loss: 0.1099, Train R2: 0.4716, Val Loss: 0.1815, Val R2: 0.1640\n",
      "Epoch 3/30, Train Loss: 0.0986, Train R2: 0.5251, Val Loss: 0.1209, Val R2: 0.4433\n",
      "Epoch 4/30, Train Loss: 0.0906, Train R2: 0.5631, Val Loss: 0.0989, Val R2: 0.5357\n",
      "Model saved as checkpoint_epoch_4.pth\n",
      "Epoch 5/30, Train Loss: 0.0812, Train R2: 0.6080, Val Loss: 0.1089, Val R2: 0.4913\n",
      "Epoch 6/30, Train Loss: 0.0719, Train R2: 0.6529, Val Loss: 0.1120, Val R2: 0.4727\n",
      "Epoch 7/30, Train Loss: 0.0636, Train R2: 0.6923, Val Loss: 0.1126, Val R2: 0.4661\n",
      "Epoch 8/30, Train Loss: 0.0628, Train R2: 0.6961, Val Loss: 0.1501, Val R2: 0.3085\n",
      "Epoch 9/30, Train Loss: 0.0594, Train R2: 0.7122, Val Loss: 0.1736, Val R2: 0.1991\n",
      "Epoch 10/30, Train Loss: 0.0853, Train R2: 0.5866, Val Loss: 0.1473, Val R2: 0.3245\n",
      "Epoch 11/30, Train Loss: 0.0630, Train R2: 0.6953, Val Loss: 0.1398, Val R2: 0.3486\n",
      "Epoch 12/30, Train Loss: 0.0546, Train R2: 0.7339, Val Loss: 0.1456, Val R2: 0.3242\n",
      "Epoch 13/30, Train Loss: 0.0668, Train R2: 0.6730, Val Loss: 0.1582, Val R2: 0.2572\n",
      "Epoch 14/30, Train Loss: 0.0689, Train R2: 0.6626, Val Loss: 0.1283, Val R2: 0.3897\n",
      "Epoch 15/30, Train Loss: 0.0649, Train R2: 0.6812, Val Loss: 0.1383, Val R2: 0.3182\n",
      "Epoch 16/30, Train Loss: 0.0566, Train R2: 0.7227, Val Loss: 0.1370, Val R2: 0.3560\n",
      "Epoch 17/30, Train Loss: 0.0669, Train R2: 0.6701, Val Loss: 0.1081, Val R2: 0.4847\n",
      "Epoch 18/30, Train Loss: 0.0736, Train R2: 0.6374, Val Loss: 0.1171, Val R2: 0.4448\n",
      "Epoch 19/30, Train Loss: 0.0866, Train R2: 0.5752, Val Loss: 0.1323, Val R2: 0.3742\n",
      "Epoch 20/30, Train Loss: 0.0494, Train R2: 0.7577, Val Loss: 0.1055, Val R2: 0.4897\n",
      "Epoch 21/30, Train Loss: 0.0527, Train R2: 0.7393, Val Loss: 0.1124, Val R2: 0.4633\n",
      "Epoch 22/30, Train Loss: 0.0642, Train R2: 0.6823, Val Loss: 0.1306, Val R2: 0.3668\n",
      "Epoch 23/30, Train Loss: 0.0531, Train R2: 0.7400, Val Loss: 0.1162, Val R2: 0.4418\n",
      "Epoch 24/30, Train Loss: 0.0456, Train R2: 0.7757, Val Loss: 0.1349, Val R2: 0.3651\n",
      "Epoch 25/30, Train Loss: 0.0385, Train R2: 0.8108, Val Loss: 0.1326, Val R2: 0.3642\n",
      "Epoch 26/30, Train Loss: 0.0371, Train R2: 0.8173, Val Loss: 0.1199, Val R2: 0.4340\n",
      "Epoch 27/30, Train Loss: 0.0300, Train R2: 0.8522, Val Loss: 0.1352, Val R2: 0.3681\n",
      "Epoch 28/30, Train Loss: 0.0436, Train R2: 0.7842, Val Loss: 0.1314, Val R2: 0.3830\n",
      "Epoch 29/30, Train Loss: 0.0389, Train R2: 0.8081, Val Loss: 0.1090, Val R2: 0.4847\n",
      "Epoch 30/30, Train Loss: 0.0369, Train R2: 0.8176, Val Loss: 0.1220, Val R2: 0.4248\n",
      "Model saved as final_model.pth\n",
      "Training completed and final model saved.\n"
     ]
    }
   ],
   "source": [
    "train_model(model, dense_weight_model, train_loaders, val_loaders, device, epochs=30)"
   ]
  }
 ],
 "metadata": {
  "kernelspec": {
   "display_name": "myenv",
   "language": "python",
   "name": "python3"
  },
  "language_info": {
   "codemirror_mode": {
    "name": "ipython",
    "version": 3
   },
   "file_extension": ".py",
   "mimetype": "text/x-python",
   "name": "python",
   "nbconvert_exporter": "python",
   "pygments_lexer": "ipython3",
   "version": "3.10.13"
  }
 },
 "nbformat": 4,
 "nbformat_minor": 2
}
