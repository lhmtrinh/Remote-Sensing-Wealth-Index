{
 "cells": [
  {
   "cell_type": "code",
   "execution_count": 17,
   "metadata": {},
   "outputs": [],
   "source": [
    "import torch\n",
    "from model import load_resnet_model\n",
    "import os\n",
    "from train_regression_weighted_loss import train_model\n",
    "import re\n",
    "from dense_weight import DenseWeight\n",
    "from dataloader import create_dataloader\n",
    "from tqdm import tqdm"
   ]
  },
  {
   "cell_type": "code",
   "execution_count": 2,
   "metadata": {},
   "outputs": [
    {
     "name": "stderr",
     "output_type": "stream",
     "text": [
      "c:\\Users\\lhmtr\\OneDrive\\Desktop\\remote-sensing-asset-index\\myenv\\Lib\\site-packages\\torchvision\\models\\_utils.py:208: UserWarning: The parameter 'pretrained' is deprecated since 0.13 and may be removed in the future, please use 'weights' instead.\n",
      "  warnings.warn(\n",
      "c:\\Users\\lhmtr\\OneDrive\\Desktop\\remote-sensing-asset-index\\myenv\\Lib\\site-packages\\torchvision\\models\\_utils.py:223: UserWarning: Arguments other than a weight enum or `None` for 'weights' are deprecated since 0.13 and may be removed in the future. The current behavior is equivalent to passing `weights=ResNet50_Weights.IMAGENET1K_V1`. You can also use `weights=ResNet50_Weights.DEFAULT` to get the most up-to-date weights.\n",
      "  warnings.warn(msg)\n"
     ]
    }
   ],
   "source": [
    "device = torch.device('cuda' if torch.cuda.is_available() else 'cpu')\n",
    "model = load_resnet_model('resnet50', num_classes=1)"
   ]
  },
  {
   "cell_type": "code",
   "execution_count": 12,
   "metadata": {},
   "outputs": [],
   "source": [
    "def get_file_paths(directory):\n",
    "    \"\"\"\n",
    "    Get all file paths in the specified directory with the specified file extension.\n",
    "\n",
    "    Args:\n",
    "    - directory (str): The directory to search for files.\n",
    "    - file_extension (str): The file extension to filter by.\n",
    "\n",
    "    Returns:\n",
    "    - List[str]: A list of file paths.\n",
    "    \"\"\"\n",
    "    file_paths = []\n",
    "    for file in os.listdir(directory):\n",
    "        file_path = os.path.join(directory, file)\n",
    "        file_paths.append(file_path)\n",
    "    return file_paths\n",
    "\n",
    "# Use a regular expression to extract the batch number from the filename\n",
    "def extract_batch_number(file_path):\n",
    "    match = re.search(r\"data_batch_(\\d+)\", file_path)\n",
    "    if match:\n",
    "        return int(match.group(1))\n",
    "    else:\n",
    "        return -1  # If for some reason a file doesn't match the pattern\n"
   ]
  },
  {
   "cell_type": "code",
   "execution_count": 13,
   "metadata": {},
   "outputs": [],
   "source": [
    "train_files = sorted(get_file_paths('./data/records/train/'), key= extract_batch_number)\n",
    "val_files = sorted(get_file_paths('./data/records/val/'), key= extract_batch_number)"
   ]
  },
  {
   "cell_type": "code",
   "execution_count": null,
   "metadata": {},
   "outputs": [],
   "source": [
    "training_labels = []\n",
    "\n",
    "for train_file in train_files:\n",
    "    train_loader = create_dataloader(train_file, True, 32)\n",
    "    for _, labels in tqdm(train_loader):\n",
    "        training_labels.extend(labels.detach().cpu().numpy())\n",
    "\n",
    "dense_weight_model = DenseWeight(0.5)\n",
    "dense_weight_model.fit(training_labels)"
   ]
  },
  {
   "cell_type": "code",
   "execution_count": 5,
   "metadata": {},
   "outputs": [
    {
     "name": "stderr",
     "output_type": "stream",
     "text": [
      "100%|██████████| 16/16 [00:09<00:00,  1.63it/s]\n",
      "100%|██████████| 16/16 [00:05<00:00,  3.03it/s]\n",
      "100%|██████████| 16/16 [00:05<00:00,  3.05it/s]\n",
      "100%|██████████| 16/16 [00:05<00:00,  2.95it/s]\n",
      "100%|██████████| 16/16 [00:05<00:00,  2.93it/s]\n",
      "100%|██████████| 16/16 [00:05<00:00,  2.84it/s]\n",
      "100%|██████████| 4/4 [00:01<00:00,  2.20it/s]\n",
      "100%|██████████| 16/16 [00:03<00:00,  4.97it/s]\n",
      "100%|██████████| 16/16 [00:03<00:00,  4.28it/s]\n",
      "100%|██████████| 3/3 [00:01<00:00,  2.89it/s]\n"
     ]
    },
    {
     "name": "stdout",
     "output_type": "stream",
     "text": [
      "Epoch 1/10, Train Loss: 1.0007, Val Loss: 1.2756, F1 Macro: 0.2628, F1 Micro: 0.5494\n",
      "Model saved as checkpoint_epoch_1.pth\n"
     ]
    },
    {
     "name": "stderr",
     "output_type": "stream",
     "text": [
      "100%|██████████| 16/16 [00:05<00:00,  3.00it/s]\n",
      "100%|██████████| 16/16 [00:05<00:00,  2.80it/s]\n",
      "100%|██████████| 16/16 [00:05<00:00,  2.78it/s]\n",
      "100%|██████████| 16/16 [00:05<00:00,  2.82it/s]\n",
      "100%|██████████| 16/16 [00:05<00:00,  2.84it/s]\n",
      "100%|██████████| 16/16 [00:05<00:00,  2.86it/s]\n",
      "100%|██████████| 4/4 [00:01<00:00,  2.22it/s]\n",
      "100%|██████████| 16/16 [00:03<00:00,  4.82it/s]\n",
      "100%|██████████| 16/16 [00:03<00:00,  4.50it/s]\n",
      "100%|██████████| 3/3 [00:00<00:00,  3.39it/s]\n"
     ]
    },
    {
     "name": "stdout",
     "output_type": "stream",
     "text": [
      "Epoch 2/10, Train Loss: 0.8812, Val Loss: 1.5962, F1 Macro: 0.2859, F1 Micro: 0.5023\n"
     ]
    },
    {
     "name": "stderr",
     "output_type": "stream",
     "text": [
      "100%|██████████| 16/16 [00:05<00:00,  2.99it/s]\n",
      "100%|██████████| 16/16 [00:05<00:00,  2.78it/s]\n",
      "100%|██████████| 16/16 [00:05<00:00,  2.76it/s]\n",
      "100%|██████████| 16/16 [00:05<00:00,  2.80it/s]\n",
      "100%|██████████| 16/16 [00:05<00:00,  2.79it/s]\n",
      "100%|██████████| 16/16 [00:05<00:00,  2.78it/s]\n",
      "100%|██████████| 4/4 [00:01<00:00,  2.23it/s]\n",
      "100%|██████████| 16/16 [00:03<00:00,  4.82it/s]\n",
      "100%|██████████| 16/16 [00:03<00:00,  4.12it/s]\n",
      "100%|██████████| 3/3 [00:00<00:00,  3.31it/s]\n"
     ]
    },
    {
     "name": "stdout",
     "output_type": "stream",
     "text": [
      "Epoch 3/10, Train Loss: 0.8563, Val Loss: 3.7346, F1 Macro: 0.2336, F1 Micro: 0.4231\n"
     ]
    },
    {
     "name": "stderr",
     "output_type": "stream",
     "text": [
      "100%|██████████| 16/16 [00:05<00:00,  2.94it/s]\n",
      "100%|██████████| 16/16 [00:05<00:00,  2.81it/s]\n",
      "100%|██████████| 16/16 [00:05<00:00,  2.77it/s]\n",
      "100%|██████████| 16/16 [00:05<00:00,  2.77it/s]\n",
      "100%|██████████| 16/16 [00:05<00:00,  2.81it/s]\n",
      "100%|██████████| 16/16 [00:05<00:00,  2.82it/s]\n",
      "100%|██████████| 4/4 [00:01<00:00,  2.22it/s]\n",
      "100%|██████████| 16/16 [00:03<00:00,  4.88it/s]\n",
      "100%|██████████| 16/16 [00:03<00:00,  4.13it/s]\n",
      "100%|██████████| 3/3 [00:00<00:00,  3.23it/s]\n"
     ]
    },
    {
     "name": "stdout",
     "output_type": "stream",
     "text": [
      "Epoch 4/10, Train Loss: 0.8281, Val Loss: 1.6483, F1 Macro: 0.2699, F1 Micro: 0.4881\n"
     ]
    },
    {
     "name": "stderr",
     "output_type": "stream",
     "text": [
      "100%|██████████| 16/16 [00:05<00:00,  2.96it/s]\n",
      "100%|██████████| 16/16 [00:05<00:00,  2.79it/s]\n",
      "100%|██████████| 16/16 [00:05<00:00,  2.78it/s]\n",
      "100%|██████████| 16/16 [00:05<00:00,  2.79it/s]\n",
      "100%|██████████| 16/16 [00:05<00:00,  2.82it/s]\n",
      "100%|██████████| 16/16 [00:05<00:00,  2.83it/s]\n",
      "100%|██████████| 4/4 [00:01<00:00,  2.19it/s]\n",
      "100%|██████████| 16/16 [00:03<00:00,  4.83it/s]\n",
      "100%|██████████| 16/16 [00:03<00:00,  4.11it/s]\n",
      "100%|██████████| 3/3 [00:00<00:00,  3.20it/s]\n"
     ]
    },
    {
     "name": "stdout",
     "output_type": "stream",
     "text": [
      "Epoch 5/10, Train Loss: 0.7970, Val Loss: 1.1841, F1 Macro: 0.4077, F1 Micro: 0.5993\n",
      "Model saved as checkpoint_epoch_5.pth\n"
     ]
    },
    {
     "name": "stderr",
     "output_type": "stream",
     "text": [
      "100%|██████████| 16/16 [00:05<00:00,  2.96it/s]\n",
      "100%|██████████| 16/16 [00:05<00:00,  2.74it/s]\n",
      "100%|██████████| 16/16 [00:05<00:00,  2.84it/s]\n",
      "100%|██████████| 16/16 [00:05<00:00,  2.82it/s]\n",
      "100%|██████████| 16/16 [00:05<00:00,  2.79it/s]\n",
      "100%|██████████| 16/16 [00:05<00:00,  2.77it/s]\n",
      "100%|██████████| 4/4 [00:01<00:00,  2.22it/s]\n",
      "100%|██████████| 16/16 [00:03<00:00,  4.83it/s]\n",
      "100%|██████████| 16/16 [00:03<00:00,  4.47it/s]\n",
      "100%|██████████| 3/3 [00:00<00:00,  3.29it/s]\n"
     ]
    },
    {
     "name": "stdout",
     "output_type": "stream",
     "text": [
      "Epoch 6/10, Train Loss: 0.7685, Val Loss: 0.9513, F1 Macro: 0.4207, F1 Micro: 0.6249\n",
      "Model saved as checkpoint_epoch_6.pth\n"
     ]
    },
    {
     "name": "stderr",
     "output_type": "stream",
     "text": [
      "100%|██████████| 16/16 [00:05<00:00,  2.94it/s]\n",
      "100%|██████████| 16/16 [00:05<00:00,  2.73it/s]\n",
      "100%|██████████| 16/16 [00:05<00:00,  2.81it/s]\n",
      "100%|██████████| 16/16 [00:05<00:00,  2.80it/s]\n",
      "100%|██████████| 16/16 [00:05<00:00,  2.83it/s]\n",
      "100%|██████████| 16/16 [00:05<00:00,  2.79it/s]\n",
      "100%|██████████| 4/4 [00:01<00:00,  2.22it/s]\n",
      "100%|██████████| 16/16 [00:03<00:00,  4.85it/s]\n",
      "100%|██████████| 16/16 [00:03<00:00,  4.10it/s]\n",
      "100%|██████████| 3/3 [00:00<00:00,  3.21it/s]\n"
     ]
    },
    {
     "name": "stdout",
     "output_type": "stream",
     "text": [
      "Epoch 7/10, Train Loss: 0.7459, Val Loss: 1.0888, F1 Macro: 0.3900, F1 Micro: 0.5956\n"
     ]
    },
    {
     "name": "stderr",
     "output_type": "stream",
     "text": [
      "100%|██████████| 16/16 [00:05<00:00,  2.98it/s]\n",
      "100%|██████████| 16/16 [00:06<00:00,  2.66it/s]\n",
      "100%|██████████| 16/16 [00:05<00:00,  2.78it/s]\n",
      "100%|██████████| 16/16 [00:05<00:00,  2.75it/s]\n",
      "100%|██████████| 16/16 [00:05<00:00,  2.76it/s]\n",
      "100%|██████████| 16/16 [00:05<00:00,  2.79it/s]\n",
      "100%|██████████| 4/4 [00:01<00:00,  2.22it/s]\n",
      "100%|██████████| 16/16 [00:03<00:00,  4.82it/s]\n",
      "100%|██████████| 16/16 [00:03<00:00,  4.42it/s]\n",
      "100%|██████████| 3/3 [00:00<00:00,  3.33it/s]\n"
     ]
    },
    {
     "name": "stdout",
     "output_type": "stream",
     "text": [
      "Epoch 8/10, Train Loss: 0.7365, Val Loss: 0.9052, F1 Macro: 0.4246, F1 Micro: 0.6299\n",
      "Model saved as checkpoint_epoch_8.pth\n"
     ]
    },
    {
     "name": "stderr",
     "output_type": "stream",
     "text": [
      "100%|██████████| 16/16 [00:05<00:00,  2.95it/s]\n",
      "100%|██████████| 16/16 [00:05<00:00,  2.75it/s]\n",
      "100%|██████████| 16/16 [00:05<00:00,  2.73it/s]\n",
      "100%|██████████| 16/16 [00:05<00:00,  2.72it/s]\n",
      "100%|██████████| 16/16 [00:05<00:00,  2.77it/s]\n",
      "100%|██████████| 16/16 [00:05<00:00,  2.84it/s]\n",
      "100%|██████████| 4/4 [00:01<00:00,  2.22it/s]\n",
      "100%|██████████| 16/16 [00:03<00:00,  4.77it/s]\n",
      "100%|██████████| 16/16 [00:03<00:00,  4.40it/s]\n",
      "100%|██████████| 3/3 [00:00<00:00,  3.31it/s]\n"
     ]
    },
    {
     "name": "stdout",
     "output_type": "stream",
     "text": [
      "Epoch 9/10, Train Loss: 0.7045, Val Loss: 1.1353, F1 Macro: 0.3708, F1 Micro: 0.5732\n"
     ]
    },
    {
     "name": "stderr",
     "output_type": "stream",
     "text": [
      "100%|██████████| 16/16 [00:05<00:00,  2.96it/s]\n",
      "100%|██████████| 16/16 [00:05<00:00,  2.76it/s]\n",
      "100%|██████████| 16/16 [00:05<00:00,  2.81it/s]\n",
      "100%|██████████| 16/16 [00:05<00:00,  2.78it/s]\n",
      "100%|██████████| 16/16 [00:05<00:00,  2.82it/s]\n",
      "100%|██████████| 16/16 [00:05<00:00,  2.83it/s]\n",
      "100%|██████████| 4/4 [00:01<00:00,  2.25it/s]\n",
      "100%|██████████| 16/16 [00:03<00:00,  4.80it/s]\n",
      "100%|██████████| 16/16 [00:03<00:00,  4.40it/s]\n",
      "100%|██████████| 3/3 [00:00<00:00,  3.31it/s]\n"
     ]
    },
    {
     "name": "stdout",
     "output_type": "stream",
     "text": [
      "Epoch 10/10, Train Loss: 0.6635, Val Loss: 1.2270, F1 Macro: 0.3441, F1 Micro: 0.5499\n",
      "Model saved as final_model.pth\n",
      "Training completed and final model saved.\n"
     ]
    }
   ],
   "source": [
    "train_model(model, train_files, val_files, device, dense_weight_model,epochs=15)"
   ]
  }
 ],
 "metadata": {
  "kernelspec": {
   "display_name": "myenv",
   "language": "python",
   "name": "python3"
  },
  "language_info": {
   "codemirror_mode": {
    "name": "ipython",
    "version": 3
   },
   "file_extension": ".py",
   "mimetype": "text/x-python",
   "name": "python",
   "nbconvert_exporter": "python",
   "pygments_lexer": "ipython3",
   "version": "3.11.3"
  }
 },
 "nbformat": 4,
 "nbformat_minor": 2
}
