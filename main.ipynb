{
 "cells": [
  {
   "cell_type": "code",
   "execution_count": 1,
   "metadata": {},
   "outputs": [
    {
     "name": "stderr",
     "output_type": "stream",
     "text": [
      "2024-01-26 09:13:47.766682: E external/local_xla/xla/stream_executor/cuda/cuda_dnn.cc:9261] Unable to register cuDNN factory: Attempting to register factory for plugin cuDNN when one has already been registered\n",
      "2024-01-26 09:13:47.766730: E external/local_xla/xla/stream_executor/cuda/cuda_fft.cc:607] Unable to register cuFFT factory: Attempting to register factory for plugin cuFFT when one has already been registered\n",
      "2024-01-26 09:13:47.767514: E external/local_xla/xla/stream_executor/cuda/cuda_blas.cc:1515] Unable to register cuBLAS factory: Attempting to register factory for plugin cuBLAS when one has already been registered\n",
      "2024-01-26 09:13:47.773844: I tensorflow/core/platform/cpu_feature_guard.cc:182] This TensorFlow binary is optimized to use available CPU instructions in performance-critical operations.\n",
      "To enable the following instructions: AVX2 FMA, in other operations, rebuild TensorFlow with the appropriate compiler flags.\n",
      "2024-01-26 09:13:48.503038: W tensorflow/compiler/tf2tensorrt/utils/py_utils.cc:38] TF-TRT Warning: Could not find TensorRT\n"
     ]
    }
   ],
   "source": [
    "import torch\n",
    "from model import load_resnet_model\n",
    "import os\n",
    "from train_regression_weighted_loss_loaded import train_model\n",
    "import re\n",
    "from weighted_MSE_loss import DenseWeight\n",
    "from dataloader import create_dataloader\n",
    "from tqdm import tqdm"
   ]
  },
  {
   "cell_type": "code",
   "execution_count": 2,
   "metadata": {},
   "outputs": [
    {
     "name": "stderr",
     "output_type": "stream",
     "text": [
      "/opt/conda/envs/pytorch/lib/python3.10/site-packages/torchvision/models/_utils.py:208: UserWarning: The parameter 'pretrained' is deprecated since 0.13 and may be removed in the future, please use 'weights' instead.\n",
      "  warnings.warn(\n",
      "/opt/conda/envs/pytorch/lib/python3.10/site-packages/torchvision/models/_utils.py:223: UserWarning: Arguments other than a weight enum or `None` for 'weights' are deprecated since 0.13 and may be removed in the future. The current behavior is equivalent to passing `weights=ResNet50_Weights.IMAGENET1K_V1`. You can also use `weights=ResNet50_Weights.DEFAULT` to get the most up-to-date weights.\n",
      "  warnings.warn(msg)\n"
     ]
    }
   ],
   "source": [
    "device = torch.device('cuda' if torch.cuda.is_available() else 'cpu')\n",
    "model = load_resnet_model('resnet50', num_classes=1)"
   ]
  },
  {
   "cell_type": "code",
   "execution_count": 3,
   "metadata": {},
   "outputs": [],
   "source": [
    "def get_file_paths(directory):\n",
    "    \"\"\"\n",
    "    Get all file paths in the specified directory with the specified file extension.\n",
    "\n",
    "    Args:\n",
    "    - directory (str): The directory to search for files.\n",
    "    - file_extension (str): The file extension to filter by.\n",
    "\n",
    "    Returns:\n",
    "    - List[str]: A list of file paths.\n",
    "    \"\"\"\n",
    "    file_paths = []\n",
    "    for file in os.listdir(directory):\n",
    "        file_path = os.path.join(directory, file)\n",
    "        file_paths.append(file_path)\n",
    "    return file_paths\n",
    "\n",
    "# Use a regular expression to extract the batch number from the filename\n",
    "def extract_batch_number(file_path):\n",
    "    match = re.search(r\"data_batch_(\\d+)\", file_path)\n",
    "    if match:\n",
    "        return int(match.group(1))\n",
    "    else:\n",
    "        return -1  # If for some reason a file doesn't match the pattern\n"
   ]
  },
  {
   "cell_type": "code",
   "execution_count": 4,
   "metadata": {},
   "outputs": [],
   "source": [
    "train_files = sorted(get_file_paths('./data/records/train/'), key= extract_batch_number)\n",
    "val_files = sorted(get_file_paths('./data/records/val/'), key= extract_batch_number)\n",
    "\n",
    "train_loaders = [create_dataloader(file, True, 64) for file in train_files]\n",
    "val_loaders = [create_dataloader(file, True, 64) for file in val_files]"
   ]
  },
  {
   "cell_type": "code",
   "execution_count": null,
   "metadata": {},
   "outputs": [],
   "source": [
    "training_labels = []\n",
    "for train_loader in train_loaders:\n",
    "    for _, labels in tqdm(train_loader):\n",
    "        training_labels.extend(labels.detach().cpu().numpy())\n",
    "\n",
    "dense_weight_model = DenseWeight(0.2)\n",
    "dense_weight_model.fit(training_labels)"
   ]
  },
  {
   "cell_type": "code",
   "execution_count": 6,
   "metadata": {},
   "outputs": [
    {
     "name": "stderr",
     "output_type": "stream",
     "text": [
      "100%|██████████| 8/8 [00:02<00:00,  3.02it/s]\n",
      "100%|██████████| 8/8 [00:02<00:00,  3.42it/s]\n",
      "100%|██████████| 8/8 [00:02<00:00,  3.61it/s]\n",
      "100%|██████████| 8/8 [00:02<00:00,  3.52it/s]\n",
      "100%|██████████| 8/8 [00:02<00:00,  3.54it/s]\n",
      "100%|██████████| 8/8 [00:02<00:00,  3.52it/s]\n",
      "100%|██████████| 8/8 [00:02<00:00,  3.54it/s]\n",
      "100%|██████████| 8/8 [00:02<00:00,  3.58it/s]\n",
      "100%|██████████| 8/8 [00:02<00:00,  3.60it/s]\n",
      "100%|██████████| 8/8 [00:02<00:00,  3.51it/s]\n",
      "100%|██████████| 8/8 [00:02<00:00,  3.60it/s]\n",
      "100%|██████████| 8/8 [00:02<00:00,  3.58it/s]\n",
      "100%|██████████| 4/4 [00:01<00:00,  3.63it/s]\n",
      "100%|██████████| 8/8 [00:01<00:00,  7.33it/s]\n",
      "100%|██████████| 8/8 [00:01<00:00,  6.10it/s]\n",
      "100%|██████████| 8/8 [00:01<00:00,  7.02it/s]\n",
      "100%|██████████| 8/8 [00:01<00:00,  7.26it/s]\n",
      "100%|██████████| 3/3 [00:00<00:00,  8.02it/s]\n"
     ]
    },
    {
     "name": "stdout",
     "output_type": "stream",
     "text": [
      "Epoch 1/15, Train Loss: 0.1247, Train R2: -0.4958, Val Loss: 0.1439, Val R2: -0.3785\n",
      "Model saved as checkpoint_epoch_1.pth\n"
     ]
    },
    {
     "name": "stderr",
     "output_type": "stream",
     "text": [
      "100%|██████████| 8/8 [00:02<00:00,  3.57it/s]\n",
      "100%|██████████| 8/8 [00:02<00:00,  3.59it/s]\n",
      "100%|██████████| 8/8 [00:02<00:00,  3.58it/s]\n",
      "100%|██████████| 8/8 [00:02<00:00,  3.54it/s]\n",
      "100%|██████████| 8/8 [00:02<00:00,  3.51it/s]\n",
      "100%|██████████| 8/8 [00:02<00:00,  3.59it/s]\n",
      "100%|██████████| 8/8 [00:02<00:00,  3.51it/s]\n",
      "100%|██████████| 8/8 [00:02<00:00,  3.53it/s]\n",
      "100%|██████████| 8/8 [00:02<00:00,  3.59it/s]\n",
      "100%|██████████| 8/8 [00:02<00:00,  3.59it/s]\n",
      "100%|██████████| 8/8 [00:02<00:00,  3.58it/s]\n",
      "100%|██████████| 8/8 [00:02<00:00,  3.59it/s]\n",
      "100%|██████████| 4/4 [00:01<00:00,  3.72it/s]\n",
      "100%|██████████| 8/8 [00:01<00:00,  7.17it/s]\n",
      "100%|██████████| 8/8 [00:01<00:00,  7.14it/s]\n",
      "100%|██████████| 8/8 [00:01<00:00,  6.94it/s]\n",
      "100%|██████████| 8/8 [00:01<00:00,  6.90it/s]\n",
      "100%|██████████| 3/3 [00:00<00:00,  9.97it/s]\n"
     ]
    },
    {
     "name": "stdout",
     "output_type": "stream",
     "text": [
      "Epoch 2/15, Train Loss: 0.0655, Train R2: 0.3688, Val Loss: 0.0725, Val R2: 0.3238\n",
      "Model saved as checkpoint_epoch_2.pth\n"
     ]
    },
    {
     "name": "stderr",
     "output_type": "stream",
     "text": [
      "100%|██████████| 8/8 [00:02<00:00,  3.53it/s]\n",
      "100%|██████████| 8/8 [00:02<00:00,  3.53it/s]\n",
      "100%|██████████| 8/8 [00:02<00:00,  3.61it/s]\n",
      "100%|██████████| 8/8 [00:02<00:00,  3.60it/s]\n",
      "100%|██████████| 8/8 [00:02<00:00,  3.53it/s]\n",
      "100%|██████████| 8/8 [00:02<00:00,  3.53it/s]\n",
      "100%|██████████| 8/8 [00:02<00:00,  3.54it/s]\n",
      "100%|██████████| 8/8 [00:02<00:00,  3.53it/s]\n",
      "100%|██████████| 8/8 [00:02<00:00,  3.54it/s]\n",
      "100%|██████████| 8/8 [00:02<00:00,  3.53it/s]\n",
      "100%|██████████| 8/8 [00:02<00:00,  3.53it/s]\n",
      "100%|██████████| 8/8 [00:02<00:00,  3.59it/s]\n",
      "100%|██████████| 4/4 [00:01<00:00,  3.73it/s]\n",
      "100%|██████████| 8/8 [00:01<00:00,  7.16it/s]\n",
      "100%|██████████| 8/8 [00:01<00:00,  7.20it/s]\n",
      "100%|██████████| 8/8 [00:01<00:00,  7.09it/s]\n",
      "100%|██████████| 8/8 [00:01<00:00,  7.20it/s]\n",
      "100%|██████████| 3/3 [00:00<00:00,  9.97it/s]\n"
     ]
    },
    {
     "name": "stdout",
     "output_type": "stream",
     "text": [
      "Epoch 3/15, Train Loss: 0.0557, Train R2: 0.4631, Val Loss: 0.0590, Val R2: 0.4453\n",
      "Model saved as checkpoint_epoch_3.pth\n"
     ]
    },
    {
     "name": "stderr",
     "output_type": "stream",
     "text": [
      "100%|██████████| 8/8 [00:02<00:00,  3.52it/s]\n",
      "100%|██████████| 8/8 [00:02<00:00,  3.58it/s]\n",
      "100%|██████████| 8/8 [00:02<00:00,  3.59it/s]\n",
      "100%|██████████| 8/8 [00:02<00:00,  3.52it/s]\n",
      "100%|██████████| 8/8 [00:02<00:00,  3.52it/s]\n",
      "100%|██████████| 8/8 [00:02<00:00,  3.52it/s]\n",
      "100%|██████████| 8/8 [00:02<00:00,  3.52it/s]\n",
      "100%|██████████| 8/8 [00:02<00:00,  3.52it/s]\n",
      "100%|██████████| 8/8 [00:02<00:00,  3.52it/s]\n",
      "100%|██████████| 8/8 [00:02<00:00,  3.56it/s]\n",
      "100%|██████████| 8/8 [00:02<00:00,  3.59it/s]\n",
      "100%|██████████| 8/8 [00:02<00:00,  3.52it/s]\n",
      "100%|██████████| 4/4 [00:01<00:00,  3.71it/s]\n",
      "100%|██████████| 8/8 [00:01<00:00,  7.20it/s]\n",
      "100%|██████████| 8/8 [00:01<00:00,  7.19it/s]\n",
      "100%|██████████| 8/8 [00:01<00:00,  6.95it/s]\n",
      "100%|██████████| 8/8 [00:01<00:00,  6.92it/s]\n",
      "100%|██████████| 3/3 [00:00<00:00, 10.01it/s]\n"
     ]
    },
    {
     "name": "stdout",
     "output_type": "stream",
     "text": [
      "Epoch 4/15, Train Loss: 0.0506, Train R2: 0.5123, Val Loss: 0.0555, Val R2: 0.4574\n",
      "Model saved as checkpoint_epoch_4.pth\n"
     ]
    },
    {
     "name": "stderr",
     "output_type": "stream",
     "text": [
      "100%|██████████| 8/8 [00:02<00:00,  3.59it/s]\n",
      "100%|██████████| 8/8 [00:02<00:00,  3.55it/s]\n",
      "100%|██████████| 8/8 [00:02<00:00,  3.52it/s]\n",
      "100%|██████████| 8/8 [00:02<00:00,  3.53it/s]\n",
      "100%|██████████| 8/8 [00:02<00:00,  3.52it/s]\n",
      "100%|██████████| 8/8 [00:02<00:00,  3.52it/s]\n",
      "100%|██████████| 8/8 [00:02<00:00,  3.58it/s]\n",
      "100%|██████████| 8/8 [00:02<00:00,  3.52it/s]\n",
      "100%|██████████| 8/8 [00:02<00:00,  3.52it/s]\n",
      "100%|██████████| 8/8 [00:02<00:00,  3.53it/s]\n",
      "100%|██████████| 8/8 [00:02<00:00,  3.52it/s]\n",
      "100%|██████████| 8/8 [00:02<00:00,  3.53it/s]\n",
      "100%|██████████| 4/4 [00:01<00:00,  3.72it/s]\n",
      "100%|██████████| 8/8 [00:01<00:00,  7.18it/s]\n",
      "100%|██████████| 8/8 [00:01<00:00,  6.98it/s]\n",
      "100%|██████████| 8/8 [00:01<00:00,  7.07it/s]\n",
      "100%|██████████| 8/8 [00:01<00:00,  7.10it/s]\n",
      "100%|██████████| 3/3 [00:00<00:00,  9.93it/s]\n"
     ]
    },
    {
     "name": "stdout",
     "output_type": "stream",
     "text": [
      "Epoch 5/15, Train Loss: 0.0489, Train R2: 0.5270, Val Loss: 0.0487, Val R2: 0.5392\n",
      "Model saved as checkpoint_epoch_5.pth\n"
     ]
    },
    {
     "name": "stderr",
     "output_type": "stream",
     "text": [
      "100%|██████████| 8/8 [00:02<00:00,  3.59it/s]\n",
      "100%|██████████| 8/8 [00:02<00:00,  3.52it/s]\n",
      "100%|██████████| 8/8 [00:02<00:00,  3.49it/s]\n",
      "100%|██████████| 8/8 [00:02<00:00,  3.52it/s]\n",
      "100%|██████████| 8/8 [00:02<00:00,  3.51it/s]\n",
      "100%|██████████| 8/8 [00:02<00:00,  3.50it/s]\n",
      "100%|██████████| 8/8 [00:02<00:00,  3.57it/s]\n",
      "100%|██████████| 8/8 [00:02<00:00,  3.57it/s]\n",
      "100%|██████████| 8/8 [00:02<00:00,  3.52it/s]\n",
      "100%|██████████| 8/8 [00:02<00:00,  3.58it/s]\n",
      "100%|██████████| 8/8 [00:02<00:00,  3.52it/s]\n",
      "100%|██████████| 8/8 [00:02<00:00,  3.50it/s]\n",
      "100%|██████████| 4/4 [00:01<00:00,  3.69it/s]\n",
      "100%|██████████| 8/8 [00:01<00:00,  6.86it/s]\n",
      "100%|██████████| 8/8 [00:01<00:00,  7.11it/s]\n",
      "100%|██████████| 8/8 [00:01<00:00,  6.99it/s]\n",
      "100%|██████████| 8/8 [00:01<00:00,  6.65it/s]\n",
      "100%|██████████| 3/3 [00:00<00:00,  9.80it/s]\n"
     ]
    },
    {
     "name": "stdout",
     "output_type": "stream",
     "text": [
      "Epoch 6/15, Train Loss: 0.0503, Train R2: 0.5139, Val Loss: 0.0863, Val R2: 0.1822\n"
     ]
    },
    {
     "name": "stderr",
     "output_type": "stream",
     "text": [
      "100%|██████████| 8/8 [00:02<00:00,  3.57it/s]\n",
      "100%|██████████| 8/8 [00:02<00:00,  3.51it/s]\n",
      "100%|██████████| 8/8 [00:02<00:00,  3.57it/s]\n",
      "100%|██████████| 8/8 [00:02<00:00,  3.56it/s]\n",
      "100%|██████████| 8/8 [00:02<00:00,  3.50it/s]\n",
      "100%|██████████| 8/8 [00:02<00:00,  3.48it/s]\n",
      "100%|██████████| 8/8 [00:02<00:00,  3.50it/s]\n",
      "100%|██████████| 8/8 [00:02<00:00,  3.49it/s]\n",
      "100%|██████████| 8/8 [00:02<00:00,  3.50it/s]\n",
      "100%|██████████| 8/8 [00:02<00:00,  3.48it/s]\n",
      "100%|██████████| 8/8 [00:02<00:00,  3.53it/s]\n",
      "100%|██████████| 8/8 [00:02<00:00,  3.50it/s]\n",
      "100%|██████████| 4/4 [00:01<00:00,  3.70it/s]\n",
      "100%|██████████| 8/8 [00:01<00:00,  7.08it/s]\n",
      "100%|██████████| 8/8 [00:01<00:00,  6.64it/s]\n",
      "100%|██████████| 8/8 [00:01<00:00,  6.86it/s]\n",
      "100%|██████████| 8/8 [00:01<00:00,  6.87it/s]\n",
      "100%|██████████| 3/3 [00:00<00:00,  9.94it/s]\n"
     ]
    },
    {
     "name": "stdout",
     "output_type": "stream",
     "text": [
      "Epoch 7/15, Train Loss: 0.0460, Train R2: 0.5579, Val Loss: 0.0705, Val R2: 0.3369\n"
     ]
    },
    {
     "name": "stderr",
     "output_type": "stream",
     "text": [
      "100%|██████████| 8/8 [00:02<00:00,  3.55it/s]\n",
      "100%|██████████| 8/8 [00:02<00:00,  3.46it/s]\n",
      "100%|██████████| 8/8 [00:02<00:00,  3.46it/s]\n",
      "100%|██████████| 8/8 [00:02<00:00,  3.50it/s]\n",
      "100%|██████████| 8/8 [00:02<00:00,  3.46it/s]\n",
      "100%|██████████| 8/8 [00:02<00:00,  3.50it/s]\n",
      "100%|██████████| 8/8 [00:02<00:00,  3.46it/s]\n",
      "100%|██████████| 8/8 [00:02<00:00,  3.48it/s]\n",
      "100%|██████████| 8/8 [00:02<00:00,  3.55it/s]\n",
      "100%|██████████| 8/8 [00:02<00:00,  3.50it/s]\n",
      "100%|██████████| 8/8 [00:02<00:00,  3.45it/s]\n",
      "100%|██████████| 8/8 [00:02<00:00,  3.57it/s]\n",
      "100%|██████████| 4/4 [00:01<00:00,  3.68it/s]\n",
      "100%|██████████| 8/8 [00:01<00:00,  7.13it/s]\n",
      "100%|██████████| 8/8 [00:01<00:00,  6.17it/s]\n",
      "100%|██████████| 8/8 [00:01<00:00,  7.08it/s]\n",
      "100%|██████████| 8/8 [00:01<00:00,  6.75it/s]\n",
      "100%|██████████| 3/3 [00:00<00:00,  9.87it/s]\n"
     ]
    },
    {
     "name": "stdout",
     "output_type": "stream",
     "text": [
      "Epoch 8/15, Train Loss: 0.0443, Train R2: 0.5726, Val Loss: 0.0680, Val R2: 0.3668\n"
     ]
    },
    {
     "name": "stderr",
     "output_type": "stream",
     "text": [
      "100%|██████████| 8/8 [00:02<00:00,  3.56it/s]\n",
      "100%|██████████| 8/8 [00:02<00:00,  3.46it/s]\n",
      "100%|██████████| 8/8 [00:02<00:00,  3.50it/s]\n",
      "100%|██████████| 8/8 [00:02<00:00,  3.56it/s]\n",
      "100%|██████████| 8/8 [00:02<00:00,  3.56it/s]\n",
      "100%|██████████| 8/8 [00:02<00:00,  3.54it/s]\n",
      "100%|██████████| 8/8 [00:02<00:00,  3.57it/s]\n",
      "100%|██████████| 8/8 [00:02<00:00,  3.49it/s]\n",
      "100%|██████████| 8/8 [00:02<00:00,  3.49it/s]\n",
      "100%|██████████| 8/8 [00:02<00:00,  3.48it/s]\n",
      "100%|██████████| 8/8 [00:02<00:00,  3.52it/s]\n",
      "100%|██████████| 8/8 [00:02<00:00,  3.55it/s]\n",
      "100%|██████████| 4/4 [00:01<00:00,  3.69it/s]\n",
      "100%|██████████| 8/8 [00:01<00:00,  6.98it/s]\n",
      "100%|██████████| 8/8 [00:01<00:00,  6.70it/s]\n",
      "100%|██████████| 8/8 [00:01<00:00,  6.71it/s]\n",
      "100%|██████████| 8/8 [00:01<00:00,  7.09it/s]\n",
      "100%|██████████| 3/3 [00:00<00:00,  9.90it/s]\n"
     ]
    },
    {
     "name": "stdout",
     "output_type": "stream",
     "text": [
      "Epoch 9/15, Train Loss: 0.0417, Train R2: 0.5973, Val Loss: 0.0562, Val R2: 0.4660\n"
     ]
    },
    {
     "name": "stderr",
     "output_type": "stream",
     "text": [
      "100%|██████████| 8/8 [00:02<00:00,  3.49it/s]\n",
      "100%|██████████| 8/8 [00:02<00:00,  3.42it/s]\n",
      "100%|██████████| 8/8 [00:02<00:00,  3.48it/s]\n",
      "100%|██████████| 8/8 [00:02<00:00,  3.55it/s]\n",
      "100%|██████████| 8/8 [00:02<00:00,  3.49it/s]\n",
      "100%|██████████| 8/8 [00:02<00:00,  3.48it/s]\n",
      "100%|██████████| 8/8 [00:02<00:00,  3.49it/s]\n",
      "100%|██████████| 8/8 [00:02<00:00,  3.46it/s]\n",
      "100%|██████████| 8/8 [00:02<00:00,  3.56it/s]\n",
      "100%|██████████| 8/8 [00:02<00:00,  3.55it/s]\n",
      "100%|██████████| 8/8 [00:02<00:00,  3.56it/s]\n",
      "100%|██████████| 8/8 [00:02<00:00,  3.54it/s]\n",
      "100%|██████████| 4/4 [00:01<00:00,  3.68it/s]\n",
      "100%|██████████| 8/8 [00:01<00:00,  7.06it/s]\n",
      "100%|██████████| 8/8 [00:01<00:00,  6.63it/s]\n",
      "100%|██████████| 8/8 [00:01<00:00,  7.05it/s]\n",
      "100%|██████████| 8/8 [00:01<00:00,  7.07it/s]\n",
      "100%|██████████| 3/3 [00:00<00:00,  9.90it/s]\n"
     ]
    },
    {
     "name": "stdout",
     "output_type": "stream",
     "text": [
      "Epoch 10/15, Train Loss: 0.0391, Train R2: 0.6223, Val Loss: 0.0579, Val R2: 0.4464\n"
     ]
    },
    {
     "name": "stderr",
     "output_type": "stream",
     "text": [
      "100%|██████████| 8/8 [00:02<00:00,  3.49it/s]\n",
      "100%|██████████| 8/8 [00:02<00:00,  3.50it/s]\n",
      "100%|██████████| 8/8 [00:02<00:00,  3.50it/s]\n",
      "100%|██████████| 8/8 [00:02<00:00,  3.56it/s]\n",
      "100%|██████████| 8/8 [00:02<00:00,  3.54it/s]\n",
      "100%|██████████| 8/8 [00:02<00:00,  3.54it/s]\n",
      "100%|██████████| 8/8 [00:02<00:00,  3.47it/s]\n",
      "100%|██████████| 8/8 [00:02<00:00,  3.50it/s]\n",
      "100%|██████████| 8/8 [00:02<00:00,  3.46it/s]\n",
      "100%|██████████| 8/8 [00:02<00:00,  3.56it/s]\n",
      "100%|██████████| 8/8 [00:02<00:00,  3.54it/s]\n",
      "100%|██████████| 8/8 [00:02<00:00,  3.56it/s]\n",
      "100%|██████████| 4/4 [00:01<00:00,  3.67it/s]\n",
      "100%|██████████| 8/8 [00:01<00:00,  7.07it/s]\n",
      "100%|██████████| 8/8 [00:01<00:00,  6.53it/s]\n",
      "100%|██████████| 8/8 [00:01<00:00,  7.07it/s]\n",
      "100%|██████████| 8/8 [00:01<00:00,  6.75it/s]\n",
      "100%|██████████| 3/3 [00:00<00:00,  9.85it/s]\n"
     ]
    },
    {
     "name": "stdout",
     "output_type": "stream",
     "text": [
      "Epoch 11/15, Train Loss: 0.0439, Train R2: 0.5755, Val Loss: 0.0726, Val R2: 0.3195\n"
     ]
    },
    {
     "name": "stderr",
     "output_type": "stream",
     "text": [
      "100%|██████████| 8/8 [00:02<00:00,  3.57it/s]\n",
      "100%|██████████| 8/8 [00:02<00:00,  3.41it/s]\n",
      "100%|██████████| 8/8 [00:02<00:00,  3.46it/s]\n",
      "100%|██████████| 8/8 [00:02<00:00,  3.56it/s]\n",
      "100%|██████████| 8/8 [00:02<00:00,  3.56it/s]\n",
      "100%|██████████| 8/8 [00:02<00:00,  3.55it/s]\n",
      "100%|██████████| 8/8 [00:02<00:00,  3.49it/s]\n",
      "100%|██████████| 8/8 [00:02<00:00,  3.49it/s]\n",
      "100%|██████████| 8/8 [00:02<00:00,  3.56it/s]\n",
      "100%|██████████| 8/8 [00:02<00:00,  3.49it/s]\n",
      "100%|██████████| 8/8 [00:02<00:00,  3.49it/s]\n",
      "100%|██████████| 8/8 [00:02<00:00,  3.49it/s]\n"
     ]
    },
    {
     "ename": "KeyboardInterrupt",
     "evalue": "",
     "output_type": "error",
     "traceback": [
      "\u001b[0;31m---------------------------------------------------------------------------\u001b[0m",
      "\u001b[0;31mKeyboardInterrupt\u001b[0m                         Traceback (most recent call last)",
      "Cell \u001b[0;32mIn[6], line 1\u001b[0m\n\u001b[0;32m----> 1\u001b[0m \u001b[43mtrain_model\u001b[49m\u001b[43m(\u001b[49m\u001b[43mmodel\u001b[49m\u001b[43m,\u001b[49m\u001b[43m \u001b[49m\u001b[43mtrain_files\u001b[49m\u001b[43m,\u001b[49m\u001b[43m \u001b[49m\u001b[43mval_files\u001b[49m\u001b[43m,\u001b[49m\u001b[43m \u001b[49m\u001b[43mdevice\u001b[49m\u001b[43m,\u001b[49m\u001b[43m \u001b[49m\u001b[43mdense_weight_model\u001b[49m\u001b[43m,\u001b[49m\u001b[43mepochs\u001b[49m\u001b[38;5;241;43m=\u001b[39;49m\u001b[38;5;241;43m15\u001b[39;49m\u001b[43m)\u001b[49m\n",
      "File \u001b[0;32m~/Remote-Sensing-Wealth-Index/train_regression_weighted_loss.py:36\u001b[0m, in \u001b[0;36mtrain_model\u001b[0;34m(model, train_files, val_files, device, dense_weight_model, epochs, learning_rate, batch_size)\u001b[0m\n\u001b[1;32m     33\u001b[0m data_loader_thread\u001b[38;5;241m.\u001b[39mstart()\n\u001b[1;32m     35\u001b[0m \u001b[38;5;28;01mfor\u001b[39;00m idx, train_file \u001b[38;5;129;01min\u001b[39;00m \u001b[38;5;28menumerate\u001b[39m(train_files):\n\u001b[0;32m---> 36\u001b[0m     \u001b[43mdata_loader_thread\u001b[49m\u001b[38;5;241;43m.\u001b[39;49m\u001b[43mjoin\u001b[49m\u001b[43m(\u001b[49m\u001b[43m)\u001b[49m\n\u001b[1;32m     37\u001b[0m     train_loader \u001b[38;5;241m=\u001b[39m data_loader_queue\u001b[38;5;241m.\u001b[39mget()\n\u001b[1;32m     39\u001b[0m     \u001b[38;5;28;01mif\u001b[39;00m idx \u001b[38;5;241m+\u001b[39m \u001b[38;5;241m1\u001b[39m \u001b[38;5;241m<\u001b[39m \u001b[38;5;28mlen\u001b[39m(train_files):\n",
      "File \u001b[0;32m/opt/conda/envs/pytorch/lib/python3.10/threading.py:1096\u001b[0m, in \u001b[0;36mThread.join\u001b[0;34m(self, timeout)\u001b[0m\n\u001b[1;32m   1093\u001b[0m     \u001b[38;5;28;01mraise\u001b[39;00m \u001b[38;5;167;01mRuntimeError\u001b[39;00m(\u001b[38;5;124m\"\u001b[39m\u001b[38;5;124mcannot join current thread\u001b[39m\u001b[38;5;124m\"\u001b[39m)\n\u001b[1;32m   1095\u001b[0m \u001b[38;5;28;01mif\u001b[39;00m timeout \u001b[38;5;129;01mis\u001b[39;00m \u001b[38;5;28;01mNone\u001b[39;00m:\n\u001b[0;32m-> 1096\u001b[0m     \u001b[38;5;28;43mself\u001b[39;49m\u001b[38;5;241;43m.\u001b[39;49m\u001b[43m_wait_for_tstate_lock\u001b[49m\u001b[43m(\u001b[49m\u001b[43m)\u001b[49m\n\u001b[1;32m   1097\u001b[0m \u001b[38;5;28;01melse\u001b[39;00m:\n\u001b[1;32m   1098\u001b[0m     \u001b[38;5;66;03m# the behavior of a negative timeout isn't documented, but\u001b[39;00m\n\u001b[1;32m   1099\u001b[0m     \u001b[38;5;66;03m# historically .join(timeout=x) for x<0 has acted as if timeout=0\u001b[39;00m\n\u001b[1;32m   1100\u001b[0m     \u001b[38;5;28mself\u001b[39m\u001b[38;5;241m.\u001b[39m_wait_for_tstate_lock(timeout\u001b[38;5;241m=\u001b[39m\u001b[38;5;28mmax\u001b[39m(timeout, \u001b[38;5;241m0\u001b[39m))\n",
      "File \u001b[0;32m/opt/conda/envs/pytorch/lib/python3.10/threading.py:1116\u001b[0m, in \u001b[0;36mThread._wait_for_tstate_lock\u001b[0;34m(self, block, timeout)\u001b[0m\n\u001b[1;32m   1113\u001b[0m     \u001b[38;5;28;01mreturn\u001b[39;00m\n\u001b[1;32m   1115\u001b[0m \u001b[38;5;28;01mtry\u001b[39;00m:\n\u001b[0;32m-> 1116\u001b[0m     \u001b[38;5;28;01mif\u001b[39;00m \u001b[43mlock\u001b[49m\u001b[38;5;241;43m.\u001b[39;49m\u001b[43macquire\u001b[49m\u001b[43m(\u001b[49m\u001b[43mblock\u001b[49m\u001b[43m,\u001b[49m\u001b[43m \u001b[49m\u001b[43mtimeout\u001b[49m\u001b[43m)\u001b[49m:\n\u001b[1;32m   1117\u001b[0m         lock\u001b[38;5;241m.\u001b[39mrelease()\n\u001b[1;32m   1118\u001b[0m         \u001b[38;5;28mself\u001b[39m\u001b[38;5;241m.\u001b[39m_stop()\n",
      "\u001b[0;31mKeyboardInterrupt\u001b[0m: "
     ]
    }
   ],
   "source": [
    "train_model(model, train_loaders, val_loaders, device, dense_weight_model,epochs=15)"
   ]
  }
 ],
 "metadata": {
  "kernelspec": {
   "display_name": "myenv",
   "language": "python",
   "name": "python3"
  },
  "language_info": {
   "codemirror_mode": {
    "name": "ipython",
    "version": 3
   },
   "file_extension": ".py",
   "mimetype": "text/x-python",
   "name": "python",
   "nbconvert_exporter": "python",
   "pygments_lexer": "ipython3",
   "version": "3.10.13"
  }
 },
 "nbformat": 4,
 "nbformat_minor": 2
}
