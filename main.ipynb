{
 "cells": [
  {
   "cell_type": "code",
   "execution_count": 1,
   "metadata": {},
   "outputs": [
    {
     "name": "stderr",
     "output_type": "stream",
     "text": [
      "2024-02-08 09:23:13.728389: E external/local_xla/xla/stream_executor/cuda/cuda_dnn.cc:9261] Unable to register cuDNN factory: Attempting to register factory for plugin cuDNN when one has already been registered\n",
      "2024-02-08 09:23:13.728442: E external/local_xla/xla/stream_executor/cuda/cuda_fft.cc:607] Unable to register cuFFT factory: Attempting to register factory for plugin cuFFT when one has already been registered\n",
      "2024-02-08 09:23:13.878961: E external/local_xla/xla/stream_executor/cuda/cuda_blas.cc:1515] Unable to register cuBLAS factory: Attempting to register factory for plugin cuBLAS when one has already been registered\n",
      "2024-02-08 09:23:14.182118: I tensorflow/core/platform/cpu_feature_guard.cc:182] This TensorFlow binary is optimized to use available CPU instructions in performance-critical operations.\n",
      "To enable the following instructions: AVX2 FMA, in other operations, rebuild TensorFlow with the appropriate compiler flags.\n",
      "2024-02-08 09:23:15.860776: W tensorflow/compiler/tf2tensorrt/utils/py_utils.cc:38] TF-TRT Warning: Could not find TensorRT\n"
     ]
    }
   ],
   "source": [
    "import torch\n",
    "from model import load_resnet_model\n",
    "from train_regression_weighted_loss_loaded import train_model\n",
    "from dataloader import create_dataloader\n",
    "\n",
    "from utils import sorted_file_paths\n",
    "import torch.nn as nn\n",
    "import torch.optim as optim"
   ]
  },
  {
   "attachments": {},
   "cell_type": "markdown",
   "metadata": {},
   "source": [
    "# Setting up common variables for all experiments"
   ]
  },
  {
   "cell_type": "code",
   "execution_count": 2,
   "metadata": {},
   "outputs": [],
   "source": [
    "LR = 0.001\n",
    "EPOCH = 30\n",
    "\n",
    "device = torch.device('cuda' if torch.cuda.is_available() else 'cpu')\n",
    "train_files = sorted_file_paths('./data/records_unscaled/train/')\n",
    "val_files = sorted_file_paths('./data/records_unscaled/val/')\n",
    "\n",
    "train_loaders = [create_dataloader(file, True, 64) for file in train_files]\n",
    "val_loaders = [create_dataloader(file, True, 64) for file in val_files]\n",
    "\n",
    "training_labels = []\n",
    "for train_loader in train_loaders:\n",
    "    for _, labels in train_loader:\n",
    "        training_labels.extend(labels.detach().cpu().numpy())"
   ]
  },
  {
   "attachments": {},
   "cell_type": "markdown",
   "metadata": {},
   "source": [
    "# Experiment 1: L2 loss"
   ]
  },
  {
   "cell_type": "code",
   "execution_count": 3,
   "metadata": {},
   "outputs": [
    {
     "name": "stderr",
     "output_type": "stream",
     "text": [
      "/opt/conda/envs/pytorch/lib/python3.10/site-packages/torchvision/models/_utils.py:208: UserWarning: The parameter 'pretrained' is deprecated since 0.13 and may be removed in the future, please use 'weights' instead.\n",
      "  warnings.warn(\n",
      "/opt/conda/envs/pytorch/lib/python3.10/site-packages/torchvision/models/_utils.py:223: UserWarning: Arguments other than a weight enum or `None` for 'weights' are deprecated since 0.13 and may be removed in the future. The current behavior is equivalent to passing `weights=ResNet50_Weights.IMAGENET1K_V1`. You can also use `weights=ResNet50_Weights.DEFAULT` to get the most up-to-date weights.\n",
      "  warnings.warn(msg)\n"
     ]
    },
    {
     "name": "stdout",
     "output_type": "stream",
     "text": [
      "Epoch 1/30, Train Loss: 0.2880, Train R2: -0.4291, Train weighted MAE: 1.1318,Val Loss: 0.1096, Val R2: 0.4570, Val weighted MAE: 1.1503\n",
      "Model saved as ex_1/checkpoint_epoch_1.pth\n",
      "Epoch 2/30, Train Loss: 0.1116, Train R2: 0.4460, Train weighted MAE: 1.0442,Val Loss: 0.1462, Val R2: 0.2759, Val weighted MAE: 1.2562\n",
      "Epoch 3/30, Train Loss: 0.1113, Train R2: 0.4477, Train weighted MAE: 0.9655,Val Loss: 0.1790, Val R2: 0.1135, Val weighted MAE: 1.2277\n",
      "Epoch 4/30, Train Loss: 0.0986, Train R2: 0.5107, Train weighted MAE: 0.9203,Val Loss: 0.1323, Val R2: 0.3447, Val weighted MAE: 1.0084\n",
      "Epoch 5/30, Train Loss: 0.0909, Train R2: 0.5490, Train weighted MAE: 0.8929,Val Loss: 0.1430, Val R2: 0.2920, Val weighted MAE: 0.9477\n",
      "Epoch 6/30, Train Loss: 0.0801, Train R2: 0.6023, Train weighted MAE: 0.8584,Val Loss: 0.1229, Val R2: 0.3912, Val weighted MAE: 0.8284\n",
      "Epoch 7/30, Train Loss: 0.0808, Train R2: 0.5990, Train weighted MAE: 0.8656,Val Loss: 0.1081, Val R2: 0.4646, Val weighted MAE: 1.0887\n",
      "Model saved as ex_1/checkpoint_epoch_7.pth\n",
      "Epoch 8/30, Train Loss: 0.0734, Train R2: 0.6358, Train weighted MAE: 0.8092,Val Loss: 0.1299, Val R2: 0.3569, Val weighted MAE: 0.9727\n",
      "Epoch 9/30, Train Loss: 0.0689, Train R2: 0.6582, Train weighted MAE: 0.7172,Val Loss: 0.1238, Val R2: 0.3870, Val weighted MAE: 0.7872\n",
      "Epoch 10/30, Train Loss: 0.0629, Train R2: 0.6878, Train weighted MAE: 0.7732,Val Loss: 0.1395, Val R2: 0.3094, Val weighted MAE: 0.9162\n",
      "Epoch 11/30, Train Loss: 0.0598, Train R2: 0.7034, Train weighted MAE: 0.7110,Val Loss: 0.1363, Val R2: 0.3249, Val weighted MAE: 1.0834\n",
      "Epoch 12/30, Train Loss: 0.0714, Train R2: 0.6458, Train weighted MAE: 0.7022,Val Loss: 0.1309, Val R2: 0.3516, Val weighted MAE: 1.0443\n",
      "Epoch 13/30, Train Loss: 0.0545, Train R2: 0.7297, Train weighted MAE: 0.5651,Val Loss: 0.1394, Val R2: 0.3098, Val weighted MAE: 0.8485\n",
      "Epoch 14/30, Train Loss: 0.0498, Train R2: 0.7528, Train weighted MAE: 0.5993,Val Loss: 0.1117, Val R2: 0.4470, Val weighted MAE: 1.0997\n",
      "Epoch 15/30, Train Loss: 0.0439, Train R2: 0.7823, Train weighted MAE: 0.5202,Val Loss: 0.1424, Val R2: 0.2950, Val weighted MAE: 1.3191\n",
      "Epoch 16/30, Train Loss: 0.0398, Train R2: 0.8027, Train weighted MAE: 0.4108,Val Loss: 0.1407, Val R2: 0.3034, Val weighted MAE: 1.0237\n",
      "Epoch 17/30, Train Loss: 0.0442, Train R2: 0.7809, Train weighted MAE: 0.4527,Val Loss: 0.1142, Val R2: 0.4342, Val weighted MAE: 0.7964\n",
      "Epoch 18/30, Train Loss: 0.0394, Train R2: 0.8044, Train weighted MAE: 0.4063,Val Loss: 0.1123, Val R2: 0.4439, Val weighted MAE: 0.8765\n",
      "Epoch 19/30, Train Loss: 0.0360, Train R2: 0.8213, Train weighted MAE: 0.3433,Val Loss: 0.1486, Val R2: 0.2642, Val weighted MAE: 0.8118\n",
      "Epoch 20/30, Train Loss: 0.0308, Train R2: 0.8470, Train weighted MAE: 0.2633,Val Loss: 0.1192, Val R2: 0.4095, Val weighted MAE: 0.9164\n",
      "Epoch 21/30, Train Loss: 0.0288, Train R2: 0.8573, Train weighted MAE: 0.2605,Val Loss: 0.1153, Val R2: 0.4289, Val weighted MAE: 0.9074\n",
      "Epoch 22/30, Train Loss: 0.0309, Train R2: 0.8469, Train weighted MAE: 0.2792,Val Loss: 0.1161, Val R2: 0.4249, Val weighted MAE: 1.0394\n",
      "Epoch 23/30, Train Loss: 0.0270, Train R2: 0.8658, Train weighted MAE: 0.2493,Val Loss: 0.1564, Val R2: 0.2256, Val weighted MAE: 1.2496\n",
      "Epoch 24/30, Train Loss: 0.0263, Train R2: 0.8693, Train weighted MAE: 0.3144,Val Loss: 0.1406, Val R2: 0.3039, Val weighted MAE: 1.2335\n",
      "Epoch 25/30, Train Loss: 0.0224, Train R2: 0.8889, Train weighted MAE: 0.2472,Val Loss: 0.1055, Val R2: 0.4777, Val weighted MAE: 0.9717\n",
      "Model saved as ex_1/checkpoint_epoch_25.pth\n",
      "Epoch 26/30, Train Loss: 0.0197, Train R2: 0.9023, Train weighted MAE: 0.1616,Val Loss: 0.1110, Val R2: 0.4504, Val weighted MAE: 0.8999\n",
      "Epoch 27/30, Train Loss: 0.0211, Train R2: 0.8951, Train weighted MAE: 0.1840,Val Loss: 0.1077, Val R2: 0.4665, Val weighted MAE: 1.0287\n",
      "Epoch 28/30, Train Loss: 0.0244, Train R2: 0.8791, Train weighted MAE: 0.1835,Val Loss: 0.1194, Val R2: 0.4088, Val weighted MAE: 1.0769\n",
      "Epoch 29/30, Train Loss: 0.0291, Train R2: 0.8556, Train weighted MAE: 0.2415,Val Loss: 0.1066, Val R2: 0.4722, Val weighted MAE: 1.1046\n",
      "Epoch 30/30, Train Loss: 0.0461, Train R2: 0.7710, Train weighted MAE: 0.4195,Val Loss: 0.1287, Val R2: 0.3626, Val weighted MAE: 1.1755\n",
      "Model saved as ex_1/final_model.pth\n",
      "Training completed and final model saved.\n"
     ]
    }
   ],
   "source": [
    "ex = 'ex_1'\n",
    "loss =  nn.MSELoss()\n",
    "model = load_resnet_model('resnet50', num_classes=1)\n",
    "optimizer = optim.Adam(model.parameters(), LR)\n",
    "\n",
    "train_model(model, loss, optimizer, train_loaders, val_loaders, device, ex, epochs=EPOCH)"
   ]
  },
  {
   "attachments": {},
   "cell_type": "markdown",
   "metadata": {},
   "source": [
    "# Experiment 2: L3 loss"
   ]
  },
  {
   "cell_type": "code",
   "execution_count": 4,
   "metadata": {},
   "outputs": [
    {
     "name": "stderr",
     "output_type": "stream",
     "text": [
      "/opt/conda/envs/pytorch/lib/python3.10/site-packages/torchvision/models/_utils.py:208: UserWarning: The parameter 'pretrained' is deprecated since 0.13 and may be removed in the future, please use 'weights' instead.\n",
      "  warnings.warn(\n",
      "/opt/conda/envs/pytorch/lib/python3.10/site-packages/torchvision/models/_utils.py:223: UserWarning: Arguments other than a weight enum or `None` for 'weights' are deprecated since 0.13 and may be removed in the future. The current behavior is equivalent to passing `weights=ResNet50_Weights.IMAGENET1K_V1`. You can also use `weights=ResNet50_Weights.DEFAULT` to get the most up-to-date weights.\n",
      "  warnings.warn(msg)\n"
     ]
    },
    {
     "name": "stdout",
     "output_type": "stream",
     "text": [
      "Epoch 1/30, Train Loss: 0.6665, Train R2: -1.0174, Train weighted MAE: 1.4130,Val Loss: 0.1357, Val R2: 0.0314, Val weighted MAE: 1.3625\n",
      "Model saved as ex_2/checkpoint_epoch_1.pth\n",
      "Epoch 2/30, Train Loss: 0.1258, Train R2: 0.0733, Train weighted MAE: 1.3429,Val Loss: 0.0977, Val R2: 0.2533, Val weighted MAE: 1.2221\n",
      "Model saved as ex_2/checkpoint_epoch_2.pth\n",
      "Epoch 3/30, Train Loss: 0.0777, Train R2: 0.3540, Train weighted MAE: 1.1888,Val Loss: 0.0772, Val R2: 0.3834, Val weighted MAE: 0.9952\n",
      "Model saved as ex_2/checkpoint_epoch_3.pth\n",
      "Epoch 4/30, Train Loss: 0.0621, Train R2: 0.4531, Train weighted MAE: 1.1084,Val Loss: 0.0806, Val R2: 0.3839, Val weighted MAE: 0.9626\n",
      "Epoch 5/30, Train Loss: 0.0555, Train R2: 0.4933, Train weighted MAE: 1.0476,Val Loss: 0.0750, Val R2: 0.4018, Val weighted MAE: 0.9645\n",
      "Model saved as ex_2/checkpoint_epoch_5.pth\n",
      "Epoch 6/30, Train Loss: 0.0506, Train R2: 0.5224, Train weighted MAE: 0.9902,Val Loss: 0.0693, Val R2: 0.4426, Val weighted MAE: 0.9106\n",
      "Model saved as ex_2/checkpoint_epoch_6.pth\n",
      "Epoch 7/30, Train Loss: 0.0458, Train R2: 0.5510, Train weighted MAE: 0.9325,Val Loss: 0.0657, Val R2: 0.4559, Val weighted MAE: 0.8676\n",
      "Model saved as ex_2/checkpoint_epoch_7.pth\n",
      "Epoch 8/30, Train Loss: 0.0416, Train R2: 0.5757, Train weighted MAE: 0.8776,Val Loss: 0.0795, Val R2: 0.4097, Val weighted MAE: 0.8446\n",
      "Epoch 9/30, Train Loss: 0.0375, Train R2: 0.6008, Train weighted MAE: 0.8116,Val Loss: 0.0774, Val R2: 0.4211, Val weighted MAE: 0.7901\n",
      "Epoch 10/30, Train Loss: 0.0346, Train R2: 0.6192, Train weighted MAE: 0.7607,Val Loss: 0.0764, Val R2: 0.4100, Val weighted MAE: 0.8975\n",
      "Epoch 11/30, Train Loss: 0.0307, Train R2: 0.6475, Train weighted MAE: 0.6766,Val Loss: 0.0580, Val R2: 0.5006, Val weighted MAE: 0.7914\n",
      "Model saved as ex_2/checkpoint_epoch_11.pth\n",
      "Epoch 12/30, Train Loss: 0.0273, Train R2: 0.6711, Train weighted MAE: 0.6134,Val Loss: 0.0715, Val R2: 0.4369, Val weighted MAE: 0.8907\n",
      "Epoch 13/30, Train Loss: 0.0242, Train R2: 0.6948, Train weighted MAE: 0.5189,Val Loss: 0.0675, Val R2: 0.4518, Val weighted MAE: 0.8792\n",
      "Epoch 14/30, Train Loss: 0.0225, Train R2: 0.7116, Train weighted MAE: 0.6168,Val Loss: 0.0762, Val R2: 0.4095, Val weighted MAE: 0.8719\n",
      "Epoch 15/30, Train Loss: 0.0201, Train R2: 0.7327, Train weighted MAE: 0.4821,Val Loss: 0.0828, Val R2: 0.3573, Val weighted MAE: 0.6642\n",
      "Epoch 16/30, Train Loss: 0.0201, Train R2: 0.7375, Train weighted MAE: 0.4281,Val Loss: 0.1008, Val R2: 0.2740, Val weighted MAE: 0.8738\n",
      "Epoch 17/30, Train Loss: 0.0191, Train R2: 0.7452, Train weighted MAE: 0.4086,Val Loss: 0.0831, Val R2: 0.3428, Val weighted MAE: 0.7051\n",
      "Epoch 18/30, Train Loss: 0.0191, Train R2: 0.7439, Train weighted MAE: 0.4698,Val Loss: 0.0629, Val R2: 0.4585, Val weighted MAE: 0.6634\n",
      "Epoch 19/30, Train Loss: 0.0149, Train R2: 0.7857, Train weighted MAE: 0.3257,Val Loss: 0.0897, Val R2: 0.3416, Val weighted MAE: 1.0169\n",
      "Epoch 20/30, Train Loss: 0.0122, Train R2: 0.8149, Train weighted MAE: 0.2746,Val Loss: 0.0811, Val R2: 0.3701, Val weighted MAE: 0.9321\n",
      "Epoch 21/30, Train Loss: 0.0110, Train R2: 0.8274, Train weighted MAE: 0.3046,Val Loss: 0.0647, Val R2: 0.4508, Val weighted MAE: 0.8599\n",
      "Epoch 22/30, Train Loss: 0.0110, Train R2: 0.8359, Train weighted MAE: 0.1918,Val Loss: 0.0724, Val R2: 0.4063, Val weighted MAE: 0.8431\n",
      "Epoch 23/30, Train Loss: 0.0124, Train R2: 0.8244, Train weighted MAE: 0.1942,Val Loss: 0.0832, Val R2: 0.3603, Val weighted MAE: 1.0355\n",
      "Epoch 24/30, Train Loss: 0.0125, Train R2: 0.8256, Train weighted MAE: 0.2286,Val Loss: 0.0764, Val R2: 0.3843, Val weighted MAE: 0.9990\n",
      "Epoch 25/30, Train Loss: 0.0151, Train R2: 0.8095, Train weighted MAE: 0.2759,Val Loss: 0.0983, Val R2: 0.2897, Val weighted MAE: 1.1582\n",
      "Epoch 26/30, Train Loss: 0.0177, Train R2: 0.7825, Train weighted MAE: 0.3205,Val Loss: 0.0694, Val R2: 0.4044, Val weighted MAE: 0.8189\n",
      "Epoch 27/30, Train Loss: 0.0209, Train R2: 0.7603, Train weighted MAE: 0.2811,Val Loss: 0.1501, Val R2: 0.1398, Val weighted MAE: 0.9576\n",
      "Epoch 28/30, Train Loss: 0.0183, Train R2: 0.7647, Train weighted MAE: 0.2725,Val Loss: 0.5245, Val R2: -0.5906, Val weighted MAE: 1.1395\n",
      "Epoch 29/30, Train Loss: 0.0381, Train R2: 0.5975, Train weighted MAE: 0.5632,Val Loss: 0.0982, Val R2: 0.3405, Val weighted MAE: 0.9440\n",
      "Epoch 30/30, Train Loss: 0.0143, Train R2: 0.7934, Train weighted MAE: 0.2896,Val Loss: 0.0870, Val R2: 0.4175, Val weighted MAE: 0.9432\n",
      "Model saved as ex_2/final_model.pth\n",
      "Training completed and final model saved.\n"
     ]
    }
   ],
   "source": [
    "from weighted_L3_loss import L3Loss\n",
    "\n",
    "ex = 'ex_2'\n",
    "loss =  L3Loss()\n",
    "model = load_resnet_model('resnet50', num_classes=1)\n",
    "optimizer = optim.Adam(model.parameters(), LR)\n",
    "\n",
    "train_model(model, loss, optimizer, train_loaders, val_loaders, device, ex, epochs=EPOCH)"
   ]
  },
  {
   "attachments": {},
   "cell_type": "markdown",
   "metadata": {},
   "source": [
    "# Experiment 3: Weighted MSE with dense_weight model, alpha = 0.25"
   ]
  },
  {
   "cell_type": "code",
   "execution_count": 5,
   "metadata": {},
   "outputs": [],
   "source": [
    "from dense_weight import DenseWeight\n",
    "from weighted_MSE_loss import WeightedMSELoss"
   ]
  },
  {
   "cell_type": "code",
   "execution_count": 6,
   "metadata": {},
   "outputs": [
    {
     "name": "stderr",
     "output_type": "stream",
     "text": [
      "/opt/conda/envs/pytorch/lib/python3.10/site-packages/torchvision/models/_utils.py:208: UserWarning: The parameter 'pretrained' is deprecated since 0.13 and may be removed in the future, please use 'weights' instead.\n",
      "  warnings.warn(\n",
      "/opt/conda/envs/pytorch/lib/python3.10/site-packages/torchvision/models/_utils.py:223: UserWarning: Arguments other than a weight enum or `None` for 'weights' are deprecated since 0.13 and may be removed in the future. The current behavior is equivalent to passing `weights=ResNet50_Weights.IMAGENET1K_V1`. You can also use `weights=ResNet50_Weights.DEFAULT` to get the most up-to-date weights.\n",
      "  warnings.warn(msg)\n"
     ]
    },
    {
     "name": "stdout",
     "output_type": "stream",
     "text": [
      "Epoch 1/30, Train Loss: 0.2758, Train R2: -0.3343, Train weighted MAE: 1.1413,Val Loss: 0.1322, Val R2: 0.3989, Val weighted MAE: 1.1271\n",
      "Model saved as ex_3/checkpoint_epoch_1.pth\n",
      "Epoch 2/30, Train Loss: 0.1068, Train R2: 0.4921, Train weighted MAE: 1.0636,Val Loss: 0.1756, Val R2: 0.2111, Val weighted MAE: 1.3107\n",
      "Epoch 3/30, Train Loss: 0.0963, Train R2: 0.5407, Train weighted MAE: 0.9641,Val Loss: 0.1472, Val R2: 0.3352, Val weighted MAE: 1.1433\n",
      "Epoch 4/30, Train Loss: 0.0910, Train R2: 0.5653, Train weighted MAE: 0.9368,Val Loss: 0.1551, Val R2: 0.3044, Val weighted MAE: 1.2621\n",
      "Epoch 5/30, Train Loss: 0.0852, Train R2: 0.5925, Train weighted MAE: 0.8765,Val Loss: 0.1440, Val R2: 0.3462, Val weighted MAE: 1.0986\n",
      "Epoch 6/30, Train Loss: 0.0773, Train R2: 0.6299, Train weighted MAE: 0.7684,Val Loss: 0.1752, Val R2: 0.2094, Val weighted MAE: 1.2945\n",
      "Epoch 7/30, Train Loss: 0.0694, Train R2: 0.6668, Train weighted MAE: 0.6779,Val Loss: 0.1761, Val R2: 0.2105, Val weighted MAE: 1.4460\n",
      "Epoch 8/30, Train Loss: 0.0643, Train R2: 0.6919, Train weighted MAE: 0.6316,Val Loss: 0.1615, Val R2: 0.2728, Val weighted MAE: 1.3028\n",
      "Epoch 9/30, Train Loss: 0.0603, Train R2: 0.7099, Train weighted MAE: 0.6629,Val Loss: 0.1357, Val R2: 0.3837, Val weighted MAE: 1.0892\n",
      "Epoch 10/30, Train Loss: 0.0529, Train R2: 0.7446, Train weighted MAE: 0.5948,Val Loss: 0.1242, Val R2: 0.4278, Val weighted MAE: 1.0830\n",
      "Model saved as ex_3/checkpoint_epoch_10.pth\n",
      "Epoch 11/30, Train Loss: 0.0531, Train R2: 0.7426, Train weighted MAE: 0.4892,Val Loss: 0.1528, Val R2: 0.3057, Val weighted MAE: 1.1320\n",
      "Epoch 12/30, Train Loss: 0.0583, Train R2: 0.7179, Train weighted MAE: 0.5892,Val Loss: 0.1914, Val R2: 0.1181, Val weighted MAE: 0.8549\n",
      "Epoch 13/30, Train Loss: 0.0569, Train R2: 0.7236, Train weighted MAE: 0.5718,Val Loss: 0.1539, Val R2: 0.2849, Val weighted MAE: 0.9377\n",
      "Epoch 14/30, Train Loss: 0.0548, Train R2: 0.7328, Train weighted MAE: 0.5032,Val Loss: 0.1484, Val R2: 0.3124, Val weighted MAE: 1.0231\n",
      "Epoch 15/30, Train Loss: 0.0605, Train R2: 0.7044, Train weighted MAE: 0.4859,Val Loss: 0.1468, Val R2: 0.3190, Val weighted MAE: 1.0175\n",
      "Epoch 16/30, Train Loss: 0.0751, Train R2: 0.6317, Train weighted MAE: 0.5484,Val Loss: 0.2435, Val R2: -0.0990, Val weighted MAE: 1.3914\n",
      "Epoch 17/30, Train Loss: 0.0723, Train R2: 0.6457, Train weighted MAE: 0.4612,Val Loss: 0.1823, Val R2: 0.1683, Val weighted MAE: 0.8402\n",
      "Epoch 18/30, Train Loss: 0.0612, Train R2: 0.7009, Train weighted MAE: 0.4347,Val Loss: 0.1462, Val R2: 0.2819, Val weighted MAE: 0.7829\n",
      "Epoch 19/30, Train Loss: 0.0690, Train R2: 0.6591, Train weighted MAE: 0.3117,Val Loss: 0.1433, Val R2: 0.3027, Val weighted MAE: 0.6264\n",
      "Epoch 20/30, Train Loss: 0.0722, Train R2: 0.6447, Train weighted MAE: 0.3744,Val Loss: 0.1407, Val R2: 0.3187, Val weighted MAE: 0.6760\n",
      "Epoch 21/30, Train Loss: 0.0680, Train R2: 0.6657, Train weighted MAE: 0.3342,Val Loss: 0.1111, Val R2: 0.4734, Val weighted MAE: 0.7697\n",
      "Model saved as ex_3/checkpoint_epoch_21.pth\n",
      "Epoch 22/30, Train Loss: 0.0530, Train R2: 0.7386, Train weighted MAE: 0.2715,Val Loss: 0.1149, Val R2: 0.4385, Val weighted MAE: 0.7411\n",
      "Epoch 23/30, Train Loss: 0.0552, Train R2: 0.7273, Train weighted MAE: 0.2701,Val Loss: 0.1133, Val R2: 0.4658, Val weighted MAE: 0.9538\n",
      "Epoch 24/30, Train Loss: 0.0524, Train R2: 0.7420, Train weighted MAE: 0.3078,Val Loss: 0.2050, Val R2: -0.0395, Val weighted MAE: 0.7839\n",
      "Epoch 25/30, Train Loss: 0.0455, Train R2: 0.7766, Train weighted MAE: 0.2968,Val Loss: 0.1580, Val R2: 0.2105, Val weighted MAE: 0.7961\n",
      "Epoch 26/30, Train Loss: 0.0372, Train R2: 0.8169, Train weighted MAE: 0.2688,Val Loss: 0.1295, Val R2: 0.3693, Val weighted MAE: 0.8518\n",
      "Epoch 27/30, Train Loss: 0.0361, Train R2: 0.8223, Train weighted MAE: 0.1944,Val Loss: 0.1702, Val R2: 0.2321, Val weighted MAE: 1.2728\n",
      "Epoch 28/30, Train Loss: 0.0298, Train R2: 0.8526, Train weighted MAE: 0.1446,Val Loss: 0.1311, Val R2: 0.3938, Val weighted MAE: 1.0203\n",
      "Epoch 29/30, Train Loss: 0.0271, Train R2: 0.8659, Train weighted MAE: 0.2181,Val Loss: 0.1203, Val R2: 0.4176, Val weighted MAE: 0.9091\n",
      "Epoch 30/30, Train Loss: 0.0284, Train R2: 0.8589, Train weighted MAE: 0.2199,Val Loss: 0.1562, Val R2: 0.2255, Val weighted MAE: 0.7615\n",
      "Model saved as ex_3/final_model.pth\n",
      "Training completed and final model saved.\n"
     ]
    }
   ],
   "source": [
    "ex = 'ex_3'\n",
    "\n",
    "dense_weight_model = DenseWeight(0.25)\n",
    "dense_weight_model.fit(training_labels)\n",
    "loss =  WeightedMSELoss(dense_weight_model)\n",
    "model = load_resnet_model('resnet50', num_classes=1)\n",
    "optimizer = optim.Adam(model.parameters(), LR)\n",
    "\n",
    "train_model(model, loss, optimizer, train_loaders, val_loaders, device, ex, epochs=EPOCH)"
   ]
  },
  {
   "attachments": {},
   "cell_type": "markdown",
   "metadata": {},
   "source": [
    "# Experiment 4: Weighted MSE with dense_weight model, alpha = 0.5"
   ]
  },
  {
   "cell_type": "code",
   "execution_count": 7,
   "metadata": {},
   "outputs": [
    {
     "name": "stderr",
     "output_type": "stream",
     "text": [
      "/opt/conda/envs/pytorch/lib/python3.10/site-packages/torchvision/models/_utils.py:208: UserWarning: The parameter 'pretrained' is deprecated since 0.13 and may be removed in the future, please use 'weights' instead.\n",
      "  warnings.warn(\n",
      "/opt/conda/envs/pytorch/lib/python3.10/site-packages/torchvision/models/_utils.py:223: UserWarning: Arguments other than a weight enum or `None` for 'weights' are deprecated since 0.13 and may be removed in the future. The current behavior is equivalent to passing `weights=ResNet50_Weights.IMAGENET1K_V1`. You can also use `weights=ResNet50_Weights.DEFAULT` to get the most up-to-date weights.\n",
      "  warnings.warn(msg)\n"
     ]
    },
    {
     "name": "stdout",
     "output_type": "stream",
     "text": [
      "Epoch 1/30, Train Loss: 0.2673, Train R2: -0.2656, Train weighted MAE: 1.0710,Val Loss: 0.1355, Val R2: 0.4066, Val weighted MAE: 1.0151\n",
      "Model saved as ex_4/checkpoint_epoch_1.pth\n",
      "Epoch 2/30, Train Loss: 0.1211, Train R2: 0.4398, Train weighted MAE: 1.0193,Val Loss: 0.1424, Val R2: 0.4115, Val weighted MAE: 1.1602\n",
      "Epoch 3/30, Train Loss: 0.1099, Train R2: 0.4925, Train weighted MAE: 0.9838,Val Loss: 0.1100, Val R2: 0.5162, Val weighted MAE: 1.0283\n",
      "Model saved as ex_4/checkpoint_epoch_3.pth\n",
      "Epoch 4/30, Train Loss: 0.0988, Train R2: 0.5427, Train weighted MAE: 0.9206,Val Loss: 0.1220, Val R2: 0.4856, Val weighted MAE: 1.1126\n",
      "Epoch 5/30, Train Loss: 0.0976, Train R2: 0.5471, Train weighted MAE: 0.8967,Val Loss: 0.1696, Val R2: 0.1390, Val weighted MAE: 0.8132\n",
      "Epoch 6/30, Train Loss: 0.1106, Train R2: 0.4850, Train weighted MAE: 1.0108,Val Loss: 0.1273, Val R2: 0.4821, Val weighted MAE: 1.0776\n",
      "Epoch 7/30, Train Loss: 0.0910, Train R2: 0.5771, Train weighted MAE: 0.8846,Val Loss: 0.1229, Val R2: 0.4992, Val weighted MAE: 1.0640\n",
      "Epoch 8/30, Train Loss: 0.0891, Train R2: 0.5828, Train weighted MAE: 0.9036,Val Loss: 0.1329, Val R2: 0.4116, Val weighted MAE: 0.9317\n",
      "Epoch 9/30, Train Loss: 0.0841, Train R2: 0.6073, Train weighted MAE: 0.8006,Val Loss: 0.1082, Val R2: 0.5159, Val weighted MAE: 0.7901\n",
      "Model saved as ex_4/checkpoint_epoch_9.pth\n",
      "Epoch 10/30, Train Loss: 0.0902, Train R2: 0.5775, Train weighted MAE: 0.8353,Val Loss: 0.1371, Val R2: 0.4216, Val weighted MAE: 0.9073\n",
      "Epoch 11/30, Train Loss: 0.0781, Train R2: 0.6342, Train weighted MAE: 0.7277,Val Loss: 2.4513, Val R2: -8.1757, Val weighted MAE: 0.9541\n",
      "Epoch 12/30, Train Loss: 0.0693, Train R2: 0.6717, Train weighted MAE: 0.6742,Val Loss: 0.3333, Val R2: -0.2736, Val weighted MAE: 0.9958\n",
      "Epoch 13/30, Train Loss: 0.0672, Train R2: 0.6796, Train weighted MAE: 0.5746,Val Loss: 0.1759, Val R2: 0.2532, Val weighted MAE: 1.1903\n",
      "Epoch 14/30, Train Loss: 0.0647, Train R2: 0.6898, Train weighted MAE: 0.5730,Val Loss: 0.3767, Val R2: -0.7280, Val weighted MAE: 1.1906\n",
      "Epoch 15/30, Train Loss: 0.0611, Train R2: 0.7050, Train weighted MAE: 0.3961,Val Loss: 0.1333, Val R2: 0.4078, Val weighted MAE: 0.8520\n",
      "Epoch 16/30, Train Loss: 0.0566, Train R2: 0.7262, Train weighted MAE: 0.4158,Val Loss: 0.1518, Val R2: 0.3740, Val weighted MAE: 1.0291\n",
      "Epoch 17/30, Train Loss: 0.0533, Train R2: 0.7400, Train weighted MAE: 0.3984,Val Loss: 0.1469, Val R2: 0.3435, Val weighted MAE: 0.8461\n",
      "Epoch 18/30, Train Loss: 0.0784, Train R2: 0.6217, Train weighted MAE: 0.4176,Val Loss: 0.1286, Val R2: 0.4295, Val weighted MAE: 0.9323\n",
      "Epoch 19/30, Train Loss: 0.0707, Train R2: 0.6623, Train weighted MAE: 0.4505,Val Loss: 0.1314, Val R2: 0.4200, Val weighted MAE: 0.8448\n",
      "Epoch 20/30, Train Loss: 0.0461, Train R2: 0.7753, Train weighted MAE: 0.2884,Val Loss: 0.1461, Val R2: 0.3687, Val weighted MAE: 0.9752\n",
      "Epoch 21/30, Train Loss: 0.0384, Train R2: 0.8124, Train weighted MAE: 0.2082,Val Loss: 0.1660, Val R2: 0.2765, Val weighted MAE: 1.0373\n",
      "Epoch 22/30, Train Loss: 0.0460, Train R2: 0.7733, Train weighted MAE: 0.2181,Val Loss: 0.1381, Val R2: 0.3751, Val weighted MAE: 0.8601\n",
      "Epoch 23/30, Train Loss: 0.0384, Train R2: 0.8123, Train weighted MAE: 0.2001,Val Loss: 0.1407, Val R2: 0.3768, Val weighted MAE: 0.8968\n",
      "Epoch 24/30, Train Loss: 0.0357, Train R2: 0.8240, Train weighted MAE: 0.1928,Val Loss: 0.1258, Val R2: 0.4186, Val weighted MAE: 0.9070\n",
      "Epoch 25/30, Train Loss: 0.0393, Train R2: 0.8054, Train weighted MAE: 0.2710,Val Loss: 0.1353, Val R2: 0.4059, Val weighted MAE: 0.9612\n",
      "Epoch 26/30, Train Loss: 0.0334, Train R2: 0.8338, Train weighted MAE: 0.1291,Val Loss: 0.1333, Val R2: 0.4002, Val weighted MAE: 0.8890\n",
      "Epoch 27/30, Train Loss: 0.0373, Train R2: 0.8137, Train weighted MAE: 0.2704,Val Loss: 0.1348, Val R2: 0.3955, Val weighted MAE: 0.8803\n",
      "Epoch 28/30, Train Loss: 0.0311, Train R2: 0.8473, Train weighted MAE: 0.1353,Val Loss: 0.1505, Val R2: 0.2931, Val weighted MAE: 0.8475\n",
      "Epoch 29/30, Train Loss: 0.0250, Train R2: 0.8768, Train weighted MAE: 0.2117,Val Loss: 0.1728, Val R2: 0.1325, Val weighted MAE: 0.7294\n",
      "Epoch 30/30, Train Loss: 0.0198, Train R2: 0.9027, Train weighted MAE: 0.1351,Val Loss: 0.1326, Val R2: 0.4392, Val weighted MAE: 0.9566\n",
      "Model saved as ex_4/final_model.pth\n",
      "Training completed and final model saved.\n"
     ]
    }
   ],
   "source": [
    "ex = 'ex_4'\n",
    "\n",
    "dense_weight_model = DenseWeight(0.5)\n",
    "dense_weight_model.fit(training_labels)\n",
    "loss =  WeightedMSELoss(dense_weight_model)\n",
    "model = load_resnet_model('resnet50', num_classes=1)\n",
    "optimizer = optim.Adam(model.parameters(), LR)\n",
    "\n",
    "train_model(model, loss, optimizer, train_loaders, val_loaders, device, ex, epochs=EPOCH)"
   ]
  },
  {
   "attachments": {},
   "cell_type": "markdown",
   "metadata": {},
   "source": [
    "# Experiment 5: Balanced MSE loss"
   ]
  },
  {
   "cell_type": "code",
   "execution_count": 8,
   "metadata": {},
   "outputs": [],
   "source": [
    "from balanced_MSE_loss import BMCLoss"
   ]
  },
  {
   "cell_type": "code",
   "execution_count": 9,
   "metadata": {},
   "outputs": [
    {
     "name": "stderr",
     "output_type": "stream",
     "text": [
      "/opt/conda/envs/pytorch/lib/python3.10/site-packages/torchvision/models/_utils.py:208: UserWarning: The parameter 'pretrained' is deprecated since 0.13 and may be removed in the future, please use 'weights' instead.\n",
      "  warnings.warn(\n",
      "/opt/conda/envs/pytorch/lib/python3.10/site-packages/torchvision/models/_utils.py:223: UserWarning: Arguments other than a weight enum or `None` for 'weights' are deprecated since 0.13 and may be removed in the future. The current behavior is equivalent to passing `weights=ResNet50_Weights.IMAGENET1K_V1`. You can also use `weights=ResNet50_Weights.DEFAULT` to get the most up-to-date weights.\n",
      "  warnings.warn(msg)\n"
     ]
    },
    {
     "name": "stdout",
     "output_type": "stream",
     "text": [
      "Epoch 1/30, Train Loss: 7.8726, Train R2: -35.5074, Train weighted MAE: 0.9916,Val Loss: 7.9179, Val R2: -32.7954, Val weighted MAE: 0.5826\n",
      "Model saved as ex_5/checkpoint_epoch_1.pth\n",
      "Epoch 2/30, Train Loss: 7.4577, Train R2: -41.8921, Train weighted MAE: 1.0491,Val Loss: 7.4064, Val R2: -30.4023, Val weighted MAE: 0.5315\n",
      "Model saved as ex_5/checkpoint_epoch_2.pth\n",
      "Epoch 3/30, Train Loss: 6.9649, Train R2: -44.7569, Train weighted MAE: 0.8912,Val Loss: 6.9640, Val R2: -22.0688, Val weighted MAE: 0.6352\n",
      "Model saved as ex_5/checkpoint_epoch_3.pth\n",
      "Epoch 4/30, Train Loss: 6.3878, Train R2: -40.5093, Train weighted MAE: 1.0433,Val Loss: 6.2343, Val R2: -32.4011, Val weighted MAE: 0.4253\n",
      "Model saved as ex_5/checkpoint_epoch_4.pth\n",
      "Epoch 5/30, Train Loss: 5.7562, Train R2: -38.8489, Train weighted MAE: 1.0593,Val Loss: 5.6468, Val R2: -23.9972, Val weighted MAE: 0.4855\n",
      "Model saved as ex_5/checkpoint_epoch_5.pth\n",
      "Epoch 6/30, Train Loss: 5.1020, Train R2: -34.4166, Train weighted MAE: 1.2230,Val Loss: 4.9627, Val R2: -9.8150, Val weighted MAE: 0.3473\n",
      "Model saved as ex_5/checkpoint_epoch_6.pth\n",
      "Epoch 7/30, Train Loss: 4.4342, Train R2: -29.9797, Train weighted MAE: 0.8382,Val Loss: 4.2926, Val R2: -14.2712, Val weighted MAE: 0.3797\n",
      "Model saved as ex_5/checkpoint_epoch_7.pth\n",
      "Epoch 8/30, Train Loss: 3.7443, Train R2: -24.9729, Train weighted MAE: 0.7878,Val Loss: 3.6412, Val R2: -26.9788, Val weighted MAE: 0.5396\n",
      "Model saved as ex_5/checkpoint_epoch_8.pth\n",
      "Epoch 9/30, Train Loss: 3.0724, Train R2: -20.0454, Train weighted MAE: 0.7687,Val Loss: 2.9676, Val R2: -14.4305, Val weighted MAE: 0.4688\n",
      "Model saved as ex_5/checkpoint_epoch_9.pth\n",
      "Epoch 10/30, Train Loss: 2.4221, Train R2: -14.9775, Train weighted MAE: 0.6463,Val Loss: 2.3402, Val R2: -3.7056, Val weighted MAE: 0.5101\n",
      "Model saved as ex_5/checkpoint_epoch_10.pth\n",
      "Epoch 11/30, Train Loss: 1.8647, Train R2: -10.3387, Train weighted MAE: 0.5767,Val Loss: 1.7794, Val R2: -4.9894, Val weighted MAE: 0.6916\n",
      "Model saved as ex_5/checkpoint_epoch_11.pth\n",
      "Epoch 12/30, Train Loss: 1.5180, Train R2: -4.6974, Train weighted MAE: 0.4278,Val Loss: 1.4906, Val R2: -0.9417, Val weighted MAE: 0.6181\n",
      "Model saved as ex_5/checkpoint_epoch_12.pth\n",
      "Epoch 13/30, Train Loss: 1.2183, Train R2: -3.3683, Train weighted MAE: 0.3208,Val Loss: 1.1771, Val R2: -3.5721, Val weighted MAE: 0.6574\n",
      "Model saved as ex_5/checkpoint_epoch_13.pth\n",
      "Epoch 14/30, Train Loss: 0.8496, Train R2: -1.8091, Train weighted MAE: 0.2527,Val Loss: 0.8139, Val R2: -4.6817, Val weighted MAE: 0.8756\n",
      "Model saved as ex_5/checkpoint_epoch_14.pth\n",
      "Epoch 15/30, Train Loss: 0.5216, Train R2: -0.6895, Train weighted MAE: 0.3544,Val Loss: 0.5012, Val R2: -2.9991, Val weighted MAE: 0.7487\n",
      "Model saved as ex_5/checkpoint_epoch_15.pth\n",
      "Epoch 16/30, Train Loss: 0.3122, Train R2: -0.2948, Train weighted MAE: 0.2357,Val Loss: 0.3605, Val R2: -12.4827, Val weighted MAE: 0.6600\n",
      "Model saved as ex_5/checkpoint_epoch_16.pth\n",
      "Epoch 17/30, Train Loss: 0.2616, Train R2: -0.5378, Train weighted MAE: 0.1945,Val Loss: 0.3467, Val R2: -1.3803, Val weighted MAE: 0.6975\n",
      "Model saved as ex_5/checkpoint_epoch_17.pth\n",
      "Epoch 18/30, Train Loss: 0.2519, Train R2: -0.2198, Train weighted MAE: 0.2279,Val Loss: 0.3235, Val R2: 0.2120, Val weighted MAE: 0.6985\n",
      "Model saved as ex_5/checkpoint_epoch_18.pth\n",
      "Epoch 19/30, Train Loss: 0.2289, Train R2: 0.0931, Train weighted MAE: 0.2203,Val Loss: 0.3107, Val R2: 0.4279, Val weighted MAE: 0.7789\n",
      "Model saved as ex_5/checkpoint_epoch_19.pth\n",
      "Epoch 20/30, Train Loss: 0.1920, Train R2: -0.8946, Train weighted MAE: 0.2117,Val Loss: 0.3088, Val R2: 0.2463, Val weighted MAE: 0.7463\n",
      "Model saved as ex_5/checkpoint_epoch_20.pth\n",
      "Epoch 21/30, Train Loss: 0.1789, Train R2: 0.5645, Train weighted MAE: 0.2334,Val Loss: 0.2787, Val R2: 0.3531, Val weighted MAE: 0.6505\n",
      "Model saved as ex_5/checkpoint_epoch_21.pth\n",
      "Epoch 22/30, Train Loss: 0.1404, Train R2: 0.5110, Train weighted MAE: 0.1916,Val Loss: 0.2336, Val R2: 0.3344, Val weighted MAE: 0.6927\n",
      "Model saved as ex_5/checkpoint_epoch_22.pth\n",
      "Epoch 23/30, Train Loss: 0.1260, Train R2: 0.3949, Train weighted MAE: 0.2130,Val Loss: 0.2523, Val R2: 0.0929, Val weighted MAE: 0.6152\n",
      "Epoch 24/30, Train Loss: 0.1927, Train R2: 0.0823, Train weighted MAE: 0.3758,Val Loss: 0.3443, Val R2: 0.3328, Val weighted MAE: 0.8256\n",
      "Epoch 25/30, Train Loss: 0.2562, Train R2: 0.4519, Train weighted MAE: 0.3651,Val Loss: 0.3859, Val R2: 0.3534, Val weighted MAE: 0.7814\n",
      "Epoch 26/30, Train Loss: 0.3084, Train R2: 0.2501, Train weighted MAE: 0.2564,Val Loss: 0.4414, Val R2: -0.5518, Val weighted MAE: 0.7639\n",
      "Epoch 27/30, Train Loss: 0.3407, Train R2: -0.2100, Train weighted MAE: 0.3583,Val Loss: 0.4305, Val R2: -1.2745, Val weighted MAE: 0.8782\n",
      "Epoch 28/30, Train Loss: 0.2741, Train R2: 0.4658, Train weighted MAE: 0.2453,Val Loss: 0.3660, Val R2: 0.2818, Val weighted MAE: 0.9070\n",
      "Epoch 29/30, Train Loss: 0.2139, Train R2: 0.6934, Train weighted MAE: 0.1717,Val Loss: 0.2978, Val R2: 0.1830, Val weighted MAE: 0.6937\n",
      "Epoch 30/30, Train Loss: 0.1771, Train R2: 0.5666, Train weighted MAE: 0.1996,Val Loss: 0.2896, Val R2: 0.4333, Val weighted MAE: 0.8300\n",
      "Model saved as ex_5/final_model.pth\n",
      "Training completed and final model saved.\n"
     ]
    }
   ],
   "source": [
    "ex = 'ex_5'\n",
    "\n",
    "init_noise_sigma = 1.0\n",
    "sigma_lr = 0.001\n",
    "loss = BMCLoss(init_noise_sigma)\n",
    "model = load_resnet_model('resnet50', num_classes=1)\n",
    "optimizer = optim.Adam(model.parameters(), lr=LR)\n",
    "optimizer.add_param_group({'params': loss.noise_sigma, 'lr': sigma_lr, 'name': 'noise_sigma'})\n",
    "\n",
    "train_model(model, loss, optimizer, train_loaders, val_loaders, device, ex, epochs=EPOCH)"
   ]
  }
 ],
 "metadata": {
  "kernelspec": {
   "display_name": "myenv",
   "language": "python",
   "name": "python3"
  },
  "language_info": {
   "codemirror_mode": {
    "name": "ipython",
    "version": 3
   },
   "file_extension": ".py",
   "mimetype": "text/x-python",
   "name": "python",
   "nbconvert_exporter": "python",
   "pygments_lexer": "ipython3",
   "version": "3.10.13"
  }
 },
 "nbformat": 4,
 "nbformat_minor": 2
}
