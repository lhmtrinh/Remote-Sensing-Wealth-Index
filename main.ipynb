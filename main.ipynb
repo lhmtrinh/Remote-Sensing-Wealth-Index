{
 "cells": [
  {
   "cell_type": "code",
   "execution_count": 1,
   "metadata": {},
   "outputs": [
    {
     "name": "stderr",
     "output_type": "stream",
     "text": [
      "2024-02-02 14:54:35.921382: E external/local_xla/xla/stream_executor/cuda/cuda_dnn.cc:9261] Unable to register cuDNN factory: Attempting to register factory for plugin cuDNN when one has already been registered\n",
      "2024-02-02 14:54:35.921430: E external/local_xla/xla/stream_executor/cuda/cuda_fft.cc:607] Unable to register cuFFT factory: Attempting to register factory for plugin cuFFT when one has already been registered\n",
      "2024-02-02 14:54:36.143140: E external/local_xla/xla/stream_executor/cuda/cuda_blas.cc:1515] Unable to register cuBLAS factory: Attempting to register factory for plugin cuBLAS when one has already been registered\n",
      "2024-02-02 14:54:36.635198: I tensorflow/core/platform/cpu_feature_guard.cc:182] This TensorFlow binary is optimized to use available CPU instructions in performance-critical operations.\n",
      "To enable the following instructions: AVX2 FMA, in other operations, rebuild TensorFlow with the appropriate compiler flags.\n",
      "2024-02-02 14:54:38.768628: W tensorflow/compiler/tf2tensorrt/utils/py_utils.cc:38] TF-TRT Warning: Could not find TensorRT\n"
     ]
    }
   ],
   "source": [
    "import torch\n",
    "from model import load_resnet_model\n",
    "from train_regression_weighted_loss_loaded import train_model\n",
    "from dataloader import create_dataloader\n",
    "\n",
    "from utils import sorted_file_paths\n",
    "import torch.nn as nn\n",
    "import torch.optim as optim"
   ]
  },
  {
   "attachments": {},
   "cell_type": "markdown",
   "metadata": {},
   "source": [
    "# Setting up common variables for all experiments"
   ]
  },
  {
   "cell_type": "code",
   "execution_count": 2,
   "metadata": {},
   "outputs": [],
   "source": [
    "LR = 0.001\n",
    "EPOCH = 30\n",
    "\n",
    "device = torch.device('cuda' if torch.cuda.is_available() else 'cpu')\n",
    "train_files = sorted_file_paths('./data/records/train/')\n",
    "val_files = sorted_file_paths('./data/records/val/')\n",
    "\n",
    "train_loaders = [create_dataloader(file, True, 64) for file in train_files]\n",
    "val_loaders = [create_dataloader(file, True, 64) for file in val_files]\n",
    "\n",
    "training_labels = []\n",
    "for train_loader in train_loaders:\n",
    "    for _, labels in train_loader:\n",
    "        training_labels.extend(labels.detach().cpu().numpy())"
   ]
  },
  {
   "attachments": {},
   "cell_type": "markdown",
   "metadata": {},
   "source": [
    "# Experiment 1: L2 loss"
   ]
  },
  {
   "cell_type": "code",
   "execution_count": 8,
   "metadata": {},
   "outputs": [
    {
     "name": "stderr",
     "output_type": "stream",
     "text": [
      "/opt/conda/envs/pytorch/lib/python3.10/site-packages/torchvision/models/_utils.py:208: UserWarning: The parameter 'pretrained' is deprecated since 0.13 and may be removed in the future, please use 'weights' instead.\n",
      "  warnings.warn(\n",
      "/opt/conda/envs/pytorch/lib/python3.10/site-packages/torchvision/models/_utils.py:223: UserWarning: Arguments other than a weight enum or `None` for 'weights' are deprecated since 0.13 and may be removed in the future. The current behavior is equivalent to passing `weights=ResNet50_Weights.IMAGENET1K_V1`. You can also use `weights=ResNet50_Weights.DEFAULT` to get the most up-to-date weights.\n",
      "  warnings.warn(msg)\n"
     ]
    }
   ],
   "source": [
    "ex = 'ex_1'\n",
    "loss =  nn.MSELoss()\n",
    "model = load_resnet_model('resnet50', num_classes=1)\n",
    "optimizer = optim.Adam(model.parameters(), LR)\n",
    "\n",
    "train_model(model, loss, optimizer, train_loaders, val_loaders, device, ex, epochs=EPOCH)"
   ]
  },
  {
   "attachments": {},
   "cell_type": "markdown",
   "metadata": {},
   "source": [
    "# Experiment 2: L3 loss"
   ]
  },
  {
   "cell_type": "code",
   "execution_count": null,
   "metadata": {},
   "outputs": [
    {
     "name": "stderr",
     "output_type": "stream",
     "text": [
      "/opt/conda/envs/pytorch/lib/python3.10/site-packages/torchvision/models/_utils.py:208: UserWarning: The parameter 'pretrained' is deprecated since 0.13 and may be removed in the future, please use 'weights' instead.\n",
      "  warnings.warn(\n",
      "/opt/conda/envs/pytorch/lib/python3.10/site-packages/torchvision/models/_utils.py:223: UserWarning: Arguments other than a weight enum or `None` for 'weights' are deprecated since 0.13 and may be removed in the future. The current behavior is equivalent to passing `weights=ResNet50_Weights.IMAGENET1K_V1`. You can also use `weights=ResNet50_Weights.DEFAULT` to get the most up-to-date weights.\n",
      "  warnings.warn(msg)\n"
     ]
    },
    {
     "ename": "KeyboardInterrupt",
     "evalue": "",
     "output_type": "error",
     "traceback": [
      "\u001b[0;31m---------------------------------------------------------------------------\u001b[0m",
      "\u001b[0;31mKeyboardInterrupt\u001b[0m                         Traceback (most recent call last)",
      "Cell \u001b[0;32mIn[5], line 8\u001b[0m\n\u001b[1;32m      5\u001b[0m model \u001b[39m=\u001b[39m load_resnet_model(\u001b[39m'\u001b[39m\u001b[39mresnet50\u001b[39m\u001b[39m'\u001b[39m, num_classes\u001b[39m=\u001b[39m\u001b[39m1\u001b[39m)\n\u001b[1;32m      6\u001b[0m optimizer \u001b[39m=\u001b[39m optim\u001b[39m.\u001b[39mAdam(model\u001b[39m.\u001b[39mparameters(), LR)\n\u001b[0;32m----> 8\u001b[0m train_model(model, loss, optimizer, train_loaders, val_loaders, device, ex, epochs\u001b[39m=\u001b[39;49mEPOCH)\n",
      "File \u001b[0;32m~/Remote-Sensing-Wealth-Index/train_regression_weighted_loss_loaded.py:28\u001b[0m, in \u001b[0;36mtrain_model\u001b[0;34m(model, criterion, optimizer, train_loaders, val_loaders, device, save_directory, epochs)\u001b[0m\n\u001b[1;32m     26\u001b[0m     loss\u001b[39m.\u001b[39mbackward()\n\u001b[1;32m     27\u001b[0m     optimizer\u001b[39m.\u001b[39mstep()\n\u001b[0;32m---> 28\u001b[0m     total_train_loss \u001b[39m+\u001b[39m\u001b[39m=\u001b[39m loss\u001b[39m.\u001b[39;49mitem() \u001b[39m*\u001b[39m inputs\u001b[39m.\u001b[39msize(\u001b[39m0\u001b[39m)\n\u001b[1;32m     29\u001b[0m total_train_samples \u001b[39m+\u001b[39m\u001b[39m=\u001b[39m inputs\u001b[39m.\u001b[39msize(\u001b[39m0\u001b[39m)\n\u001b[1;32m     30\u001b[0m train_preds\u001b[39m.\u001b[39mextend(outputs\u001b[39m.\u001b[39mdetach()\u001b[39m.\u001b[39mcpu()\u001b[39m.\u001b[39mnumpy())\n",
      "\u001b[0;31mKeyboardInterrupt\u001b[0m: "
     ]
    }
   ],
   "source": [
    "from weighted_L3_loss import L3Loss\n",
    "\n",
    "ex = 'ex_2'\n",
    "loss =  L3Loss()\n",
    "model = load_resnet_model('resnet50', num_classes=1)\n",
    "optimizer = optim.Adam(model.parameters(), LR)\n",
    "\n",
    "train_model(model, loss, optimizer, train_loaders, val_loaders, device, ex, epochs=EPOCH)"
   ]
  },
  {
   "attachments": {},
   "cell_type": "markdown",
   "metadata": {},
   "source": [
    "# Experiment 3: Weighted MSE with dense_weight model, alpha = 0.25"
   ]
  },
  {
   "cell_type": "code",
   "execution_count": null,
   "metadata": {},
   "outputs": [],
   "source": [
    "from dense_weight import DenseWeight\n",
    "from weighted_MSE_loss import WeightedMSELoss"
   ]
  },
  {
   "cell_type": "code",
   "execution_count": null,
   "metadata": {},
   "outputs": [
    {
     "name": "stderr",
     "output_type": "stream",
     "text": [
      "c:\\Users\\lhmtr\\OneDrive\\Desktop\\remote-sensing-asset-index\\myenv\\Lib\\site-packages\\torchvision\\models\\_utils.py:208: UserWarning: The parameter 'pretrained' is deprecated since 0.13 and may be removed in the future, please use 'weights' instead.\n",
      "  warnings.warn(\n",
      "c:\\Users\\lhmtr\\OneDrive\\Desktop\\remote-sensing-asset-index\\myenv\\Lib\\site-packages\\torchvision\\models\\_utils.py:223: UserWarning: Arguments other than a weight enum or `None` for 'weights' are deprecated since 0.13 and may be removed in the future. The current behavior is equivalent to passing `weights=ResNet50_Weights.IMAGENET1K_V1`. You can also use `weights=ResNet50_Weights.DEFAULT` to get the most up-to-date weights.\n",
      "  warnings.warn(msg)\n"
     ]
    },
    {
     "name": "stdout",
     "output_type": "stream",
     "text": [
      "MAE for bin 2: 1.5641959\n",
      "MAE for bin 3: 1.1126256\n",
      "MAE for bin 4: 1.0491617\n",
      "MAE for bin 5: 0.9847947\n",
      "MAE for bin 6: 0.9906604\n",
      "MAE for bin 1: 60.09752\n",
      "MAE for bin 2: 50.60432\n",
      "MAE for bin 3: 54.209522\n",
      "MAE for bin 4: 58.770176\n",
      "MAE for bin 5: 61.25448\n",
      "MAE for bin 6: 61.864296\n",
      "Epoch 1/1, Train Loss: 2.0621, Train R2: -9.1192, Train weighted MAE: 1.4322,Val Loss: 4109.0274, Val R2: -22487.6166, Val weighted MAE: 58.1779\n",
      "Model saved as checkpoint_epoch_1.pth\n",
      "Model saved as final_model.pth\n",
      "Training completed and final model saved.\n"
     ]
    }
   ],
   "source": [
    "ex = 'ex_3'\n",
    "\n",
    "dense_weight_model = DenseWeight(0.25)\n",
    "dense_weight_model.fit(training_labels)\n",
    "loss =  WeightedMSELoss(dense_weight_model)\n",
    "model = load_resnet_model('resnet50', num_classes=1)\n",
    "optimizer = optim.Adam(model.parameters(), LR)\n",
    "\n",
    "train_model(model, loss, optimizer, train_loaders, val_loaders, device, ex, epochs=EPOCH)"
   ]
  },
  {
   "attachments": {},
   "cell_type": "markdown",
   "metadata": {},
   "source": [
    "# Experiment 4: Weighted MSE with dense_weight model, alpha = 0.5"
   ]
  },
  {
   "cell_type": "code",
   "execution_count": null,
   "metadata": {},
   "outputs": [
    {
     "name": "stderr",
     "output_type": "stream",
     "text": [
      "c:\\Users\\lhmtr\\OneDrive\\Desktop\\remote-sensing-asset-index\\myenv\\Lib\\site-packages\\torchvision\\models\\_utils.py:208: UserWarning: The parameter 'pretrained' is deprecated since 0.13 and may be removed in the future, please use 'weights' instead.\n",
      "  warnings.warn(\n",
      "c:\\Users\\lhmtr\\OneDrive\\Desktop\\remote-sensing-asset-index\\myenv\\Lib\\site-packages\\torchvision\\models\\_utils.py:223: UserWarning: Arguments other than a weight enum or `None` for 'weights' are deprecated since 0.13 and may be removed in the future. The current behavior is equivalent to passing `weights=ResNet50_Weights.IMAGENET1K_V1`. You can also use `weights=ResNet50_Weights.DEFAULT` to get the most up-to-date weights.\n",
      "  warnings.warn(msg)\n"
     ]
    },
    {
     "name": "stdout",
     "output_type": "stream",
     "text": [
      "MAE for bin 2: 1.1206676\n",
      "MAE for bin 3: 0.9540928\n",
      "MAE for bin 4: 0.9106966\n",
      "MAE for bin 5: 0.96642876\n",
      "MAE for bin 6: 1.1671207\n",
      "MAE for bin 1: 10.19127\n",
      "MAE for bin 2: 19.229319\n",
      "MAE for bin 3: 13.944123\n",
      "MAE for bin 4: 13.980035\n",
      "MAE for bin 5: 17.688894\n",
      "MAE for bin 6: 25.890987\n",
      "Epoch 1/1, Train Loss: 1.6738, Train R2: -7.6164, Train weighted MAE: 1.0850,Val Loss: 900.6723, Val R2: -5656.7559, Val weighted MAE: 12.1556\n",
      "Model saved as checkpoint_epoch_1.pth\n",
      "Model saved as final_model.pth\n",
      "Training completed and final model saved.\n"
     ]
    }
   ],
   "source": [
    "ex = 'ex_4'\n",
    "\n",
    "dense_weight_model = DenseWeight(0.5)\n",
    "dense_weight_model.fit(training_labels)\n",
    "loss =  WeightedMSELoss(dense_weight_model)\n",
    "model = load_resnet_model('resnet50', num_classes=1)\n",
    "optimizer = optim.Adam(model.parameters(), LR)\n",
    "\n",
    "train_model(model, loss, optimizer, train_loaders, val_loaders, device, ex, epochs=EPOCH)"
   ]
  },
  {
   "attachments": {},
   "cell_type": "markdown",
   "metadata": {},
   "source": [
    "# Experiment 5: Balanced MSE loss"
   ]
  },
  {
   "cell_type": "code",
   "execution_count": null,
   "metadata": {},
   "outputs": [],
   "source": [
    "from balanced_MSE_loss import BMCLoss"
   ]
  },
  {
   "cell_type": "code",
   "execution_count": null,
   "metadata": {},
   "outputs": [
    {
     "name": "stderr",
     "output_type": "stream",
     "text": [
      "c:\\Users\\lhmtr\\OneDrive\\Desktop\\remote-sensing-asset-index\\myenv\\Lib\\site-packages\\torchvision\\models\\_utils.py:208: UserWarning: The parameter 'pretrained' is deprecated since 0.13 and may be removed in the future, please use 'weights' instead.\n",
      "  warnings.warn(\n",
      "c:\\Users\\lhmtr\\OneDrive\\Desktop\\remote-sensing-asset-index\\myenv\\Lib\\site-packages\\torchvision\\models\\_utils.py:223: UserWarning: Arguments other than a weight enum or `None` for 'weights' are deprecated since 0.13 and may be removed in the future. The current behavior is equivalent to passing `weights=ResNet50_Weights.IMAGENET1K_V1`. You can also use `weights=ResNet50_Weights.DEFAULT` to get the most up-to-date weights.\n",
      "  warnings.warn(msg)\n"
     ]
    },
    {
     "name": "stdout",
     "output_type": "stream",
     "text": [
      "MAE for bin 2: 1.4273541\n",
      "MAE for bin 3: 1.1952238\n",
      "MAE for bin 4: 1.7503417\n",
      "MAE for bin 5: 1.7749552\n",
      "MAE for bin 6: 2.318867\n",
      "MAE for bin 1: 2.951308\n",
      "MAE for bin 2: 1.9054776\n",
      "MAE for bin 3: 4.6486855\n",
      "MAE for bin 4: 4.2353673\n",
      "MAE for bin 5: 2.5514913\n",
      "MAE for bin 6: 2.5924032\n",
      "Epoch 1/1, Train Loss: 8.6341, Train R2: -29.0568, Train weighted MAE: 1.4724,Val Loss: 11.1934, Val R2: -140.1235, Val weighted MAE: 2.7783\n",
      "Model saved as checkpoint_epoch_1.pth\n",
      "Model saved as final_model.pth\n",
      "Training completed and final model saved.\n"
     ]
    }
   ],
   "source": [
    "ex = 'ex_5'\n",
    "\n",
    "init_noise_sigma = 1.0\n",
    "sigma_lr = 0.001\n",
    "loss = BMCLoss(init_noise_sigma)\n",
    "model = load_resnet_model('resnet50', num_classes=1)\n",
    "optimizer = optim.Adam(model.parameters(), lr=LR)\n",
    "optimizer.add_param_group({'params': loss.noise_sigma, 'lr': sigma_lr, 'name': 'noise_sigma'})\n",
    "\n",
    "train_model(model, loss, optimizer, train_loaders, val_loaders, device, ex, epochs=EPOCH)"
   ]
  }
 ],
 "metadata": {
  "kernelspec": {
   "display_name": "myenv",
   "language": "python",
   "name": "python3"
  },
  "language_info": {
   "codemirror_mode": {
    "name": "ipython",
    "version": 3
   },
   "file_extension": ".py",
   "mimetype": "text/x-python",
   "name": "python",
   "nbconvert_exporter": "python",
   "pygments_lexer": "ipython3",
   "version": "3.10.13"
  }
 },
 "nbformat": 4,
 "nbformat_minor": 2
}
