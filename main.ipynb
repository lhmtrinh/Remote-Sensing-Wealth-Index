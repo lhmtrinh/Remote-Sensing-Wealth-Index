{
 "cells": [
  {
   "cell_type": "code",
   "execution_count": 1,
   "metadata": {},
   "outputs": [
    {
     "name": "stderr",
     "output_type": "stream",
     "text": [
      "2024-05-02 21:14:57.549485: E external/local_xla/xla/stream_executor/cuda/cuda_dnn.cc:9261] Unable to register cuDNN factory: Attempting to register factory for plugin cuDNN when one has already been registered\n",
      "2024-05-02 21:14:57.549545: E external/local_xla/xla/stream_executor/cuda/cuda_fft.cc:607] Unable to register cuFFT factory: Attempting to register factory for plugin cuFFT when one has already been registered\n",
      "2024-05-02 21:14:57.725986: E external/local_xla/xla/stream_executor/cuda/cuda_blas.cc:1515] Unable to register cuBLAS factory: Attempting to register factory for plugin cuBLAS when one has already been registered\n",
      "2024-05-02 21:14:58.081845: I tensorflow/core/platform/cpu_feature_guard.cc:182] This TensorFlow binary is optimized to use available CPU instructions in performance-critical operations.\n",
      "To enable the following instructions: AVX2 FMA, in other operations, rebuild TensorFlow with the appropriate compiler flags.\n",
      "2024-05-02 21:14:59.786508: W tensorflow/compiler/tf2tensorrt/utils/py_utils.cc:38] TF-TRT Warning: Could not find TensorRT\n"
     ]
    }
   ],
   "source": [
    "import torch\n",
    "from models.resnet import load_resnet_model\n",
    "from models.swin3D import load_swin3d\n",
    "from models.swin import load_swin\n",
    "\n",
    "from utils.train import train_model\n",
    "from utils.dataloader import create_dataloader, create_dataset\n",
    "\n",
    "from utils.utils import sorted_file_paths\n",
    "import torch.nn as nn\n",
    "import torch.optim as optim\n",
    "\n",
    "import seaborn as sns\n",
    "from matplotlib import pyplot as plt\n",
    "from loss.balanced_MSE_loss import BMCLoss"
   ]
  },
  {
   "attachments": {},
   "cell_type": "markdown",
   "metadata": {},
   "source": [
    "# Setting up common variables for all experiments"
   ]
  },
  {
   "cell_type": "code",
   "execution_count": 2,
   "metadata": {},
   "outputs": [],
   "source": [
    "LR = 0.001\n",
    "EPOCH = 30\n",
    "GAMMA = 0.95\n",
    "\n",
    "device = torch.device('cuda' if torch.cuda.is_available() else 'cpu')\n",
    "train_files = sorted_file_paths('./data/records_location/train/')\n",
    "val_files = sorted_file_paths('./data/records_location/val/')\n",
    "\n",
    "train_dataset = create_dataset(train_files)\n",
    "val_dataset = create_dataset(val_files)\n",
    "\n",
    "\n",
    "train_loader = create_dataloader(train_dataset, 32)\n",
    "val_loader = create_dataloader(val_dataset, 32)\n",
    "\n",
    "training_labels = train_dataset.all_labels.numpy()"
   ]
  },
  {
   "attachments": {},
   "cell_type": "markdown",
   "metadata": {},
   "source": [
    "# Experiment 0: L2 loss Swin 3d"
   ]
  },
  {
   "cell_type": "code",
   "execution_count": 4,
   "metadata": {},
   "outputs": [
    {
     "name": "stdout",
     "output_type": "stream",
     "text": [
      "Epoch 1/30, Train Loss: 1.4297, Train R2: -6.0945, Train weighted MAE: 0.4557,Val Loss: 0.2163, Val R2: -0.0710, Val weighted MAE: 0.3460\n",
      "Model saved as experiments/ex_0/checkpoint_epoch_1.pth\n",
      "Epoch 2/30, Train Loss: 0.2211, Train R2: -0.0970, Train weighted MAE: 0.3908,Val Loss: 0.2077, Val R2: -0.0285, Val weighted MAE: 0.4121\n",
      "Model saved as experiments/ex_0/checkpoint_epoch_2.pth\n",
      "Epoch 3/30, Train Loss: 0.2183, Train R2: -0.0832, Train weighted MAE: 0.3904,Val Loss: 0.2114, Val R2: -0.0469, Val weighted MAE: 0.4208\n",
      "Epoch 4/30, Train Loss: 0.2115, Train R2: -0.0496, Train weighted MAE: 0.3869,Val Loss: 0.2170, Val R2: -0.0745, Val weighted MAE: 0.4315\n",
      "Epoch 5/30, Train Loss: 0.2106, Train R2: -0.0451, Train weighted MAE: 0.3867,Val Loss: 0.2033, Val R2: -0.0068, Val weighted MAE: 0.3967\n",
      "Model saved as experiments/ex_0/checkpoint_epoch_5.pth\n",
      "Epoch 6/30, Train Loss: 0.2106, Train R2: -0.0451, Train weighted MAE: 0.3891,Val Loss: 0.2077, Val R2: -0.0285, Val weighted MAE: 0.4120\n",
      "Epoch 7/30, Train Loss: 0.2110, Train R2: -0.0470, Train weighted MAE: 0.3876,Val Loss: 0.2230, Val R2: -0.1044, Val weighted MAE: 0.4415\n",
      "Epoch 8/30, Train Loss: 0.2114, Train R2: -0.0492, Train weighted MAE: 0.3880,Val Loss: 0.2063, Val R2: -0.0216, Val weighted MAE: 0.4081\n",
      "Epoch 9/30, Train Loss: 0.2131, Train R2: -0.0573, Train weighted MAE: 0.3873,Val Loss: 0.2027, Val R2: -0.0036, Val weighted MAE: 0.3931\n",
      "Model saved as experiments/ex_0/checkpoint_epoch_9.pth\n",
      "Epoch 10/30, Train Loss: 0.2161, Train R2: -0.0726, Train weighted MAE: 0.3875,Val Loss: 0.2021, Val R2: -0.0006, Val weighted MAE: 0.3875\n",
      "Model saved as experiments/ex_0/checkpoint_epoch_10.pth\n",
      "Epoch 11/30, Train Loss: 0.2150, Train R2: -0.0667, Train weighted MAE: 0.3864,Val Loss: 0.2019, Val R2: -0.0001, Val weighted MAE: 0.3844\n",
      "Model saved as experiments/ex_0/checkpoint_epoch_11.pth\n",
      "Epoch 12/30, Train Loss: 0.2127, Train R2: -0.0555, Train weighted MAE: 0.3859,Val Loss: 0.2047, Val R2: -0.0136, Val weighted MAE: 0.4027\n",
      "Epoch 13/30, Train Loss: 0.2178, Train R2: -0.0809, Train weighted MAE: 0.3890,Val Loss: 0.2162, Val R2: -0.0706, Val weighted MAE: 0.3464\n",
      "Epoch 14/30, Train Loss: 0.2324, Train R2: -0.1534, Train weighted MAE: 0.3957,Val Loss: 0.2365, Val R2: -0.1710, Val weighted MAE: 0.3306\n",
      "Epoch 15/30, Train Loss: 0.2325, Train R2: -0.1536, Train weighted MAE: 0.3960,Val Loss: 0.2470, Val R2: -0.2234, Val weighted MAE: 0.3253\n",
      "Epoch 16/30, Train Loss: 0.2303, Train R2: -0.1430, Train weighted MAE: 0.3930,Val Loss: 0.2162, Val R2: -0.0707, Val weighted MAE: 0.3464\n",
      "Epoch 17/30, Train Loss: 0.2498, Train R2: -0.2396, Train weighted MAE: 0.4009,Val Loss: 0.2765, Val R2: -0.3694, Val weighted MAE: 0.3150\n",
      "Epoch 18/30, Train Loss: 0.2448, Train R2: -0.2146, Train weighted MAE: 0.3922,Val Loss: 0.2027, Val R2: -0.0038, Val weighted MAE: 0.3739\n",
      "Epoch 19/30, Train Loss: 0.2263, Train R2: -0.1228, Train weighted MAE: 0.3869,Val Loss: 0.2047, Val R2: -0.0136, Val weighted MAE: 0.4027\n",
      "Epoch 20/30, Train Loss: 0.2262, Train R2: -0.1224, Train weighted MAE: 0.3887,Val Loss: 0.2073, Val R2: -0.0264, Val weighted MAE: 0.4108\n",
      "Epoch 21/30, Train Loss: 0.2372, Train R2: -0.1771, Train weighted MAE: 0.3938,Val Loss: 0.2033, Val R2: -0.0069, Val weighted MAE: 0.3707\n",
      "Epoch 22/30, Train Loss: 0.2356, Train R2: -0.1690, Train weighted MAE: 0.3933,Val Loss: 0.2111, Val R2: -0.0454, Val weighted MAE: 0.4202\n",
      "Epoch 23/30, Train Loss: 0.2223, Train R2: -0.1030, Train weighted MAE: 0.3897,Val Loss: 0.2074, Val R2: -0.0271, Val weighted MAE: 0.4112\n",
      "Epoch 24/30, Train Loss: 0.2177, Train R2: -0.0804, Train weighted MAE: 0.3905,Val Loss: 0.2021, Val R2: -0.0009, Val weighted MAE: 0.3882\n",
      "Epoch 25/30, Train Loss: 0.2171, Train R2: -0.0772, Train weighted MAE: 0.3886,Val Loss: 0.2114, Val R2: -0.0469, Val weighted MAE: 0.4208\n",
      "Epoch 26/30, Train Loss: 0.2169, Train R2: -0.0763, Train weighted MAE: 0.3878,Val Loss: 0.2239, Val R2: -0.1086, Val weighted MAE: 0.4428\n",
      "Epoch 27/30, Train Loss: 0.2149, Train R2: -0.0663, Train weighted MAE: 0.3870,Val Loss: 0.2488, Val R2: -0.2321, Val weighted MAE: 0.4755\n",
      "Epoch 28/30, Train Loss: 0.2127, Train R2: -0.0554, Train weighted MAE: 0.3858,Val Loss: 0.2257, Val R2: -0.1174, Val weighted MAE: 0.4455\n",
      "Epoch 29/30, Train Loss: 0.2142, Train R2: -0.0629, Train weighted MAE: 0.3867,Val Loss: 0.2299, Val R2: -0.1384, Val weighted MAE: 0.4516\n",
      "Epoch 30/30, Train Loss: 0.2125, Train R2: -0.0545, Train weighted MAE: 0.3877,Val Loss: 0.2094, Val R2: -0.0370, Val weighted MAE: 0.4163\n",
      "Model saved as experiments/ex_0/final_model.pth\n",
      "Training completed and final model saved.\n"
     ]
    }
   ],
   "source": [
    "ex = 'experiments/ex_0'\n",
    "loss =  nn.MSELoss()\n",
    "model = load_swin3d(\"base\")\n",
    "optimizer = optim.Adam(model.parameters(), LR)\n",
    "scheduler = torch.optim.lr_scheduler.ExponentialLR(optimizer, gamma=GAMMA)\n",
    "\n",
    "train_model(model, loss, optimizer, scheduler, train_loader, val_loader, device, ex,epochs=EPOCH)"
   ]
  },
  {
   "attachments": {},
   "cell_type": "markdown",
   "metadata": {},
   "source": [
    "# Experiment 1: L2 loss Swin 3d tiny"
   ]
  },
  {
   "cell_type": "code",
   "execution_count": 5,
   "metadata": {},
   "outputs": [
    {
     "name": "stdout",
     "output_type": "stream",
     "text": [
      "Epoch 1/30, Train Loss: 0.2535, Train R2: -0.2579, Train weighted MAE: 0.3845,Val Loss: 0.1830, Val R2: 0.0940, Val weighted MAE: 0.3816\n",
      "Model saved as experiments/ex_1/checkpoint_epoch_1.pth\n",
      "Epoch 2/30, Train Loss: 0.2081, Train R2: -0.0325, Train weighted MAE: 0.3786,Val Loss: 0.2131, Val R2: -0.0553, Val weighted MAE: 0.4263\n",
      "Epoch 3/30, Train Loss: 0.2120, Train R2: -0.0520, Train weighted MAE: 0.3799,Val Loss: 0.2018, Val R2: 0.0007, Val weighted MAE: 0.4069\n",
      "Epoch 4/30, Train Loss: 0.4151, Train R2: -1.0597, Train weighted MAE: 0.3899,Val Loss: 0.2021, Val R2: -0.0009, Val weighted MAE: 0.3882\n",
      "Epoch 5/30, Train Loss: 0.2236, Train R2: -0.1098, Train weighted MAE: 0.3912,Val Loss: 0.2161, Val R2: -0.0699, Val weighted MAE: 0.4299\n",
      "Epoch 6/30, Train Loss: 0.2521, Train R2: -0.2510, Train weighted MAE: 0.3981,Val Loss: 0.2391, Val R2: -0.1839, Val weighted MAE: 0.3292\n",
      "Epoch 7/30, Train Loss: 0.2455, Train R2: -0.2184, Train weighted MAE: 0.3973,Val Loss: 0.2123, Val R2: -0.0514, Val weighted MAE: 0.3512\n",
      "Epoch 8/30, Train Loss: 0.2364, Train R2: -0.1732, Train weighted MAE: 0.3944,Val Loss: 0.2048, Val R2: -0.0139, Val weighted MAE: 0.3656\n",
      "Epoch 9/30, Train Loss: 0.2306, Train R2: -0.1443, Train weighted MAE: 0.3923,Val Loss: 0.2051, Val R2: -0.0157, Val weighted MAE: 0.4042\n",
      "Epoch 10/30, Train Loss: 0.2233, Train R2: -0.1079, Train weighted MAE: 0.3900,Val Loss: 0.2024, Val R2: -0.0022, Val weighted MAE: 0.3910\n",
      "Epoch 11/30, Train Loss: 0.2207, Train R2: -0.0951, Train weighted MAE: 0.3888,Val Loss: 0.2019, Val R2: -0.0000, Val weighted MAE: 0.3833\n",
      "Epoch 12/30, Train Loss: 0.2280, Train R2: -0.1314, Train weighted MAE: 0.3923,Val Loss: 0.2103, Val R2: -0.0415, Val weighted MAE: 0.4184\n",
      "Epoch 13/30, Train Loss: 0.2175, Train R2: -0.0791, Train weighted MAE: 0.3898,Val Loss: 0.2086, Val R2: -0.0331, Val weighted MAE: 0.4144\n",
      "Epoch 14/30, Train Loss: 0.2226, Train R2: -0.1048, Train weighted MAE: 0.3931,Val Loss: 0.2063, Val R2: -0.0216, Val weighted MAE: 0.4081\n",
      "Epoch 15/30, Train Loss: 0.2112, Train R2: -0.0480, Train weighted MAE: 0.3869,Val Loss: 0.2222, Val R2: -0.1002, Val weighted MAE: 0.4402\n",
      "Epoch 16/30, Train Loss: 0.2172, Train R2: -0.0779, Train weighted MAE: 0.3904,Val Loss: 0.2200, Val R2: -0.0895, Val weighted MAE: 0.4367\n",
      "Epoch 17/30, Train Loss: 0.2250, Train R2: -0.1165, Train weighted MAE: 0.3908,Val Loss: 0.2107, Val R2: -0.0432, Val weighted MAE: 0.4192\n",
      "Epoch 18/30, Train Loss: 0.2104, Train R2: -0.0441, Train weighted MAE: 0.3869,Val Loss: 0.2151, Val R2: -0.0654, Val weighted MAE: 0.4282\n",
      "Epoch 19/30, Train Loss: 0.2138, Train R2: -0.0611, Train weighted MAE: 0.3892,Val Loss: 0.2227, Val R2: -0.1030, Val weighted MAE: 0.4411\n",
      "Epoch 20/30, Train Loss: 0.2170, Train R2: -0.0770, Train weighted MAE: 0.3909,Val Loss: 0.2251, Val R2: -0.1145, Val weighted MAE: 0.4446\n",
      "Epoch 21/30, Train Loss: 0.2102, Train R2: -0.0431, Train weighted MAE: 0.3859,Val Loss: 0.2294, Val R2: -0.1360, Val weighted MAE: 0.4509\n",
      "Epoch 22/30, Train Loss: 0.2107, Train R2: -0.0453, Train weighted MAE: 0.3869,Val Loss: 0.2288, Val R2: -0.1328, Val weighted MAE: 0.4500\n",
      "Epoch 23/30, Train Loss: 0.2116, Train R2: -0.0499, Train weighted MAE: 0.3875,Val Loss: 0.2263, Val R2: -0.1204, Val weighted MAE: 0.4464\n",
      "Epoch 24/30, Train Loss: 0.2122, Train R2: -0.0528, Train weighted MAE: 0.3884,Val Loss: 0.2271, Val R2: -0.1247, Val weighted MAE: 0.4477\n",
      "Epoch 25/30, Train Loss: 0.2103, Train R2: -0.0433, Train weighted MAE: 0.3867,Val Loss: 0.2281, Val R2: -0.1297, Val weighted MAE: 0.4491\n",
      "Epoch 26/30, Train Loss: 0.2112, Train R2: -0.0481, Train weighted MAE: 0.3858,Val Loss: 0.2130, Val R2: -0.0548, Val weighted MAE: 0.4241\n",
      "Epoch 27/30, Train Loss: 0.2099, Train R2: -0.0416, Train weighted MAE: 0.3882,Val Loss: 0.2122, Val R2: -0.0508, Val weighted MAE: 0.4224\n",
      "Epoch 28/30, Train Loss: 0.2146, Train R2: -0.0650, Train weighted MAE: 0.3872,Val Loss: 0.2089, Val R2: -0.0347, Val weighted MAE: 0.4152\n",
      "Epoch 29/30, Train Loss: 0.2099, Train R2: -0.0415, Train weighted MAE: 0.3870,Val Loss: 0.2100, Val R2: -0.0397, Val weighted MAE: 0.4176\n",
      "Epoch 30/30, Train Loss: 0.2101, Train R2: -0.0426, Train weighted MAE: 0.3854,Val Loss: 0.2086, Val R2: -0.0331, Val weighted MAE: 0.4144\n",
      "Model saved as experiments/ex_1/final_model.pth\n",
      "Training completed and final model saved.\n"
     ]
    }
   ],
   "source": [
    "ex = 'experiments/ex_1'\n",
    "loss =  nn.MSELoss()\n",
    "model = load_swin3d(\"tiny\")\n",
    "optimizer = optim.Adam(model.parameters(), LR)\n",
    "scheduler = torch.optim.lr_scheduler.ExponentialLR(optimizer, gamma=GAMMA)\n",
    "\n",
    "train_model(model, loss, optimizer, scheduler, train_loader, val_loader, device, ex, epochs=EPOCH)"
   ]
  },
  {
   "attachments": {},
   "cell_type": "markdown",
   "metadata": {},
   "source": [
    "# Experiment 2: L2 loss Resnet 50"
   ]
  },
  {
   "cell_type": "code",
   "execution_count": 3,
   "metadata": {},
   "outputs": [
    {
     "name": "stderr",
     "output_type": "stream",
     "text": [
      "/opt/conda/envs/pytorch/lib/python3.10/site-packages/torchvision/models/_utils.py:208: UserWarning: The parameter 'pretrained' is deprecated since 0.13 and may be removed in the future, please use 'weights' instead.\n",
      "  warnings.warn(\n",
      "/opt/conda/envs/pytorch/lib/python3.10/site-packages/torchvision/models/_utils.py:223: UserWarning: Arguments other than a weight enum or `None` for 'weights' are deprecated since 0.13 and may be removed in the future. The current behavior is equivalent to passing `weights=ResNet50_Weights.IMAGENET1K_V1`. You can also use `weights=ResNet50_Weights.DEFAULT` to get the most up-to-date weights.\n",
      "  warnings.warn(msg)\n"
     ]
    },
    {
     "name": "stdout",
     "output_type": "stream",
     "text": [
      "Epoch 1/30, Train Loss: 0.1985, Train R2: 0.0150, Train weighted MAE: 0.3072,Val Loss: 0.1484, Val R2: 0.2653, Val weighted MAE: 0.2414\n",
      "Model saved as experiments/ex_2/checkpoint_epoch_1.pth\n",
      "Epoch 2/30, Train Loss: 0.1045, Train R2: 0.4816, Train weighted MAE: 0.2468,Val Loss: 0.0925, Val R2: 0.5420, Val weighted MAE: 0.2283\n",
      "Model saved as experiments/ex_2/checkpoint_epoch_2.pth\n",
      "Epoch 3/30, Train Loss: 0.0921, Train R2: 0.5432, Train weighted MAE: 0.2302,Val Loss: 0.1043, Val R2: 0.4837, Val weighted MAE: 0.2203\n",
      "Epoch 4/30, Train Loss: 0.0822, Train R2: 0.5920, Train weighted MAE: 0.2145,Val Loss: 0.1189, Val R2: 0.4110, Val weighted MAE: 0.2633\n",
      "Epoch 5/30, Train Loss: 0.0737, Train R2: 0.6342, Train weighted MAE: 0.2000,Val Loss: 0.1098, Val R2: 0.4562, Val weighted MAE: 0.2759\n",
      "Epoch 6/30, Train Loss: 0.0719, Train R2: 0.6434, Train weighted MAE: 0.1912,Val Loss: 0.1118, Val R2: 0.4462, Val weighted MAE: 0.3035\n",
      "Epoch 7/30, Train Loss: 0.0636, Train R2: 0.6842, Train weighted MAE: 0.1819,Val Loss: 0.1165, Val R2: 0.4233, Val weighted MAE: 0.3088\n",
      "Epoch 8/30, Train Loss: 0.0628, Train R2: 0.6883, Train weighted MAE: 0.1664,Val Loss: 0.1249, Val R2: 0.3816, Val weighted MAE: 0.3029\n",
      "Epoch 9/30, Train Loss: 0.0555, Train R2: 0.7246, Train weighted MAE: 0.1529,Val Loss: 0.1079, Val R2: 0.4658, Val weighted MAE: 0.2750\n",
      "Epoch 10/30, Train Loss: 0.0507, Train R2: 0.7483, Train weighted MAE: 0.1397,Val Loss: 0.1144, Val R2: 0.4336, Val weighted MAE: 0.2185\n",
      "Epoch 11/30, Train Loss: 0.0472, Train R2: 0.7658, Train weighted MAE: 0.1335,Val Loss: 0.1049, Val R2: 0.4805, Val weighted MAE: 0.2308\n",
      "Epoch 12/30, Train Loss: 0.0483, Train R2: 0.7601, Train weighted MAE: 0.1294,Val Loss: 0.1659, Val R2: 0.1786, Val weighted MAE: 0.3699\n",
      "Epoch 13/30, Train Loss: 0.0456, Train R2: 0.7739, Train weighted MAE: 0.1285,Val Loss: 0.1285, Val R2: 0.3635, Val weighted MAE: 0.2961\n",
      "Epoch 14/30, Train Loss: 0.0350, Train R2: 0.8265, Train weighted MAE: 0.1135,Val Loss: 0.1633, Val R2: 0.1915, Val weighted MAE: 0.2064\n",
      "Epoch 15/30, Train Loss: 0.0261, Train R2: 0.8705, Train weighted MAE: 0.0975,Val Loss: 0.1007, Val R2: 0.5015, Val weighted MAE: 0.2310\n",
      "Epoch 16/30, Train Loss: 0.0290, Train R2: 0.8559, Train weighted MAE: 0.1000,Val Loss: 0.1016, Val R2: 0.4967, Val weighted MAE: 0.2299\n",
      "Epoch 17/30, Train Loss: 0.0322, Train R2: 0.8402, Train weighted MAE: 0.1043,Val Loss: 0.1221, Val R2: 0.3954, Val weighted MAE: 0.3027\n",
      "Epoch 18/30, Train Loss: 0.0334, Train R2: 0.8341, Train weighted MAE: 0.1041,Val Loss: 0.1090, Val R2: 0.4602, Val weighted MAE: 0.2641\n",
      "Epoch 19/30, Train Loss: 0.0312, Train R2: 0.8452, Train weighted MAE: 0.0984,Val Loss: 0.0975, Val R2: 0.5171, Val weighted MAE: 0.2365\n",
      "Epoch 20/30, Train Loss: 0.0328, Train R2: 0.8370, Train weighted MAE: 0.1003,Val Loss: 0.0935, Val R2: 0.5368, Val weighted MAE: 0.2277\n",
      "Epoch 21/30, Train Loss: 0.0360, Train R2: 0.8214, Train weighted MAE: 0.1054,Val Loss: 0.0986, Val R2: 0.5116, Val weighted MAE: 0.2289\n",
      "Epoch 22/30, Train Loss: 0.0291, Train R2: 0.8557, Train weighted MAE: 0.0936,Val Loss: 0.1000, Val R2: 0.5049, Val weighted MAE: 0.2315\n",
      "Epoch 23/30, Train Loss: 0.0284, Train R2: 0.8592, Train weighted MAE: 0.0913,Val Loss: 0.0977, Val R2: 0.5164, Val weighted MAE: 0.2208\n",
      "Epoch 24/30, Train Loss: 0.0216, Train R2: 0.8928, Train weighted MAE: 0.0797,Val Loss: 0.0936, Val R2: 0.5365, Val weighted MAE: 0.2260\n",
      "Epoch 25/30, Train Loss: 0.0232, Train R2: 0.8848, Train weighted MAE: 0.0788,Val Loss: 0.1019, Val R2: 0.4954, Val weighted MAE: 0.2177\n",
      "Epoch 26/30, Train Loss: 0.0215, Train R2: 0.8932, Train weighted MAE: 0.0772,Val Loss: 0.1002, Val R2: 0.5037, Val weighted MAE: 0.2232\n",
      "Epoch 27/30, Train Loss: 0.0157, Train R2: 0.9222, Train weighted MAE: 0.0668,Val Loss: 0.0941, Val R2: 0.5339, Val weighted MAE: 0.2243\n",
      "Epoch 28/30, Train Loss: 0.0137, Train R2: 0.9320, Train weighted MAE: 0.0620,Val Loss: 0.0982, Val R2: 0.5137, Val weighted MAE: 0.2619\n",
      "Epoch 29/30, Train Loss: 0.0121, Train R2: 0.9401, Train weighted MAE: 0.0599,Val Loss: 0.0933, Val R2: 0.5378, Val weighted MAE: 0.2527\n",
      "Epoch 30/30, Train Loss: 0.0120, Train R2: 0.9406, Train weighted MAE: 0.0580,Val Loss: 0.0932, Val R2: 0.5384, Val weighted MAE: 0.2305\n",
      "Model saved as experiments/ex_2/final_model.pth\n",
      "Training completed and final model saved.\n"
     ]
    }
   ],
   "source": [
    "ex = 'experiments/ex_2'\n",
    "loss =  nn.MSELoss()\n",
    "model = load_resnet_model('resnet50', num_classes=1)\n",
    "optimizer = optim.Adam(model.parameters(), LR)\n",
    "scheduler = torch.optim.lr_scheduler.ExponentialLR(optimizer, gamma=GAMMA)\n",
    "\n",
    "train_model(model, loss, optimizer, scheduler, train_loader, val_loader, device, ex, epochs=EPOCH)"
   ]
  },
  {
   "attachments": {},
   "cell_type": "markdown",
   "metadata": {},
   "source": [
    "# Experiment 3: L2 Loss Swin"
   ]
  },
  {
   "cell_type": "code",
   "execution_count": 4,
   "metadata": {},
   "outputs": [
    {
     "name": "stdout",
     "output_type": "stream",
     "text": [
      "Epoch 1/30, Train Loss: 0.7061, Train R2: -2.5041, Train weighted MAE: 0.4350,Val Loss: 0.2071, Val R2: -0.0253, Val weighted MAE: 0.4103\n",
      "Model saved as experiments/ex_3/checkpoint_epoch_1.pth\n",
      "Epoch 2/30, Train Loss: 0.2229, Train R2: -0.1062, Train weighted MAE: 0.3911,Val Loss: 0.2102, Val R2: -0.0409, Val weighted MAE: 0.4181\n",
      "Epoch 3/30, Train Loss: 0.2185, Train R2: -0.0843, Train weighted MAE: 0.3890,Val Loss: 0.2090, Val R2: -0.0351, Val weighted MAE: 0.4153\n",
      "Epoch 4/30, Train Loss: 0.2124, Train R2: -0.0538, Train weighted MAE: 0.3856,Val Loss: 0.2264, Val R2: -0.1210, Val weighted MAE: 0.4466\n",
      "Epoch 5/30, Train Loss: 0.2128, Train R2: -0.0561, Train weighted MAE: 0.3855,Val Loss: 0.2250, Val R2: -0.1142, Val weighted MAE: 0.4446\n",
      "Epoch 6/30, Train Loss: 0.2101, Train R2: -0.0426, Train weighted MAE: 0.3862,Val Loss: 0.2415, Val R2: -0.1960, Val weighted MAE: 0.4668\n",
      "Epoch 7/30, Train Loss: 0.2095, Train R2: -0.0394, Train weighted MAE: 0.3843,Val Loss: 0.2341, Val R2: -0.1594, Val weighted MAE: 0.4573\n",
      "Epoch 8/30, Train Loss: 0.2090, Train R2: -0.0370, Train weighted MAE: 0.3861,Val Loss: 0.2222, Val R2: -0.1003, Val weighted MAE: 0.4402\n",
      "Epoch 9/30, Train Loss: 0.2088, Train R2: -0.0359, Train weighted MAE: 0.3859,Val Loss: 0.2122, Val R2: -0.0509, Val weighted MAE: 0.4225\n",
      "Epoch 10/30, Train Loss: 0.2094, Train R2: -0.0389, Train weighted MAE: 0.3861,Val Loss: 0.2161, Val R2: -0.0699, Val weighted MAE: 0.4299\n",
      "Epoch 11/30, Train Loss: 0.2093, Train R2: -0.0387, Train weighted MAE: 0.3874,Val Loss: 0.2166, Val R2: -0.0724, Val weighted MAE: 0.4308\n",
      "Epoch 12/30, Train Loss: 0.2087, Train R2: -0.0358, Train weighted MAE: 0.3863,Val Loss: 0.2093, Val R2: -0.0363, Val weighted MAE: 0.4160\n",
      "Epoch 13/30, Train Loss: 0.2085, Train R2: -0.0345, Train weighted MAE: 0.3865,Val Loss: 0.2122, Val R2: -0.0508, Val weighted MAE: 0.4224\n",
      "Epoch 14/30, Train Loss: 0.2078, Train R2: -0.0312, Train weighted MAE: 0.3850,Val Loss: 0.2107, Val R2: -0.0432, Val weighted MAE: 0.4192\n",
      "Epoch 15/30, Train Loss: 0.2067, Train R2: -0.0257, Train weighted MAE: 0.3853,Val Loss: 0.2114, Val R2: -0.0470, Val weighted MAE: 0.4208\n",
      "Epoch 16/30, Train Loss: 0.2073, Train R2: -0.0289, Train weighted MAE: 0.3851,Val Loss: 0.2096, Val R2: -0.0380, Val weighted MAE: 0.4168\n",
      "Epoch 17/30, Train Loss: 0.2068, Train R2: -0.0263, Train weighted MAE: 0.3853,Val Loss: 0.2139, Val R2: -0.0590, Val weighted MAE: 0.4258\n",
      "Epoch 18/30, Train Loss: 0.2070, Train R2: -0.0272, Train weighted MAE: 0.3855,Val Loss: 0.2170, Val R2: -0.0747, Val weighted MAE: 0.4316\n",
      "Epoch 19/30, Train Loss: 0.2068, Train R2: -0.0263, Train weighted MAE: 0.3853,Val Loss: 0.2122, Val R2: -0.0508, Val weighted MAE: 0.4224\n",
      "Epoch 20/30, Train Loss: 0.2091, Train R2: -0.0377, Train weighted MAE: 0.3872,Val Loss: 0.2138, Val R2: -0.0589, Val weighted MAE: 0.4257\n",
      "Epoch 21/30, Train Loss: 0.2075, Train R2: -0.0295, Train weighted MAE: 0.3850,Val Loss: 0.2221, Val R2: -0.1000, Val weighted MAE: 0.4402\n",
      "Epoch 22/30, Train Loss: 0.2086, Train R2: -0.0353, Train weighted MAE: 0.3847,Val Loss: 0.2314, Val R2: -0.1459, Val weighted MAE: 0.4537\n",
      "Epoch 23/30, Train Loss: 0.2094, Train R2: -0.0389, Train weighted MAE: 0.3878,Val Loss: 0.2083, Val R2: -0.0315, Val weighted MAE: 0.4136\n",
      "Epoch 24/30, Train Loss: 0.2146, Train R2: -0.0647, Train weighted MAE: 0.3881,Val Loss: 0.2175, Val R2: -0.0770, Val weighted MAE: 0.4324\n",
      "Epoch 25/30, Train Loss: 0.2130, Train R2: -0.0570, Train weighted MAE: 0.3877,Val Loss: 0.2051, Val R2: -0.0157, Val weighted MAE: 0.4042\n",
      "Model saved as experiments/ex_3/checkpoint_epoch_25.pth\n",
      "Epoch 26/30, Train Loss: 0.2179, Train R2: -0.0812, Train weighted MAE: 0.3866,Val Loss: 0.2020, Val R2: -0.0002, Val weighted MAE: 0.3813\n",
      "Model saved as experiments/ex_3/checkpoint_epoch_26.pth\n",
      "Epoch 27/30, Train Loss: 0.2210, Train R2: -0.0967, Train weighted MAE: 0.3868,Val Loss: 0.2035, Val R2: -0.0077, Val weighted MAE: 0.3700\n",
      "Epoch 28/30, Train Loss: 0.2330, Train R2: -0.1561, Train weighted MAE: 0.3873,Val Loss: 0.2239, Val R2: -0.1087, Val weighted MAE: 0.4428\n",
      "Epoch 29/30, Train Loss: 0.2284, Train R2: -0.1335, Train weighted MAE: 0.3875,Val Loss: 0.2190, Val R2: -0.0844, Val weighted MAE: 0.4350\n",
      "Epoch 30/30, Train Loss: 0.2218, Train R2: -0.1004, Train weighted MAE: 0.3867,Val Loss: 0.2061, Val R2: -0.0204, Val weighted MAE: 0.4073\n",
      "Model saved as experiments/ex_3/final_model.pth\n",
      "Training completed and final model saved.\n"
     ]
    }
   ],
   "source": [
    "ex = 'experiments/ex_3'\n",
    "loss =  nn.MSELoss()\n",
    "model = load_swin()\n",
    "optimizer = optim.Adam(model.parameters(), LR)\n",
    "scheduler = torch.optim.lr_scheduler.ExponentialLR(optimizer, gamma=GAMMA)\n",
    "\n",
    "train_model(model, loss, optimizer, scheduler, train_loader, val_loader, device, ex, epochs=EPOCH)"
   ]
  },
  {
   "attachments": {},
   "cell_type": "markdown",
   "metadata": {},
   "source": [
    "# Experiment 4: L3 loss"
   ]
  },
  {
   "cell_type": "code",
   "execution_count": 3,
   "metadata": {},
   "outputs": [
    {
     "name": "stderr",
     "output_type": "stream",
     "text": [
      "/opt/conda/envs/pytorch/lib/python3.10/site-packages/torchvision/models/_utils.py:208: UserWarning: The parameter 'pretrained' is deprecated since 0.13 and may be removed in the future, please use 'weights' instead.\n",
      "  warnings.warn(\n",
      "/opt/conda/envs/pytorch/lib/python3.10/site-packages/torchvision/models/_utils.py:223: UserWarning: Arguments other than a weight enum or `None` for 'weights' are deprecated since 0.13 and may be removed in the future. The current behavior is equivalent to passing `weights=ResNet50_Weights.IMAGENET1K_V1`. You can also use `weights=ResNet50_Weights.DEFAULT` to get the most up-to-date weights.\n",
      "  warnings.warn(msg)\n"
     ]
    },
    {
     "name": "stdout",
     "output_type": "stream",
     "text": [
      "Epoch 1/30, Train Loss: 0.3073, Train R2: -0.2181, Train weighted MAE: 0.3178,Val Loss: 0.0617, Val R2: 0.4817, Val weighted MAE: 0.2725\n",
      "Model saved as experiments/ex_4//checkpoint_epoch_1.pth\n",
      "Epoch 2/30, Train Loss: 0.0586, Train R2: 0.4707, Train weighted MAE: 0.2468,Val Loss: 0.0559, Val R2: 0.5096, Val weighted MAE: 0.2534\n",
      "Model saved as experiments/ex_4//checkpoint_epoch_2.pth\n",
      "Epoch 3/30, Train Loss: 0.0481, Train R2: 0.5346, Train weighted MAE: 0.2297,Val Loss: 0.0550, Val R2: 0.5201, Val weighted MAE: 0.2497\n",
      "Model saved as experiments/ex_4//checkpoint_epoch_3.pth\n",
      "Epoch 4/30, Train Loss: 0.0402, Train R2: 0.5829, Train weighted MAE: 0.2156,Val Loss: 0.0540, Val R2: 0.5257, Val weighted MAE: 0.2420\n",
      "Model saved as experiments/ex_4//checkpoint_epoch_4.pth\n",
      "Epoch 5/30, Train Loss: 0.0316, Train R2: 0.6388, Train weighted MAE: 0.1983,Val Loss: 0.0589, Val R2: 0.4864, Val weighted MAE: 0.2358\n",
      "Epoch 6/30, Train Loss: 0.0225, Train R2: 0.7062, Train weighted MAE: 0.1752,Val Loss: 0.0740, Val R2: 0.4371, Val weighted MAE: 0.2218\n",
      "Epoch 7/30, Train Loss: 0.0166, Train R2: 0.7606, Train weighted MAE: 0.1528,Val Loss: 0.0813, Val R2: 0.3905, Val weighted MAE: 0.2743\n",
      "Epoch 8/30, Train Loss: 0.0158, Train R2: 0.7704, Train weighted MAE: 0.1439,Val Loss: 0.0914, Val R2: 0.3244, Val weighted MAE: 0.2670\n",
      "Epoch 9/30, Train Loss: 0.0165, Train R2: 0.7718, Train weighted MAE: 0.1451,Val Loss: 0.1123, Val R2: 0.2337, Val weighted MAE: 0.3408\n",
      "Epoch 10/30, Train Loss: 0.0167, Train R2: 0.7669, Train weighted MAE: 0.1433,Val Loss: 0.0964, Val R2: 0.3076, Val weighted MAE: 0.3054\n",
      "Epoch 11/30, Train Loss: 0.0149, Train R2: 0.7841, Train weighted MAE: 0.1367,Val Loss: 0.1008, Val R2: 0.2388, Val weighted MAE: 0.2191\n",
      "Epoch 12/30, Train Loss: 0.0136, Train R2: 0.7989, Train weighted MAE: 0.1287,Val Loss: 0.1236, Val R2: 0.1896, Val weighted MAE: 0.2258\n",
      "Epoch 13/30, Train Loss: 0.0113, Train R2: 0.8251, Train weighted MAE: 0.1182,Val Loss: 0.0633, Val R2: 0.4737, Val weighted MAE: 0.2345\n",
      "Epoch 14/30, Train Loss: 0.0114, Train R2: 0.8239, Train weighted MAE: 0.1151,Val Loss: 0.0677, Val R2: 0.4508, Val weighted MAE: 0.2709\n",
      "Epoch 15/30, Train Loss: 0.0126, Train R2: 0.8124, Train weighted MAE: 0.1184,Val Loss: 0.0601, Val R2: 0.4906, Val weighted MAE: 0.2510\n",
      "Epoch 16/30, Train Loss: 0.0124, Train R2: 0.8105, Train weighted MAE: 0.1169,Val Loss: 0.0996, Val R2: 0.2473, Val weighted MAE: 0.2791\n",
      "Epoch 17/30, Train Loss: 0.0136, Train R2: 0.7991, Train weighted MAE: 0.1196,Val Loss: 0.0901, Val R2: 0.3077, Val weighted MAE: 0.2701\n",
      "Epoch 18/30, Train Loss: 0.0112, Train R2: 0.8197, Train weighted MAE: 0.1117,Val Loss: 0.0524, Val R2: 0.5321, Val weighted MAE: 0.2311\n",
      "Model saved as experiments/ex_4//checkpoint_epoch_18.pth\n",
      "Epoch 19/30, Train Loss: 0.0117, Train R2: 0.8191, Train weighted MAE: 0.1043,Val Loss: 0.0663, Val R2: 0.4381, Val weighted MAE: 0.2171\n",
      "Epoch 20/30, Train Loss: 0.0115, Train R2: 0.8207, Train weighted MAE: 0.1059,Val Loss: 0.0598, Val R2: 0.5087, Val weighted MAE: 0.2484\n",
      "Epoch 21/30, Train Loss: 0.0097, Train R2: 0.8423, Train weighted MAE: 0.1007,Val Loss: 0.0648, Val R2: 0.4809, Val weighted MAE: 0.2303\n",
      "Epoch 22/30, Train Loss: 0.0074, Train R2: 0.8696, Train weighted MAE: 0.0937,Val Loss: 0.0609, Val R2: 0.5008, Val weighted MAE: 0.2245\n",
      "Epoch 23/30, Train Loss: 0.0043, Train R2: 0.9051, Train weighted MAE: 0.0814,Val Loss: 0.0510, Val R2: 0.5463, Val weighted MAE: 0.2111\n",
      "Model saved as experiments/ex_4//checkpoint_epoch_23.pth\n",
      "Epoch 24/30, Train Loss: 0.0019, Train R2: 0.9440, Train weighted MAE: 0.0617,Val Loss: 0.0511, Val R2: 0.5381, Val weighted MAE: 0.2052\n",
      "Epoch 25/30, Train Loss: 0.0011, Train R2: 0.9618, Train weighted MAE: 0.0512,Val Loss: 0.0482, Val R2: 0.5565, Val weighted MAE: 0.2123\n",
      "Model saved as experiments/ex_4//checkpoint_epoch_25.pth\n",
      "Epoch 26/30, Train Loss: 0.0007, Train R2: 0.9719, Train weighted MAE: 0.0441,Val Loss: 0.0531, Val R2: 0.5457, Val weighted MAE: 0.2409\n",
      "Epoch 27/30, Train Loss: 0.0004, Train R2: 0.9805, Train weighted MAE: 0.0362,Val Loss: 0.0645, Val R2: 0.4937, Val weighted MAE: 0.2698\n",
      "Epoch 28/30, Train Loss: 0.0003, Train R2: 0.9847, Train weighted MAE: 0.0328,Val Loss: 0.0687, Val R2: 0.4711, Val weighted MAE: 0.2790\n",
      "Epoch 29/30, Train Loss: 0.0002, Train R2: 0.9871, Train weighted MAE: 0.0305,Val Loss: 0.0633, Val R2: 0.4956, Val weighted MAE: 0.2684\n",
      "Epoch 30/30, Train Loss: 0.0001, Train R2: 0.9891, Train weighted MAE: 0.0282,Val Loss: 0.0515, Val R2: 0.5471, Val weighted MAE: 0.2376\n",
      "Model saved as experiments/ex_4//final_model.pth\n",
      "Training completed and final model saved.\n"
     ]
    }
   ],
   "source": [
    "from loss.weighted_L3_loss import L3Loss\n",
    "\n",
    "ex = 'experiments/ex_4/'\n",
    "loss =  L3Loss()\n",
    "model = load_resnet_model('resnet50', num_classes=1)\n",
    "optimizer = optim.Adam(model.parameters(), LR)\n",
    "scheduler = torch.optim.lr_scheduler.ExponentialLR(optimizer, gamma=GAMMA)\n",
    "\n",
    "train_model(model, loss, optimizer, scheduler, train_loader, val_loader, device, ex, epochs=EPOCH)"
   ]
  },
  {
   "attachments": {},
   "cell_type": "markdown",
   "metadata": {},
   "source": [
    "# Experiment 5: Weighted MSE with dense_weight model, alpha = 0.25"
   ]
  },
  {
   "cell_type": "code",
   "execution_count": 4,
   "metadata": {},
   "outputs": [],
   "source": [
    "from loss.weighted_MSE_loss import WeightedMSELoss\n",
    "from loss.dense_weight import DenseWeight"
   ]
  },
  {
   "cell_type": "code",
   "execution_count": 5,
   "metadata": {},
   "outputs": [
    {
     "name": "stderr",
     "output_type": "stream",
     "text": [
      "/opt/conda/envs/pytorch/lib/python3.10/site-packages/torchvision/models/_utils.py:208: UserWarning: The parameter 'pretrained' is deprecated since 0.13 and may be removed in the future, please use 'weights' instead.\n",
      "  warnings.warn(\n",
      "/opt/conda/envs/pytorch/lib/python3.10/site-packages/torchvision/models/_utils.py:223: UserWarning: Arguments other than a weight enum or `None` for 'weights' are deprecated since 0.13 and may be removed in the future. The current behavior is equivalent to passing `weights=ResNet50_Weights.IMAGENET1K_V1`. You can also use `weights=ResNet50_Weights.DEFAULT` to get the most up-to-date weights.\n",
      "  warnings.warn(msg)\n"
     ]
    },
    {
     "name": "stdout",
     "output_type": "stream",
     "text": [
      "Epoch 1/30, Train Loss: 0.2056, Train R2: 0.0078, Train weighted MAE: 0.2874,Val Loss: 0.1079, Val R2: 0.4929, Val weighted MAE: 0.2556\n",
      "Model saved as experiments/ex_5/checkpoint_epoch_1.pth\n",
      "Epoch 2/30, Train Loss: 0.1044, Train R2: 0.5034, Train weighted MAE: 0.2375,Val Loss: 0.1084, Val R2: 0.4987, Val weighted MAE: 0.2645\n",
      "Epoch 3/30, Train Loss: 0.0931, Train R2: 0.5557, Train weighted MAE: 0.2203,Val Loss: 0.1047, Val R2: 0.5116, Val weighted MAE: 0.2473\n",
      "Model saved as experiments/ex_5/checkpoint_epoch_3.pth\n",
      "Epoch 4/30, Train Loss: 0.0836, Train R2: 0.6003, Train weighted MAE: 0.2070,Val Loss: 0.1290, Val R2: 0.4157, Val weighted MAE: 0.3013\n",
      "Epoch 5/30, Train Loss: 0.0809, Train R2: 0.6119, Train weighted MAE: 0.1997,Val Loss: 0.1129, Val R2: 0.4485, Val weighted MAE: 0.2106\n",
      "Epoch 6/30, Train Loss: 0.0781, Train R2: 0.6239, Train weighted MAE: 0.1889,Val Loss: 0.1715, Val R2: 0.2092, Val weighted MAE: 0.3326\n",
      "Epoch 7/30, Train Loss: 0.0780, Train R2: 0.6237, Train weighted MAE: 0.1892,Val Loss: 0.1279, Val R2: 0.4112, Val weighted MAE: 0.2858\n",
      "Epoch 8/30, Train Loss: 0.0756, Train R2: 0.6341, Train weighted MAE: 0.1795,Val Loss: 0.1581, Val R2: 0.2825, Val weighted MAE: 0.3342\n",
      "Epoch 9/30, Train Loss: 0.0654, Train R2: 0.6812, Train weighted MAE: 0.1593,Val Loss: 0.1339, Val R2: 0.3694, Val weighted MAE: 0.2717\n",
      "Epoch 10/30, Train Loss: 0.0618, Train R2: 0.6987, Train weighted MAE: 0.1517,Val Loss: 0.2071, Val R2: 0.0263, Val weighted MAE: 0.3483\n",
      "Epoch 11/30, Train Loss: 0.0515, Train R2: 0.7484, Train weighted MAE: 0.1383,Val Loss: 0.1124, Val R2: 0.4655, Val weighted MAE: 0.2468\n",
      "Epoch 12/30, Train Loss: 0.0565, Train R2: 0.7219, Train weighted MAE: 0.1385,Val Loss: 0.1065, Val R2: 0.4813, Val weighted MAE: 0.2139\n",
      "Epoch 13/30, Train Loss: 0.0434, Train R2: 0.7864, Train weighted MAE: 0.1218,Val Loss: 0.1009, Val R2: 0.5216, Val weighted MAE: 0.2240\n",
      "Model saved as experiments/ex_5/checkpoint_epoch_13.pth\n",
      "Epoch 14/30, Train Loss: 0.0338, Train R2: 0.8334, Train weighted MAE: 0.1037,Val Loss: 0.1248, Val R2: 0.4149, Val weighted MAE: 0.2774\n",
      "Epoch 15/30, Train Loss: 0.0351, Train R2: 0.8268, Train weighted MAE: 0.1055,Val Loss: 0.3391, Val R2: -0.6147, Val weighted MAE: 0.4433\n",
      "Epoch 16/30, Train Loss: 0.0491, Train R2: 0.7569, Train weighted MAE: 0.1212,Val Loss: 0.1368, Val R2: 0.3529, Val weighted MAE: 0.2795\n",
      "Epoch 17/30, Train Loss: 0.0410, Train R2: 0.7984, Train weighted MAE: 0.1135,Val Loss: 0.0944, Val R2: 0.5473, Val weighted MAE: 0.2160\n",
      "Model saved as experiments/ex_5/checkpoint_epoch_17.pth\n",
      "Epoch 18/30, Train Loss: 0.0281, Train R2: 0.8612, Train weighted MAE: 0.0907,Val Loss: 0.0998, Val R2: 0.5329, Val weighted MAE: 0.2425\n",
      "Epoch 19/30, Train Loss: 0.0282, Train R2: 0.8595, Train weighted MAE: 0.0881,Val Loss: 0.0960, Val R2: 0.5529, Val weighted MAE: 0.2399\n",
      "Epoch 20/30, Train Loss: 0.0422, Train R2: 0.7906, Train weighted MAE: 0.1073,Val Loss: 0.1133, Val R2: 0.4771, Val weighted MAE: 0.2726\n",
      "Epoch 21/30, Train Loss: 0.0480, Train R2: 0.7621, Train weighted MAE: 0.1165,Val Loss: 0.1411, Val R2: 0.3483, Val weighted MAE: 0.3041\n",
      "Epoch 22/30, Train Loss: 0.0311, Train R2: 0.8461, Train weighted MAE: 0.0944,Val Loss: 0.1116, Val R2: 0.4835, Val weighted MAE: 0.2581\n",
      "Epoch 23/30, Train Loss: 0.0258, Train R2: 0.8714, Train weighted MAE: 0.0826,Val Loss: 0.1020, Val R2: 0.5236, Val weighted MAE: 0.2441\n",
      "Epoch 24/30, Train Loss: 0.0271, Train R2: 0.8648, Train weighted MAE: 0.0838,Val Loss: 0.0987, Val R2: 0.5327, Val weighted MAE: 0.2327\n",
      "Epoch 25/30, Train Loss: 0.0281, Train R2: 0.8597, Train weighted MAE: 0.0873,Val Loss: 0.0941, Val R2: 0.5568, Val weighted MAE: 0.2329\n",
      "Model saved as experiments/ex_5/checkpoint_epoch_25.pth\n",
      "Epoch 26/30, Train Loss: 0.0295, Train R2: 0.8530, Train weighted MAE: 0.0885,Val Loss: 0.1029, Val R2: 0.5039, Val weighted MAE: 0.2209\n",
      "Epoch 27/30, Train Loss: 0.0251, Train R2: 0.8752, Train weighted MAE: 0.0816,Val Loss: 0.0964, Val R2: 0.5381, Val weighted MAE: 0.2145\n",
      "Epoch 28/30, Train Loss: 0.0154, Train R2: 0.9233, Train weighted MAE: 0.0638,Val Loss: 0.0968, Val R2: 0.5482, Val weighted MAE: 0.2407\n",
      "Epoch 29/30, Train Loss: 0.0090, Train R2: 0.9555, Train weighted MAE: 0.0501,Val Loss: 0.0957, Val R2: 0.5539, Val weighted MAE: 0.2394\n",
      "Epoch 30/30, Train Loss: 0.0058, Train R2: 0.9711, Train weighted MAE: 0.0387,Val Loss: 0.0972, Val R2: 0.5377, Val weighted MAE: 0.2238\n",
      "Model saved as experiments/ex_5/final_model.pth\n",
      "Training completed and final model saved.\n"
     ]
    }
   ],
   "source": [
    "ex = 'experiments/ex_5'\n",
    "\n",
    "dense_weight_model = DenseWeight(0.25)\n",
    "dense_weight_model.fit(training_labels)\n",
    "loss =  WeightedMSELoss(dense_weight_model)\n",
    "model = load_resnet_model('resnet50', num_classes=1)\n",
    "optimizer = optim.Adam(model.parameters(), LR)\n",
    "scheduler = torch.optim.lr_scheduler.ExponentialLR(optimizer, gamma=GAMMA)\n",
    "\n",
    "train_model(model, loss, optimizer, scheduler, train_loader, val_loader, device, ex, epochs=EPOCH)"
   ]
  },
  {
   "attachments": {},
   "cell_type": "markdown",
   "metadata": {},
   "source": [
    "# Experiment 6: Weighted MSE with dense_weight model, alpha = 0.5"
   ]
  },
  {
   "cell_type": "code",
   "execution_count": 6,
   "metadata": {},
   "outputs": [
    {
     "name": "stderr",
     "output_type": "stream",
     "text": [
      "/opt/conda/envs/pytorch/lib/python3.10/site-packages/torchvision/models/_utils.py:208: UserWarning: The parameter 'pretrained' is deprecated since 0.13 and may be removed in the future, please use 'weights' instead.\n",
      "  warnings.warn(\n",
      "/opt/conda/envs/pytorch/lib/python3.10/site-packages/torchvision/models/_utils.py:223: UserWarning: Arguments other than a weight enum or `None` for 'weights' are deprecated since 0.13 and may be removed in the future. The current behavior is equivalent to passing `weights=ResNet50_Weights.IMAGENET1K_V1`. You can also use `weights=ResNet50_Weights.DEFAULT` to get the most up-to-date weights.\n",
      "  warnings.warn(msg)\n"
     ]
    },
    {
     "name": "stdout",
     "output_type": "stream",
     "text": [
      "Epoch 1/30, Train Loss: 0.2299, Train R2: -0.0715, Train weighted MAE: 0.2779,Val Loss: 0.1254, Val R2: 0.3943, Val weighted MAE: 0.2304\n",
      "Model saved as experiments/ex_6//checkpoint_epoch_1.pth\n",
      "Epoch 2/30, Train Loss: 0.1081, Train R2: 0.5036, Train weighted MAE: 0.2259,Val Loss: 0.1063, Val R2: 0.5457, Val weighted MAE: 0.2496\n",
      "Model saved as experiments/ex_6//checkpoint_epoch_2.pth\n",
      "Epoch 3/30, Train Loss: 0.0928, Train R2: 0.5701, Train weighted MAE: 0.2072,Val Loss: 0.1080, Val R2: 0.5394, Val weighted MAE: 0.2455\n",
      "Epoch 4/30, Train Loss: 0.0788, Train R2: 0.6316, Train weighted MAE: 0.1868,Val Loss: 0.1355, Val R2: 0.4398, Val weighted MAE: 0.2906\n",
      "Epoch 5/30, Train Loss: 0.0738, Train R2: 0.6517, Train weighted MAE: 0.1763,Val Loss: 0.1190, Val R2: 0.4528, Val weighted MAE: 0.2431\n",
      "Epoch 6/30, Train Loss: 0.0716, Train R2: 0.6598, Train weighted MAE: 0.1698,Val Loss: 0.1302, Val R2: 0.3629, Val weighted MAE: 0.2124\n",
      "Epoch 7/30, Train Loss: 0.0692, Train R2: 0.6682, Train weighted MAE: 0.1631,Val Loss: 0.2042, Val R2: 0.1325, Val weighted MAE: 0.3457\n",
      "Epoch 8/30, Train Loss: 0.0709, Train R2: 0.6555, Train weighted MAE: 0.1569,Val Loss: 0.2614, Val R2: -0.1118, Val weighted MAE: 0.3969\n",
      "Epoch 9/30, Train Loss: 0.0688, Train R2: 0.6631, Train weighted MAE: 0.1479,Val Loss: 0.1907, Val R2: 0.2160, Val weighted MAE: 0.3409\n",
      "Epoch 10/30, Train Loss: 0.0532, Train R2: 0.7416, Train weighted MAE: 0.1361,Val Loss: 0.1107, Val R2: 0.4750, Val weighted MAE: 0.2060\n",
      "Epoch 11/30, Train Loss: 0.0505, Train R2: 0.7510, Train weighted MAE: 0.1270,Val Loss: 0.1593, Val R2: 0.1890, Val weighted MAE: 0.2026\n",
      "Epoch 12/30, Train Loss: 0.0413, Train R2: 0.7989, Train weighted MAE: 0.1159,Val Loss: 0.1576, Val R2: 0.3076, Val weighted MAE: 0.2919\n",
      "Epoch 13/30, Train Loss: 0.0313, Train R2: 0.8461, Train weighted MAE: 0.0994,Val Loss: 0.1717, Val R2: 0.2180, Val weighted MAE: 0.2862\n",
      "Epoch 14/30, Train Loss: 0.0405, Train R2: 0.7985, Train weighted MAE: 0.1104,Val Loss: 0.2103, Val R2: 0.1016, Val weighted MAE: 0.3412\n",
      "Epoch 15/30, Train Loss: 0.0397, Train R2: 0.8028, Train weighted MAE: 0.1089,Val Loss: 0.1234, Val R2: 0.4868, Val weighted MAE: 0.2702\n",
      "Epoch 16/30, Train Loss: 0.0333, Train R2: 0.8348, Train weighted MAE: 0.0942,Val Loss: 0.1113, Val R2: 0.4817, Val weighted MAE: 0.2148\n",
      "Epoch 17/30, Train Loss: 0.0285, Train R2: 0.8573, Train weighted MAE: 0.0889,Val Loss: 0.1119, Val R2: 0.5240, Val weighted MAE: 0.2493\n",
      "Epoch 18/30, Train Loss: 0.0301, Train R2: 0.8492, Train weighted MAE: 0.0907,Val Loss: 0.1161, Val R2: 0.4900, Val weighted MAE: 0.2489\n",
      "Epoch 19/30, Train Loss: 0.0323, Train R2: 0.8380, Train weighted MAE: 0.0953,Val Loss: 0.1266, Val R2: 0.4747, Val weighted MAE: 0.2696\n",
      "Epoch 20/30, Train Loss: 0.0286, Train R2: 0.8564, Train weighted MAE: 0.0892,Val Loss: 0.1055, Val R2: 0.4950, Val weighted MAE: 0.2061\n",
      "Model saved as experiments/ex_6//checkpoint_epoch_20.pth\n",
      "Epoch 21/30, Train Loss: 0.0294, Train R2: 0.8534, Train weighted MAE: 0.0906,Val Loss: 0.1028, Val R2: 0.5229, Val weighted MAE: 0.2145\n",
      "Model saved as experiments/ex_6//checkpoint_epoch_21.pth\n",
      "Epoch 22/30, Train Loss: 0.0282, Train R2: 0.8608, Train weighted MAE: 0.0876,Val Loss: 0.1019, Val R2: 0.5466, Val weighted MAE: 0.2258\n",
      "Model saved as experiments/ex_6//checkpoint_epoch_22.pth\n",
      "Epoch 23/30, Train Loss: 0.0232, Train R2: 0.8838, Train weighted MAE: 0.0802,Val Loss: 0.1036, Val R2: 0.5489, Val weighted MAE: 0.2305\n",
      "Epoch 24/30, Train Loss: 0.0210, Train R2: 0.8945, Train weighted MAE: 0.0743,Val Loss: 0.1056, Val R2: 0.5060, Val weighted MAE: 0.2132\n",
      "Epoch 25/30, Train Loss: 0.0149, Train R2: 0.9254, Train weighted MAE: 0.0639,Val Loss: 0.1198, Val R2: 0.5091, Val weighted MAE: 0.2654\n",
      "Epoch 26/30, Train Loss: 0.0115, Train R2: 0.9421, Train weighted MAE: 0.0564,Val Loss: 0.0985, Val R2: 0.5671, Val weighted MAE: 0.2239\n",
      "Model saved as experiments/ex_6//checkpoint_epoch_26.pth\n",
      "Epoch 27/30, Train Loss: 0.0089, Train R2: 0.9555, Train weighted MAE: 0.0504,Val Loss: 0.1010, Val R2: 0.5217, Val weighted MAE: 0.2059\n",
      "Epoch 28/30, Train Loss: 0.0080, Train R2: 0.9602, Train weighted MAE: 0.0481,Val Loss: 0.1111, Val R2: 0.4667, Val weighted MAE: 0.2061\n",
      "Epoch 29/30, Train Loss: 0.0093, Train R2: 0.9526, Train weighted MAE: 0.0481,Val Loss: 0.1128, Val R2: 0.4967, Val weighted MAE: 0.2258\n",
      "Epoch 30/30, Train Loss: 0.0105, Train R2: 0.9462, Train weighted MAE: 0.0482,Val Loss: 0.1143, Val R2: 0.5246, Val weighted MAE: 0.2544\n",
      "Model saved as experiments/ex_6//final_model.pth\n",
      "Training completed and final model saved.\n"
     ]
    }
   ],
   "source": [
    "ex = 'experiments/ex_6/'\n",
    "\n",
    "dense_weight_model = DenseWeight(0.5)\n",
    "dense_weight_model.fit(training_labels)\n",
    "loss =  WeightedMSELoss(dense_weight_model)\n",
    "model = load_resnet_model('resnet50', num_classes=1)\n",
    "optimizer = optim.Adam(model.parameters(), LR)\n",
    "scheduler = torch.optim.lr_scheduler.ExponentialLR(optimizer, gamma=GAMMA)\n",
    "\n",
    "train_model(model, loss, optimizer, scheduler, train_loader, val_loader, device, ex, epochs=EPOCH)"
   ]
  },
  {
   "attachments": {},
   "cell_type": "markdown",
   "metadata": {},
   "source": [
    "# Experiment 7: weighted sampling with replacement for a more balanced dataset alpha = 0.25"
   ]
  },
  {
   "cell_type": "code",
   "execution_count": 8,
   "metadata": {},
   "outputs": [
    {
     "name": "stderr",
     "output_type": "stream",
     "text": [
      "/opt/conda/envs/pytorch/lib/python3.10/site-packages/torchvision/models/_utils.py:208: UserWarning: The parameter 'pretrained' is deprecated since 0.13 and may be removed in the future, please use 'weights' instead.\n",
      "  warnings.warn(\n",
      "/opt/conda/envs/pytorch/lib/python3.10/site-packages/torchvision/models/_utils.py:223: UserWarning: Arguments other than a weight enum or `None` for 'weights' are deprecated since 0.13 and may be removed in the future. The current behavior is equivalent to passing `weights=ResNet50_Weights.IMAGENET1K_V1`. You can also use `weights=ResNet50_Weights.DEFAULT` to get the most up-to-date weights.\n",
      "  warnings.warn(msg)\n"
     ]
    },
    {
     "name": "stdout",
     "output_type": "stream",
     "text": [
      "Epoch 1/30, Train Loss: 0.2764, Train R2: -0.2554, Train weighted MAE: 0.3148,Val Loss: 0.1063, Val R2: 0.4735, Val weighted MAE: 0.2696\n",
      "Model saved as experiments/ex_7//checkpoint_epoch_1.pth\n",
      "Epoch 2/30, Train Loss: 0.0921, Train R2: 0.5875, Train weighted MAE: 0.2214,Val Loss: 0.1061, Val R2: 0.4747, Val weighted MAE: 0.2428\n",
      "Model saved as experiments/ex_7//checkpoint_epoch_2.pth\n",
      "Epoch 3/30, Train Loss: 0.0823, Train R2: 0.6349, Train weighted MAE: 0.2052,Val Loss: 0.0954, Val R2: 0.5275, Val weighted MAE: 0.2156\n",
      "Model saved as experiments/ex_7//checkpoint_epoch_3.pth\n",
      "Epoch 4/30, Train Loss: 0.0768, Train R2: 0.6519, Train weighted MAE: 0.1958,Val Loss: 0.1061, Val R2: 0.4747, Val weighted MAE: 0.2715\n",
      "Epoch 5/30, Train Loss: 0.0627, Train R2: 0.7054, Train weighted MAE: 0.1746,Val Loss: 0.1272, Val R2: 0.3699, Val weighted MAE: 0.3118\n",
      "Epoch 6/30, Train Loss: 0.0561, Train R2: 0.7444, Train weighted MAE: 0.1581,Val Loss: 0.1381, Val R2: 0.3161, Val weighted MAE: 0.2047\n",
      "Epoch 7/30, Train Loss: 0.0466, Train R2: 0.7894, Train weighted MAE: 0.1379,Val Loss: 0.1066, Val R2: 0.4720, Val weighted MAE: 0.2856\n",
      "Epoch 8/30, Train Loss: 0.0346, Train R2: 0.8408, Train weighted MAE: 0.1183,Val Loss: 0.1280, Val R2: 0.3664, Val weighted MAE: 0.3124\n",
      "Epoch 9/30, Train Loss: 0.0298, Train R2: 0.8633, Train weighted MAE: 0.1079,Val Loss: 0.1047, Val R2: 0.4814, Val weighted MAE: 0.2850\n",
      "Epoch 10/30, Train Loss: 0.0231, Train R2: 0.8962, Train weighted MAE: 0.0919,Val Loss: 0.1044, Val R2: 0.4829, Val weighted MAE: 0.1991\n",
      "Epoch 11/30, Train Loss: 0.0169, Train R2: 0.9221, Train weighted MAE: 0.0811,Val Loss: 0.0955, Val R2: 0.5270, Val weighted MAE: 0.2559\n",
      "Epoch 12/30, Train Loss: 0.0138, Train R2: 0.9358, Train weighted MAE: 0.0701,Val Loss: 0.0876, Val R2: 0.5663, Val weighted MAE: 0.2171\n",
      "Model saved as experiments/ex_7//checkpoint_epoch_12.pth\n",
      "Epoch 13/30, Train Loss: 0.0119, Train R2: 0.9456, Train weighted MAE: 0.0646,Val Loss: 0.0895, Val R2: 0.5566, Val weighted MAE: 0.2208\n",
      "Epoch 14/30, Train Loss: 0.0096, Train R2: 0.9559, Train weighted MAE: 0.0594,Val Loss: 0.0859, Val R2: 0.5746, Val weighted MAE: 0.2167\n",
      "Model saved as experiments/ex_7//checkpoint_epoch_14.pth\n",
      "Epoch 15/30, Train Loss: 0.0129, Train R2: 0.9402, Train weighted MAE: 0.0651,Val Loss: 0.0863, Val R2: 0.5726, Val weighted MAE: 0.2346\n",
      "Epoch 16/30, Train Loss: 0.0122, Train R2: 0.9440, Train weighted MAE: 0.0614,Val Loss: 0.0830, Val R2: 0.5889, Val weighted MAE: 0.2204\n",
      "Model saved as experiments/ex_7//checkpoint_epoch_16.pth\n",
      "Epoch 17/30, Train Loss: 0.0090, Train R2: 0.9608, Train weighted MAE: 0.0557,Val Loss: 0.0854, Val R2: 0.5772, Val weighted MAE: 0.2157\n",
      "Epoch 18/30, Train Loss: 0.0084, Train R2: 0.9610, Train weighted MAE: 0.0525,Val Loss: 0.0860, Val R2: 0.5744, Val weighted MAE: 0.2289\n",
      "Epoch 19/30, Train Loss: 0.0061, Train R2: 0.9726, Train weighted MAE: 0.0454,Val Loss: 0.0845, Val R2: 0.5817, Val weighted MAE: 0.2279\n",
      "Epoch 20/30, Train Loss: 0.0085, Train R2: 0.9600, Train weighted MAE: 0.0547,Val Loss: 0.0903, Val R2: 0.5529, Val weighted MAE: 0.2549\n",
      "Epoch 21/30, Train Loss: 0.0079, Train R2: 0.9639, Train weighted MAE: 0.0504,Val Loss: 0.1050, Val R2: 0.4801, Val weighted MAE: 0.2809\n",
      "Epoch 22/30, Train Loss: 0.0089, Train R2: 0.9603, Train weighted MAE: 0.0556,Val Loss: 0.1020, Val R2: 0.4949, Val weighted MAE: 0.1987\n",
      "Epoch 23/30, Train Loss: 0.0089, Train R2: 0.9604, Train weighted MAE: 0.0544,Val Loss: 0.0811, Val R2: 0.5984, Val weighted MAE: 0.2235\n",
      "Model saved as experiments/ex_7//checkpoint_epoch_23.pth\n",
      "Epoch 24/30, Train Loss: 0.0073, Train R2: 0.9661, Train weighted MAE: 0.0471,Val Loss: 0.1057, Val R2: 0.4766, Val weighted MAE: 0.2824\n",
      "Epoch 25/30, Train Loss: 0.0082, Train R2: 0.9632, Train weighted MAE: 0.0507,Val Loss: 0.1178, Val R2: 0.4164, Val weighted MAE: 0.3101\n",
      "Epoch 26/30, Train Loss: 0.0079, Train R2: 0.9636, Train weighted MAE: 0.0491,Val Loss: 0.0862, Val R2: 0.5733, Val weighted MAE: 0.2164\n",
      "Epoch 27/30, Train Loss: 0.0055, Train R2: 0.9750, Train weighted MAE: 0.0420,Val Loss: 0.0842, Val R2: 0.5830, Val weighted MAE: 0.2270\n",
      "Epoch 28/30, Train Loss: 0.0055, Train R2: 0.9752, Train weighted MAE: 0.0421,Val Loss: 0.0885, Val R2: 0.5615, Val weighted MAE: 0.2524\n",
      "Epoch 29/30, Train Loss: 0.0062, Train R2: 0.9718, Train weighted MAE: 0.0450,Val Loss: 0.0867, Val R2: 0.5706, Val weighted MAE: 0.2454\n",
      "Epoch 30/30, Train Loss: 0.0066, Train R2: 0.9697, Train weighted MAE: 0.0479,Val Loss: 0.0851, Val R2: 0.5785, Val weighted MAE: 0.2221\n",
      "Model saved as experiments/ex_7//final_model.pth\n",
      "Training completed and final model saved.\n"
     ]
    }
   ],
   "source": [
    "ex = 'experiments/ex_7/'\n",
    "\n",
    "dense_weight_model = DenseWeight(0.25)\n",
    "dense_weight_model.fit(training_labels)\n",
    "\n",
    "balanced_train_loader = create_dataloader(train_dataset, 64, dense_weight_model)\n",
    "\n",
    "loss =  nn.MSELoss()\n",
    "model = load_resnet_model('resnet50', num_classes=1)\n",
    "optimizer = optim.Adam(model.parameters(), LR)\n",
    "scheduler = torch.optim.lr_scheduler.ExponentialLR(optimizer, gamma=GAMMA)\n",
    "\n",
    "train_model(model, loss, optimizer, scheduler, balanced_train_loader, val_loader, device, ex, epochs=EPOCH)"
   ]
  },
  {
   "attachments": {},
   "cell_type": "markdown",
   "metadata": {},
   "source": [
    "# Experiment 8: weighted sampling with replacement for a more balanced dataset, alpha = 0.5"
   ]
  },
  {
   "cell_type": "code",
   "execution_count": 9,
   "metadata": {},
   "outputs": [
    {
     "name": "stderr",
     "output_type": "stream",
     "text": [
      "/opt/conda/envs/pytorch/lib/python3.10/site-packages/torchvision/models/_utils.py:208: UserWarning: The parameter 'pretrained' is deprecated since 0.13 and may be removed in the future, please use 'weights' instead.\n",
      "  warnings.warn(\n",
      "/opt/conda/envs/pytorch/lib/python3.10/site-packages/torchvision/models/_utils.py:223: UserWarning: Arguments other than a weight enum or `None` for 'weights' are deprecated since 0.13 and may be removed in the future. The current behavior is equivalent to passing `weights=ResNet50_Weights.IMAGENET1K_V1`. You can also use `weights=ResNet50_Weights.DEFAULT` to get the most up-to-date weights.\n",
      "  warnings.warn(msg)\n"
     ]
    },
    {
     "name": "stdout",
     "output_type": "stream",
     "text": [
      "Epoch 1/30, Train Loss: 0.3038, Train R2: -0.2567, Train weighted MAE: 0.2995,Val Loss: 0.1399, Val R2: 0.3073, Val weighted MAE: 0.3357\n",
      "Model saved as experiments/ex_8/checkpoint_epoch_1.pth\n",
      "Epoch 2/30, Train Loss: 0.1072, Train R2: 0.5789, Train weighted MAE: 0.2203,Val Loss: 0.1245, Val R2: 0.3833, Val weighted MAE: 0.2491\n",
      "Model saved as experiments/ex_8/checkpoint_epoch_2.pth\n",
      "Epoch 3/30, Train Loss: 0.0931, Train R2: 0.6145, Train weighted MAE: 0.2035,Val Loss: 0.1008, Val R2: 0.5006, Val weighted MAE: 0.2390\n",
      "Model saved as experiments/ex_8/checkpoint_epoch_3.pth\n",
      "Epoch 4/30, Train Loss: 0.0798, Train R2: 0.6694, Train weighted MAE: 0.1906,Val Loss: 0.1421, Val R2: 0.2962, Val weighted MAE: 0.2107\n",
      "Epoch 5/30, Train Loss: 0.0774, Train R2: 0.6821, Train weighted MAE: 0.1834,Val Loss: 0.1121, Val R2: 0.4450, Val weighted MAE: 0.2815\n",
      "Epoch 6/30, Train Loss: 0.0604, Train R2: 0.7532, Train weighted MAE: 0.1549,Val Loss: 0.1754, Val R2: 0.1316, Val weighted MAE: 0.3224\n",
      "Epoch 7/30, Train Loss: 0.0487, Train R2: 0.8033, Train weighted MAE: 0.1325,Val Loss: 0.0969, Val R2: 0.5202, Val weighted MAE: 0.2541\n",
      "Model saved as experiments/ex_8/checkpoint_epoch_7.pth\n",
      "Epoch 8/30, Train Loss: 0.0340, Train R2: 0.8630, Train weighted MAE: 0.1080,Val Loss: 0.1025, Val R2: 0.4923, Val weighted MAE: 0.2495\n",
      "Epoch 9/30, Train Loss: 0.0315, Train R2: 0.8706, Train weighted MAE: 0.1017,Val Loss: 0.1576, Val R2: 0.2193, Val weighted MAE: 0.2034\n",
      "Epoch 10/30, Train Loss: 0.0232, Train R2: 0.9052, Train weighted MAE: 0.0872,Val Loss: 0.0968, Val R2: 0.5208, Val weighted MAE: 0.2502\n",
      "Model saved as experiments/ex_8/checkpoint_epoch_10.pth\n",
      "Epoch 11/30, Train Loss: 0.0224, Train R2: 0.9111, Train weighted MAE: 0.0886,Val Loss: 0.1035, Val R2: 0.4877, Val weighted MAE: 0.2627\n",
      "Epoch 12/30, Train Loss: 0.0173, Train R2: 0.9295, Train weighted MAE: 0.0752,Val Loss: 0.0856, Val R2: 0.5761, Val weighted MAE: 0.2318\n",
      "Model saved as experiments/ex_8/checkpoint_epoch_12.pth\n",
      "Epoch 13/30, Train Loss: 0.0179, Train R2: 0.9285, Train weighted MAE: 0.0739,Val Loss: 0.0935, Val R2: 0.5371, Val weighted MAE: 0.2066\n",
      "Epoch 14/30, Train Loss: 0.0150, Train R2: 0.9392, Train weighted MAE: 0.0686,Val Loss: 0.0938, Val R2: 0.5353, Val weighted MAE: 0.2140\n",
      "Epoch 15/30, Train Loss: 0.0123, Train R2: 0.9505, Train weighted MAE: 0.0625,Val Loss: 0.0875, Val R2: 0.5665, Val weighted MAE: 0.2248\n",
      "Epoch 16/30, Train Loss: 0.0123, Train R2: 0.9489, Train weighted MAE: 0.0632,Val Loss: 0.0851, Val R2: 0.5785, Val weighted MAE: 0.2189\n",
      "Model saved as experiments/ex_8/checkpoint_epoch_16.pth\n",
      "Epoch 17/30, Train Loss: 0.0096, Train R2: 0.9620, Train weighted MAE: 0.0552,Val Loss: 0.0837, Val R2: 0.5853, Val weighted MAE: 0.2214\n",
      "Model saved as experiments/ex_8/checkpoint_epoch_17.pth\n",
      "Epoch 18/30, Train Loss: 0.0082, Train R2: 0.9661, Train weighted MAE: 0.0491,Val Loss: 0.0860, Val R2: 0.5741, Val weighted MAE: 0.2213\n",
      "Epoch 19/30, Train Loss: 0.0067, Train R2: 0.9719, Train weighted MAE: 0.0450,Val Loss: 0.0847, Val R2: 0.5805, Val weighted MAE: 0.2277\n",
      "Epoch 20/30, Train Loss: 0.0086, Train R2: 0.9647, Train weighted MAE: 0.0507,Val Loss: 0.0842, Val R2: 0.5830, Val weighted MAE: 0.2196\n",
      "Epoch 21/30, Train Loss: 0.0093, Train R2: 0.9620, Train weighted MAE: 0.0534,Val Loss: 0.0880, Val R2: 0.5641, Val weighted MAE: 0.2086\n",
      "Epoch 22/30, Train Loss: 0.0063, Train R2: 0.9747, Train weighted MAE: 0.0432,Val Loss: 0.0849, Val R2: 0.5794, Val weighted MAE: 0.2169\n",
      "Epoch 23/30, Train Loss: 0.0097, Train R2: 0.9613, Train weighted MAE: 0.0527,Val Loss: 0.0873, Val R2: 0.5675, Val weighted MAE: 0.2135\n",
      "Epoch 24/30, Train Loss: 0.0061, Train R2: 0.9748, Train weighted MAE: 0.0432,Val Loss: 0.0882, Val R2: 0.5632, Val weighted MAE: 0.2097\n",
      "Epoch 25/30, Train Loss: 0.0063, Train R2: 0.9745, Train weighted MAE: 0.0429,Val Loss: 0.0847, Val R2: 0.5804, Val weighted MAE: 0.2313\n",
      "Epoch 26/30, Train Loss: 0.0080, Train R2: 0.9673, Train weighted MAE: 0.0493,Val Loss: 0.0855, Val R2: 0.5767, Val weighted MAE: 0.2266\n",
      "Epoch 27/30, Train Loss: 0.0068, Train R2: 0.9718, Train weighted MAE: 0.0454,Val Loss: 0.0855, Val R2: 0.5766, Val weighted MAE: 0.2266\n",
      "Epoch 28/30, Train Loss: 0.0070, Train R2: 0.9714, Train weighted MAE: 0.0457,Val Loss: 0.0853, Val R2: 0.5774, Val weighted MAE: 0.2233\n",
      "Epoch 29/30, Train Loss: 0.0068, Train R2: 0.9725, Train weighted MAE: 0.0452,Val Loss: 0.0839, Val R2: 0.5844, Val weighted MAE: 0.2268\n",
      "Epoch 30/30, Train Loss: 0.0048, Train R2: 0.9801, Train weighted MAE: 0.0366,Val Loss: 0.0844, Val R2: 0.5821, Val weighted MAE: 0.2243\n",
      "Model saved as experiments/ex_8/final_model.pth\n",
      "Training completed and final model saved.\n"
     ]
    }
   ],
   "source": [
    "ex = 'experiments/ex_8'\n",
    "\n",
    "dense_weight_model = DenseWeight(0.5)\n",
    "dense_weight_model.fit(training_labels)\n",
    "\n",
    "balanced_train_loader = create_dataloader(train_dataset, 64, dense_weight_model)\n",
    "\n",
    "loss =  nn.MSELoss()\n",
    "model = load_resnet_model('resnet50', num_classes=1)\n",
    "optimizer = optim.Adam(model.parameters(), LR)\n",
    "scheduler = torch.optim.lr_scheduler.ExponentialLR(optimizer, gamma=GAMMA)\n",
    "\n",
    "train_model(model, loss, optimizer, scheduler, balanced_train_loader, val_loader, device, ex, epochs=EPOCH)"
   ]
  },
  {
   "cell_type": "code",
   "execution_count": 6,
   "metadata": {},
   "outputs": [
    {
     "name": "stderr",
     "output_type": "stream",
     "text": [
      "/tmp/ipykernel_4289/3247452041.py:21: FutureWarning: \n",
      "\n",
      "`shade` is now deprecated in favor of `fill`; setting `fill=True`.\n",
      "This will become an error in seaborn v0.14.0; please update your code.\n",
      "\n",
      "  sns.kdeplot(training_labels, label='Original', shade=True)\n",
      "/tmp/ipykernel_4289/3247452041.py:24: FutureWarning: \n",
      "\n",
      "`shade` is now deprecated in favor of `fill`; setting `fill=True`.\n",
      "This will become an error in seaborn v0.14.0; please update your code.\n",
      "\n",
      "  sns.kdeplot(balanced_training_labels_alpha_025, label='alpha=0.25', shade=True)\n",
      "/tmp/ipykernel_4289/3247452041.py:25: FutureWarning: \n",
      "\n",
      "`shade` is now deprecated in favor of `fill`; setting `fill=True`.\n",
      "This will become an error in seaborn v0.14.0; please update your code.\n",
      "\n",
      "  sns.kdeplot(balanced_training_labels_alpha_05, label='alpha=0.5', shade=True)\n"
     ]
    },
    {
     "data": {
      "image/png": "[encoded data removed]",
      "text/plain": [
       "<Figure size 1200x600 with 1 Axes>"
      ]
     },
     "metadata": {},
     "output_type": "display_data"
    }
   ],
   "source": [
    "dense_weight_model = DenseWeight(0.25)\n",
    "dense_weight_model.fit(training_labels)\n",
    "balanced_train_loader = create_dataloader(train_dataset, 64, dense_weight_model)\n",
    "balanced_training_labels_alpha_025 = []\n",
    "for _,_, label in balanced_train_loader:\n",
    "    balanced_training_labels_alpha_025.extend(label.numpy())\n",
    "\n",
    "dense_weight_model = DenseWeight(0.5)\n",
    "dense_weight_model.fit(training_labels)\n",
    "balanced_train_loader = create_dataloader(train_dataset, 64, dense_weight_model)\n",
    "balanced_training_labels_alpha_05 = []\n",
    "for _,_, label in balanced_train_loader:\n",
    "    balanced_training_labels_alpha_05.extend(label.numpy())\n",
    "\n",
    "\n",
    "# Set up the matplotlib figure\n",
    "# Set up the matplotlib figure\n",
    "plt.figure(figsize=(12, 6))\n",
    "\n",
    "# KDE plot of True Labels\n",
    "sns.kdeplot(training_labels, label='Original', shade=True)\n",
    "\n",
    "# KDE plot of distribution of resampling\n",
    "sns.kdeplot(balanced_training_labels_alpha_025, label='alpha=0.25', shade=True)\n",
    "sns.kdeplot(balanced_training_labels_alpha_05, label='alpha=0.5', shade=True)\n",
    "\n",
    "# Plot formatting\n",
    "plt.title('Distribution of Labels Weighted Resampling')\n",
    "plt.xlabel('Value')\n",
    "plt.ylabel('Density')\n",
    "plt.legend()\n",
    "\n",
    "# Show the plot\n",
    "plt.show()"
   ]
  },
  {
   "attachments": {},
   "cell_type": "markdown",
   "metadata": {},
   "source": [
    "# Experiment 9: Balanced MSE loss"
   ]
  },
  {
   "cell_type": "code",
   "execution_count": 14,
   "metadata": {},
   "outputs": [
    {
     "name": "stderr",
     "output_type": "stream",
     "text": [
      "/opt/conda/envs/pytorch/lib/python3.10/site-packages/torchvision/models/_utils.py:208: UserWarning: The parameter 'pretrained' is deprecated since 0.13 and may be removed in the future, please use 'weights' instead.\n",
      "  warnings.warn(\n",
      "/opt/conda/envs/pytorch/lib/python3.10/site-packages/torchvision/models/_utils.py:223: UserWarning: Arguments other than a weight enum or `None` for 'weights' are deprecated since 0.13 and may be removed in the future. The current behavior is equivalent to passing `weights=ResNet50_Weights.IMAGENET1K_V1`. You can also use `weights=ResNet50_Weights.DEFAULT` to get the most up-to-date weights.\n",
      "  warnings.warn(msg)\n"
     ]
    },
    {
     "name": "stdout",
     "output_type": "stream",
     "text": [
      "Epoch 1/50, Train Loss: 6.5856, Train R2: -30.9165, Train weighted MAE: 0.8682,Val Loss: 6.7432, Val R2: -20.2740, Val weighted MAE: 1.1047\n",
      "Model saved as experiments/ex_9/checkpoint_epoch_1.pth\n",
      "Epoch 2/50, Train Loss: 6.0564, Train R2: -39.2368, Train weighted MAE: 0.8941,Val Loss: 6.8970, Val R2: -30.3179, Val weighted MAE: 1.5828\n",
      "Epoch 3/50, Train Loss: 5.4929, Train R2: -37.7566, Train weighted MAE: 0.8528,Val Loss: 5.2837, Val R2: -41.9819, Val weighted MAE: 0.7978\n",
      "Model saved as experiments/ex_9/checkpoint_epoch_3.pth\n",
      "Epoch 4/50, Train Loss: 4.8629, Train R2: -33.3707, Train weighted MAE: 0.7894,Val Loss: 4.6444, Val R2: -34.0428, Val weighted MAE: 0.6645\n",
      "Model saved as experiments/ex_9/checkpoint_epoch_4.pth\n",
      "Epoch 5/50, Train Loss: 4.1909, Train R2: -28.0894, Train weighted MAE: 0.7005,Val Loss: 3.9493, Val R2: -22.5776, Val weighted MAE: 0.4966\n",
      "Model saved as experiments/ex_9/checkpoint_epoch_5.pth\n",
      "Epoch 6/50, Train Loss: 3.4874, Train R2: -22.9997, Train weighted MAE: 0.6142,Val Loss: 3.3059, Val R2: -30.8803, Val weighted MAE: 0.4455\n",
      "Model saved as experiments/ex_9/checkpoint_epoch_6.pth\n",
      "Epoch 7/50, Train Loss: 2.7821, Train R2: -16.3403, Train weighted MAE: 0.5191,Val Loss: 2.6438, Val R2: -30.2258, Val weighted MAE: 0.4255\n",
      "Model saved as experiments/ex_9/checkpoint_epoch_7.pth\n",
      "Epoch 8/50, Train Loss: 2.1545, Train R2: -11.3199, Train weighted MAE: 0.4228,Val Loss: 2.0973, Val R2: -35.5905, Val weighted MAE: 0.4106\n",
      "Model saved as experiments/ex_9/checkpoint_epoch_8.pth\n",
      "Epoch 9/50, Train Loss: 1.5825, Train R2: -6.7193, Train weighted MAE: 0.3306,Val Loss: 1.5435, Val R2: -30.2287, Val weighted MAE: 0.3270\n",
      "Model saved as experiments/ex_9/checkpoint_epoch_9.pth\n",
      "Epoch 10/50, Train Loss: 1.1127, Train R2: -3.5510, Train weighted MAE: 0.2594,Val Loss: 1.0481, Val R2: -7.2567, Val weighted MAE: 0.2501\n",
      "Model saved as experiments/ex_9/checkpoint_epoch_10.pth\n",
      "Epoch 11/50, Train Loss: 0.7598, Train R2: -1.9212, Train weighted MAE: 0.2069,Val Loss: 0.7374, Val R2: -3.1826, Val weighted MAE: 0.2347\n",
      "Model saved as experiments/ex_9/checkpoint_epoch_11.pth\n",
      "Epoch 12/50, Train Loss: 0.5345, Train R2: -0.9142, Train weighted MAE: 0.1681,Val Loss: 0.5435, Val R2: -1.3558, Val weighted MAE: 0.2372\n",
      "Model saved as experiments/ex_9/checkpoint_epoch_12.pth\n",
      "Epoch 13/50, Train Loss: 0.4036, Train R2: -0.3128, Train weighted MAE: 0.1556,Val Loss: 0.4816, Val R2: -1.2018, Val weighted MAE: 0.2262\n",
      "Model saved as experiments/ex_9/checkpoint_epoch_13.pth\n",
      "Epoch 14/50, Train Loss: 0.3933, Train R2: -0.1920, Train weighted MAE: 0.1640,Val Loss: 0.4758, Val R2: -2.8264, Val weighted MAE: 0.2543\n",
      "Model saved as experiments/ex_9/checkpoint_epoch_14.pth\n",
      "Epoch 15/50, Train Loss: 0.3565, Train R2: -0.1319, Train weighted MAE: 0.1588,Val Loss: 0.4071, Val R2: -0.7611, Val weighted MAE: 0.2239\n",
      "Model saved as experiments/ex_9/checkpoint_epoch_15.pth\n",
      "Epoch 16/50, Train Loss: 0.2560, Train R2: 0.2674, Train weighted MAE: 0.1330,Val Loss: 0.3153, Val R2: -0.5189, Val weighted MAE: 0.2177\n",
      "Model saved as experiments/ex_9/checkpoint_epoch_16.pth\n",
      "Epoch 17/50, Train Loss: 0.1619, Train R2: 0.5360, Train weighted MAE: 0.1034,Val Loss: 0.2318, Val R2: -0.0076, Val weighted MAE: 0.2182\n",
      "Model saved as experiments/ex_9/checkpoint_epoch_17.pth\n",
      "Epoch 18/50, Train Loss: 0.1042, Train R2: 0.6497, Train weighted MAE: 0.0916,Val Loss: 0.1915, Val R2: -0.3957, Val weighted MAE: 0.2300\n",
      "Model saved as experiments/ex_9/checkpoint_epoch_18.pth\n",
      "Epoch 19/50, Train Loss: 0.0826, Train R2: 0.6632, Train weighted MAE: 0.0915,Val Loss: 0.1891, Val R2: -1.4824, Val weighted MAE: 0.2242\n",
      "Model saved as experiments/ex_9/checkpoint_epoch_19.pth\n",
      "Epoch 20/50, Train Loss: 0.0863, Train R2: 0.6272, Train weighted MAE: 0.0962,Val Loss: 0.2035, Val R2: -3.8699, Val weighted MAE: 0.2105\n",
      "Epoch 21/50, Train Loss: 0.0949, Train R2: 0.5968, Train weighted MAE: 0.0982,Val Loss: 0.2005, Val R2: -1.3242, Val weighted MAE: 0.2264\n",
      "Epoch 22/50, Train Loss: 0.1012, Train R2: 0.6139, Train weighted MAE: 0.0979,Val Loss: 0.1949, Val R2: -0.2368, Val weighted MAE: 0.2289\n",
      "Epoch 23/50, Train Loss: 0.0900, Train R2: 0.6624, Train weighted MAE: 0.0943,Val Loss: 0.1927, Val R2: -0.6718, Val weighted MAE: 0.2080\n",
      "Epoch 24/50, Train Loss: 0.0819, Train R2: 0.6911, Train weighted MAE: 0.0942,Val Loss: 0.1791, Val R2: 0.2092, Val weighted MAE: 0.2105\n",
      "Model saved as experiments/ex_9/checkpoint_epoch_24.pth\n",
      "Epoch 25/50, Train Loss: 0.0714, Train R2: 0.7325, Train weighted MAE: 0.0906,Val Loss: 0.1646, Val R2: 0.3354, Val weighted MAE: 0.2577\n",
      "Model saved as experiments/ex_9/checkpoint_epoch_25.pth\n",
      "Epoch 26/50, Train Loss: 0.0617, Train R2: 0.7884, Train weighted MAE: 0.0815,Val Loss: 0.1555, Val R2: -0.1997, Val weighted MAE: 0.2507\n",
      "Model saved as experiments/ex_9/checkpoint_epoch_26.pth\n",
      "Epoch 27/50, Train Loss: 0.0505, Train R2: 0.7925, Train weighted MAE: 0.0737,Val Loss: 0.1341, Val R2: 0.3741, Val weighted MAE: 0.2222\n",
      "Model saved as experiments/ex_9/checkpoint_epoch_27.pth\n",
      "Epoch 28/50, Train Loss: 0.0385, Train R2: 0.7893, Train weighted MAE: 0.0689,Val Loss: 0.1347, Val R2: 0.2060, Val weighted MAE: 0.2111\n",
      "Epoch 29/50, Train Loss: 0.0344, Train R2: 0.8256, Train weighted MAE: 0.0690,Val Loss: 0.1316, Val R2: 0.2159, Val weighted MAE: 0.2053\n",
      "Model saved as experiments/ex_9/checkpoint_epoch_29.pth\n",
      "Epoch 30/50, Train Loss: 0.0282, Train R2: 0.8565, Train weighted MAE: 0.0680,Val Loss: 0.1173, Val R2: 0.1808, Val weighted MAE: 0.2253\n",
      "Model saved as experiments/ex_9/checkpoint_epoch_30.pth\n",
      "Epoch 31/50, Train Loss: 0.0218, Train R2: 0.8758, Train weighted MAE: 0.0646,Val Loss: 0.1101, Val R2: 0.0682, Val weighted MAE: 0.2186\n",
      "Model saved as experiments/ex_9/checkpoint_epoch_31.pth\n",
      "Epoch 32/50, Train Loss: 0.0174, Train R2: 0.8743, Train weighted MAE: 0.0631,Val Loss: 0.1062, Val R2: 0.2719, Val weighted MAE: 0.2086\n",
      "Model saved as experiments/ex_9/checkpoint_epoch_32.pth\n",
      "Epoch 33/50, Train Loss: 0.0163, Train R2: 0.8733, Train weighted MAE: 0.0587,Val Loss: 0.1060, Val R2: 0.2803, Val weighted MAE: 0.2341\n",
      "Model saved as experiments/ex_9/checkpoint_epoch_33.pth\n",
      "Epoch 34/50, Train Loss: 0.0165, Train R2: 0.8726, Train weighted MAE: 0.0598,Val Loss: 0.1165, Val R2: 0.2311, Val weighted MAE: 0.2393\n",
      "Epoch 35/50, Train Loss: 0.0199, Train R2: 0.8209, Train weighted MAE: 0.0593,Val Loss: 0.1242, Val R2: -0.1166, Val weighted MAE: 0.2341\n",
      "Epoch 36/50, Train Loss: 0.0251, Train R2: 0.8086, Train weighted MAE: 0.0626,Val Loss: 0.1223, Val R2: 0.1426, Val weighted MAE: 0.2270\n",
      "Epoch 37/50, Train Loss: 0.0303, Train R2: 0.8068, Train weighted MAE: 0.0670,Val Loss: 0.1390, Val R2: -0.7279, Val weighted MAE: 0.2620\n",
      "Epoch 38/50, Train Loss: 0.0335, Train R2: 0.8455, Train weighted MAE: 0.0730,Val Loss: 0.1321, Val R2: -1.5698, Val weighted MAE: 0.2365\n",
      "Epoch 39/50, Train Loss: 0.0350, Train R2: 0.8412, Train weighted MAE: 0.0816,Val Loss: 0.1257, Val R2: 0.0042, Val weighted MAE: 0.2143\n",
      "Epoch 40/50, Train Loss: 0.0357, Train R2: 0.8335, Train weighted MAE: 0.0844,Val Loss: 0.1217, Val R2: 0.3125, Val weighted MAE: 0.2216\n",
      "Epoch 41/50, Train Loss: 0.0343, Train R2: 0.8600, Train weighted MAE: 0.0792,Val Loss: 0.1234, Val R2: 0.3276, Val weighted MAE: 0.2409\n",
      "Epoch 42/50, Train Loss: 0.0273, Train R2: 0.8698, Train weighted MAE: 0.0640,Val Loss: 0.1156, Val R2: 0.1955, Val weighted MAE: 0.2317\n",
      "Epoch 43/50, Train Loss: 0.0198, Train R2: 0.8846, Train weighted MAE: 0.0551,Val Loss: 0.1089, Val R2: 0.0897, Val weighted MAE: 0.2287\n",
      "Epoch 44/50, Train Loss: 0.0147, Train R2: 0.8921, Train weighted MAE: 0.0519,Val Loss: 0.1016, Val R2: 0.3874, Val weighted MAE: 0.2265\n",
      "Model saved as experiments/ex_9/checkpoint_epoch_44.pth\n",
      "Epoch 45/50, Train Loss: 0.0110, Train R2: 0.8950, Train weighted MAE: 0.0500,Val Loss: 0.0985, Val R2: 0.4491, Val weighted MAE: 0.2170\n",
      "Model saved as experiments/ex_9/checkpoint_epoch_45.pth\n",
      "Epoch 46/50, Train Loss: 0.0083, Train R2: 0.9090, Train weighted MAE: 0.0517,Val Loss: 0.1005, Val R2: 0.3214, Val weighted MAE: 0.2064\n",
      "Epoch 47/50, Train Loss: 0.0068, Train R2: 0.9231, Train weighted MAE: 0.0538,Val Loss: 0.0954, Val R2: 0.3346, Val weighted MAE: 0.2147\n",
      "Model saved as experiments/ex_9/checkpoint_epoch_47.pth\n",
      "Epoch 48/50, Train Loss: 0.0056, Train R2: 0.9297, Train weighted MAE: 0.0529,Val Loss: 0.0933, Val R2: 0.4089, Val weighted MAE: 0.2261\n",
      "Model saved as experiments/ex_9/checkpoint_epoch_48.pth\n",
      "Epoch 49/50, Train Loss: 0.0049, Train R2: 0.9289, Train weighted MAE: 0.0522,Val Loss: 0.0956, Val R2: 0.3946, Val weighted MAE: 0.2357\n",
      "Epoch 50/50, Train Loss: 0.0045, Train R2: 0.9220, Train weighted MAE: 0.0517,Val Loss: 0.0931, Val R2: 0.4307, Val weighted MAE: 0.2226\n",
      "Model saved as experiments/ex_9/checkpoint_epoch_50.pth\n",
      "Model saved as experiments/ex_9/final_model.pth\n",
      "Training completed and final model saved.\n"
     ]
    }
   ],
   "source": [
    "ex = 'experiments/ex_9'\n",
    "\n",
    "init_noise_sigma = 1.0\n",
    "sigma_lr = 0.001\n",
    "loss = BMCLoss(init_noise_sigma)\n",
    "model = load_resnet_model('resnet50', num_classes=1)\n",
    "optimizer = optim.Adam(model.parameters(), lr=LR)\n",
    "optimizer.add_param_group({'params': loss.noise_sigma, 'lr': sigma_lr, 'name': 'noise_sigma'})\n",
    "scheduler = torch.optim.lr_scheduler.ExponentialLR(optimizer, gamma=GAMMA)\n",
    "\n",
    "train_model(model, loss, optimizer, scheduler, train_loader, val_loader, device, ex, epochs=50)"
   ]
  }
 ],
 "metadata": {
  "kernelspec": {
   "display_name": "myenv",
   "language": "python",
   "name": "python3"
  },
  "language_info": {
   "codemirror_mode": {
    "name": "ipython",
    "version": 3
   },
   "file_extension": ".py",
   "mimetype": "text/x-python",
   "name": "python",
   "nbconvert_exporter": "python",
   "pygments_lexer": "ipython3",
   "version": "3.10.13"
  }
 },
 "nbformat": 4,
 "nbformat_minor": 2
}
