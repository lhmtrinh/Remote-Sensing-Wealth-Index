{
 "cells": [
  {
   "cell_type": "code",
   "execution_count": 1,
   "metadata": {},
   "outputs": [],
   "source": [
    "import torch\n",
    "from model import load_resnet_model\n",
    "from train_regression_weighted_loss_loaded import train_model\n",
    "from dataloader import create_dataloader\n",
    "\n",
    "from utils import sorted_file_paths\n",
    "import torch.nn as nn\n",
    "import torch.optim as optim"
   ]
  },
  {
   "attachments": {},
   "cell_type": "markdown",
   "metadata": {},
   "source": [
    "# Setting up common variables for all experiments"
   ]
  },
  {
   "cell_type": "code",
   "execution_count": 2,
   "metadata": {},
   "outputs": [],
   "source": [
    "LR = 0.001\n",
    "EPOCH = 1\n",
    "\n",
    "device = torch.device('cuda' if torch.cuda.is_available() else 'cpu')\n",
    "train_files = sorted_file_paths('./data/records/train/')\n",
    "val_files = sorted_file_paths('./data/records/val/')\n",
    "\n",
    "train_loaders = [create_dataloader(file, True, 64) for file in train_files]\n",
    "val_loaders = [create_dataloader(file, True, 64) for file in val_files]\n",
    "\n",
    "training_labels = []\n",
    "for train_loader in train_loaders:\n",
    "    for _, labels in train_loader:\n",
    "        training_labels.extend(labels.detach().cpu().numpy())"
   ]
  },
  {
   "attachments": {},
   "cell_type": "markdown",
   "metadata": {},
   "source": [
    "# Experiment 1: L2 loss"
   ]
  },
  {
   "cell_type": "code",
   "execution_count": 3,
   "metadata": {},
   "outputs": [
    {
     "name": "stderr",
     "output_type": "stream",
     "text": [
      "c:\\Users\\lhmtr\\OneDrive\\Desktop\\remote-sensing-asset-index\\myenv\\Lib\\site-packages\\torchvision\\models\\_utils.py:208: UserWarning: The parameter 'pretrained' is deprecated since 0.13 and may be removed in the future, please use 'weights' instead.\n",
      "  warnings.warn(\n",
      "c:\\Users\\lhmtr\\OneDrive\\Desktop\\remote-sensing-asset-index\\myenv\\Lib\\site-packages\\torchvision\\models\\_utils.py:223: UserWarning: Arguments other than a weight enum or `None` for 'weights' are deprecated since 0.13 and may be removed in the future. The current behavior is equivalent to passing `weights=ResNet50_Weights.IMAGENET1K_V1`. You can also use `weights=ResNet50_Weights.DEFAULT` to get the most up-to-date weights.\n",
      "  warnings.warn(msg)\n"
     ]
    },
    {
     "name": "stdout",
     "output_type": "stream",
     "text": [
      "Epoch 1/1, Train Loss: 1.8711, Train R2: -8.3076, Train weighted MAE: 1.0176,Val Loss: 92.0891, Val R2: -500.8802, Val weighted MAE: 6.0679\n",
      "Model saved as ex_1/checkpoint_epoch_1.pth\n",
      "Model saved as ex_1/final_model.pth\n",
      "Training completed and final model saved.\n"
     ]
    }
   ],
   "source": [
    "ex = 'ex_1'\n",
    "loss =  nn.MSELoss()\n",
    "model = load_resnet_model('resnet50', num_classes=1)\n",
    "optimizer = optim.Adam(model.parameters(), LR)\n",
    "\n",
    "train_model(model, loss, optimizer, train_loaders, val_loaders, device, ex, epochs=EPOCH)"
   ]
  },
  {
   "attachments": {},
   "cell_type": "markdown",
   "metadata": {},
   "source": [
    "# Experiment 2: L3 loss"
   ]
  },
  {
   "cell_type": "code",
   "execution_count": 4,
   "metadata": {},
   "outputs": [
    {
     "name": "stderr",
     "output_type": "stream",
     "text": [
      "c:\\Users\\lhmtr\\OneDrive\\Desktop\\remote-sensing-asset-index\\myenv\\Lib\\site-packages\\torchvision\\models\\_utils.py:208: UserWarning: The parameter 'pretrained' is deprecated since 0.13 and may be removed in the future, please use 'weights' instead.\n",
      "  warnings.warn(\n",
      "c:\\Users\\lhmtr\\OneDrive\\Desktop\\remote-sensing-asset-index\\myenv\\Lib\\site-packages\\torchvision\\models\\_utils.py:223: UserWarning: Arguments other than a weight enum or `None` for 'weights' are deprecated since 0.13 and may be removed in the future. The current behavior is equivalent to passing `weights=ResNet50_Weights.IMAGENET1K_V1`. You can also use `weights=ResNet50_Weights.DEFAULT` to get the most up-to-date weights.\n",
      "  warnings.warn(msg)\n"
     ]
    },
    {
     "name": "stdout",
     "output_type": "stream",
     "text": [
      "Epoch 1/1, Train Loss: 5.5348, Train R2: -9.1135, Train weighted MAE: 0.9844,Val Loss: 7149232.9531, Val R2: -66035.3811, Val weighted MAE: 23.7026\n"
     ]
    },
    {
     "ename": "RuntimeError",
     "evalue": "Parent directory ex_2 does not exist.",
     "output_type": "error",
     "traceback": [
      "\u001b[1;31m---------------------------------------------------------------------------\u001b[0m",
      "\u001b[1;31mRuntimeError\u001b[0m                              Traceback (most recent call last)",
      "Cell \u001b[1;32mIn[4], line 7\u001b[0m\n\u001b[0;32m      4\u001b[0m model \u001b[39m=\u001b[39m load_resnet_model(\u001b[39m'\u001b[39m\u001b[39mresnet50\u001b[39m\u001b[39m'\u001b[39m, num_classes\u001b[39m=\u001b[39m\u001b[39m1\u001b[39m)\n\u001b[0;32m      5\u001b[0m optimizer \u001b[39m=\u001b[39m optim\u001b[39m.\u001b[39mAdam(model\u001b[39m.\u001b[39mparameters(), LR)\n\u001b[1;32m----> 7\u001b[0m train_model(model, loss, optimizer, train_loaders, val_loaders, device, \u001b[39m'\u001b[39;49m\u001b[39mex_2\u001b[39;49m\u001b[39m'\u001b[39;49m ,epochs\u001b[39m=\u001b[39;49mEPOCH)\n",
      "File \u001b[1;32mc:\\Users\\lhmtr\\OneDrive\\Desktop\\remote-sensing-asset-index\\train_regression_weighted_loss_loaded.py:64\u001b[0m, in \u001b[0;36mtrain_model\u001b[1;34m(model, criterion, optimizer, train_loaders, val_loaders, device, save_directory, epochs)\u001b[0m\n\u001b[0;32m     62\u001b[0m     \u001b[39mif\u001b[39;00m is_best:\n\u001b[0;32m     63\u001b[0m         best_val_loss \u001b[39m=\u001b[39m avg_val_loss\n\u001b[1;32m---> 64\u001b[0m         save_checkpoint(model, \u001b[39mf\u001b[39;49m\u001b[39m'\u001b[39;49m\u001b[39m{\u001b[39;49;00msave_directory\u001b[39m}\u001b[39;49;00m\u001b[39m/checkpoint_epoch_\u001b[39;49m\u001b[39m{\u001b[39;49;00mepoch\u001b[39m+\u001b[39;49m\u001b[39m1\u001b[39;49m\u001b[39m}\u001b[39;49;00m\u001b[39m.pth\u001b[39;49m\u001b[39m'\u001b[39;49m)\n\u001b[0;32m     66\u001b[0m save_checkpoint(model, \u001b[39mf\u001b[39m\u001b[39m'\u001b[39m\u001b[39m{\u001b[39;00msave_directory\u001b[39m}\u001b[39;00m\u001b[39m/final_model.pth\u001b[39m\u001b[39m'\u001b[39m)\n\u001b[0;32m     67\u001b[0m \u001b[39mprint\u001b[39m(\u001b[39m'\u001b[39m\u001b[39mTraining completed and final model saved.\u001b[39m\u001b[39m'\u001b[39m)\n",
      "File \u001b[1;32mc:\\Users\\lhmtr\\OneDrive\\Desktop\\remote-sensing-asset-index\\checkpoint.py:11\u001b[0m, in \u001b[0;36msave_checkpoint\u001b[1;34m(model, filename)\u001b[0m\n\u001b[0;32m      3\u001b[0m \u001b[39mdef\u001b[39;00m \u001b[39msave_checkpoint\u001b[39m(model, filename\u001b[39m=\u001b[39m\u001b[39m'\u001b[39m\u001b[39mmodel_checkpoint.pth\u001b[39m\u001b[39m'\u001b[39m):\n\u001b[0;32m      4\u001b[0m \u001b[39m    \u001b[39m\u001b[39m\"\"\"\u001b[39;00m\n\u001b[0;32m      5\u001b[0m \u001b[39m    Saves the model checkpoint.\u001b[39;00m\n\u001b[0;32m      6\u001b[0m \n\u001b[1;32m   (...)\u001b[0m\n\u001b[0;32m      9\u001b[0m \u001b[39m    - filename (str): The filename for the saved checkpoint.\u001b[39;00m\n\u001b[0;32m     10\u001b[0m \u001b[39m    \"\"\"\u001b[39;00m\n\u001b[1;32m---> 11\u001b[0m     torch\u001b[39m.\u001b[39;49msave(model\u001b[39m.\u001b[39;49mstate_dict(), filename)\n\u001b[0;32m     12\u001b[0m     \u001b[39mprint\u001b[39m(\u001b[39mf\u001b[39m\u001b[39m'\u001b[39m\u001b[39mModel saved as \u001b[39m\u001b[39m{\u001b[39;00mfilename\u001b[39m}\u001b[39;00m\u001b[39m'\u001b[39m)\n",
      "File \u001b[1;32mc:\\Users\\lhmtr\\OneDrive\\Desktop\\remote-sensing-asset-index\\myenv\\Lib\\site-packages\\torch\\serialization.py:440\u001b[0m, in \u001b[0;36msave\u001b[1;34m(obj, f, pickle_module, pickle_protocol, _use_new_zipfile_serialization)\u001b[0m\n\u001b[0;32m    437\u001b[0m _check_save_filelike(f)\n\u001b[0;32m    439\u001b[0m \u001b[39mif\u001b[39;00m _use_new_zipfile_serialization:\n\u001b[1;32m--> 440\u001b[0m     \u001b[39mwith\u001b[39;00m _open_zipfile_writer(f) \u001b[39mas\u001b[39;00m opened_zipfile:\n\u001b[0;32m    441\u001b[0m         _save(obj, opened_zipfile, pickle_module, pickle_protocol)\n\u001b[0;32m    442\u001b[0m         \u001b[39mreturn\u001b[39;00m\n",
      "File \u001b[1;32mc:\\Users\\lhmtr\\OneDrive\\Desktop\\remote-sensing-asset-index\\myenv\\Lib\\site-packages\\torch\\serialization.py:315\u001b[0m, in \u001b[0;36m_open_zipfile_writer\u001b[1;34m(name_or_buffer)\u001b[0m\n\u001b[0;32m    313\u001b[0m \u001b[39melse\u001b[39;00m:\n\u001b[0;32m    314\u001b[0m     container \u001b[39m=\u001b[39m _open_zipfile_writer_buffer\n\u001b[1;32m--> 315\u001b[0m \u001b[39mreturn\u001b[39;00m container(name_or_buffer)\n",
      "File \u001b[1;32mc:\\Users\\lhmtr\\OneDrive\\Desktop\\remote-sensing-asset-index\\myenv\\Lib\\site-packages\\torch\\serialization.py:288\u001b[0m, in \u001b[0;36m_open_zipfile_writer_file.__init__\u001b[1;34m(self, name)\u001b[0m\n\u001b[0;32m    287\u001b[0m \u001b[39mdef\u001b[39;00m \u001b[39m__init__\u001b[39m(\u001b[39mself\u001b[39m, name) \u001b[39m-\u001b[39m\u001b[39m>\u001b[39m \u001b[39mNone\u001b[39;00m:\n\u001b[1;32m--> 288\u001b[0m     \u001b[39msuper\u001b[39m()\u001b[39m.\u001b[39m\u001b[39m__init__\u001b[39m(torch\u001b[39m.\u001b[39;49m_C\u001b[39m.\u001b[39;49mPyTorchFileWriter(\u001b[39mstr\u001b[39;49m(name)))\n",
      "\u001b[1;31mRuntimeError\u001b[0m: Parent directory ex_2 does not exist."
     ]
    }
   ],
   "source": [
    "from weighted_L3_loss import L3Loss\n",
    "\n",
    "ex = 'ex_2'\n",
    "loss =  L3Loss()\n",
    "model = load_resnet_model('resnet50', num_classes=1)\n",
    "optimizer = optim.Adam(model.parameters(), LR)\n",
    "\n",
    "train_model(model, loss, optimizer, train_loaders, val_loaders, device, ex, epochs=EPOCH)"
   ]
  },
  {
   "attachments": {},
   "cell_type": "markdown",
   "metadata": {},
   "source": [
    "# Experiment 3: Weighted MSE with dense_weight model, alpha = 0.25"
   ]
  },
  {
   "cell_type": "code",
   "execution_count": 8,
   "metadata": {},
   "outputs": [],
   "source": [
    "from dense_weight import DenseWeight\n",
    "from weighted_MSE_loss import WeightedMSELoss"
   ]
  },
  {
   "cell_type": "code",
   "execution_count": 9,
   "metadata": {},
   "outputs": [
    {
     "name": "stderr",
     "output_type": "stream",
     "text": [
      "c:\\Users\\lhmtr\\OneDrive\\Desktop\\remote-sensing-asset-index\\myenv\\Lib\\site-packages\\torchvision\\models\\_utils.py:208: UserWarning: The parameter 'pretrained' is deprecated since 0.13 and may be removed in the future, please use 'weights' instead.\n",
      "  warnings.warn(\n",
      "c:\\Users\\lhmtr\\OneDrive\\Desktop\\remote-sensing-asset-index\\myenv\\Lib\\site-packages\\torchvision\\models\\_utils.py:223: UserWarning: Arguments other than a weight enum or `None` for 'weights' are deprecated since 0.13 and may be removed in the future. The current behavior is equivalent to passing `weights=ResNet50_Weights.IMAGENET1K_V1`. You can also use `weights=ResNet50_Weights.DEFAULT` to get the most up-to-date weights.\n",
      "  warnings.warn(msg)\n"
     ]
    },
    {
     "name": "stdout",
     "output_type": "stream",
     "text": [
      "MAE for bin 2: 1.5641959\n",
      "MAE for bin 3: 1.1126256\n",
      "MAE for bin 4: 1.0491617\n",
      "MAE for bin 5: 0.9847947\n",
      "MAE for bin 6: 0.9906604\n",
      "MAE for bin 1: 60.09752\n",
      "MAE for bin 2: 50.60432\n",
      "MAE for bin 3: 54.209522\n",
      "MAE for bin 4: 58.770176\n",
      "MAE for bin 5: 61.25448\n",
      "MAE for bin 6: 61.864296\n",
      "Epoch 1/1, Train Loss: 2.0621, Train R2: -9.1192, Train weighted MAE: 1.4322,Val Loss: 4109.0274, Val R2: -22487.6166, Val weighted MAE: 58.1779\n",
      "Model saved as checkpoint_epoch_1.pth\n",
      "Model saved as final_model.pth\n",
      "Training completed and final model saved.\n"
     ]
    }
   ],
   "source": [
    "ex = 'ex_3'\n",
    "\n",
    "dense_weight_model = DenseWeight(0.25)\n",
    "dense_weight_model.fit(training_labels)\n",
    "loss =  WeightedMSELoss(dense_weight_model)\n",
    "model = load_resnet_model('resnet50', num_classes=1)\n",
    "optimizer = optim.Adam(model.parameters(), LR)\n",
    "\n",
    "train_model(model, loss, optimizer, train_loaders, val_loaders, device, ex, epochs=EPOCH)"
   ]
  },
  {
   "attachments": {},
   "cell_type": "markdown",
   "metadata": {},
   "source": [
    "# Experiment 4: Weighted MSE with dense_weight model, alpha = 0.5"
   ]
  },
  {
   "cell_type": "code",
   "execution_count": 10,
   "metadata": {},
   "outputs": [
    {
     "name": "stderr",
     "output_type": "stream",
     "text": [
      "c:\\Users\\lhmtr\\OneDrive\\Desktop\\remote-sensing-asset-index\\myenv\\Lib\\site-packages\\torchvision\\models\\_utils.py:208: UserWarning: The parameter 'pretrained' is deprecated since 0.13 and may be removed in the future, please use 'weights' instead.\n",
      "  warnings.warn(\n",
      "c:\\Users\\lhmtr\\OneDrive\\Desktop\\remote-sensing-asset-index\\myenv\\Lib\\site-packages\\torchvision\\models\\_utils.py:223: UserWarning: Arguments other than a weight enum or `None` for 'weights' are deprecated since 0.13 and may be removed in the future. The current behavior is equivalent to passing `weights=ResNet50_Weights.IMAGENET1K_V1`. You can also use `weights=ResNet50_Weights.DEFAULT` to get the most up-to-date weights.\n",
      "  warnings.warn(msg)\n"
     ]
    },
    {
     "name": "stdout",
     "output_type": "stream",
     "text": [
      "MAE for bin 2: 1.1206676\n",
      "MAE for bin 3: 0.9540928\n",
      "MAE for bin 4: 0.9106966\n",
      "MAE for bin 5: 0.96642876\n",
      "MAE for bin 6: 1.1671207\n",
      "MAE for bin 1: 10.19127\n",
      "MAE for bin 2: 19.229319\n",
      "MAE for bin 3: 13.944123\n",
      "MAE for bin 4: 13.980035\n",
      "MAE for bin 5: 17.688894\n",
      "MAE for bin 6: 25.890987\n",
      "Epoch 1/1, Train Loss: 1.6738, Train R2: -7.6164, Train weighted MAE: 1.0850,Val Loss: 900.6723, Val R2: -5656.7559, Val weighted MAE: 12.1556\n",
      "Model saved as checkpoint_epoch_1.pth\n",
      "Model saved as final_model.pth\n",
      "Training completed and final model saved.\n"
     ]
    }
   ],
   "source": [
    "ex = 'ex_4'\n",
    "\n",
    "dense_weight_model = DenseWeight(0.5)\n",
    "dense_weight_model.fit(training_labels)\n",
    "loss =  WeightedMSELoss(dense_weight_model)\n",
    "model = load_resnet_model('resnet50', num_classes=1)\n",
    "optimizer = optim.Adam(model.parameters(), LR)\n",
    "\n",
    "train_model(model, loss, optimizer, train_loaders, val_loaders, device, ex, epochs=EPOCH)"
   ]
  },
  {
   "attachments": {},
   "cell_type": "markdown",
   "metadata": {},
   "source": [
    "# Experiment 5: Balanced MSE loss"
   ]
  },
  {
   "cell_type": "code",
   "execution_count": 11,
   "metadata": {},
   "outputs": [],
   "source": [
    "from balanced_MSE_loss import BMCLoss"
   ]
  },
  {
   "cell_type": "code",
   "execution_count": 12,
   "metadata": {},
   "outputs": [
    {
     "name": "stderr",
     "output_type": "stream",
     "text": [
      "c:\\Users\\lhmtr\\OneDrive\\Desktop\\remote-sensing-asset-index\\myenv\\Lib\\site-packages\\torchvision\\models\\_utils.py:208: UserWarning: The parameter 'pretrained' is deprecated since 0.13 and may be removed in the future, please use 'weights' instead.\n",
      "  warnings.warn(\n",
      "c:\\Users\\lhmtr\\OneDrive\\Desktop\\remote-sensing-asset-index\\myenv\\Lib\\site-packages\\torchvision\\models\\_utils.py:223: UserWarning: Arguments other than a weight enum or `None` for 'weights' are deprecated since 0.13 and may be removed in the future. The current behavior is equivalent to passing `weights=ResNet50_Weights.IMAGENET1K_V1`. You can also use `weights=ResNet50_Weights.DEFAULT` to get the most up-to-date weights.\n",
      "  warnings.warn(msg)\n"
     ]
    },
    {
     "name": "stdout",
     "output_type": "stream",
     "text": [
      "MAE for bin 2: 1.4273541\n",
      "MAE for bin 3: 1.1952238\n",
      "MAE for bin 4: 1.7503417\n",
      "MAE for bin 5: 1.7749552\n",
      "MAE for bin 6: 2.318867\n",
      "MAE for bin 1: 2.951308\n",
      "MAE for bin 2: 1.9054776\n",
      "MAE for bin 3: 4.6486855\n",
      "MAE for bin 4: 4.2353673\n",
      "MAE for bin 5: 2.5514913\n",
      "MAE for bin 6: 2.5924032\n",
      "Epoch 1/1, Train Loss: 8.6341, Train R2: -29.0568, Train weighted MAE: 1.4724,Val Loss: 11.1934, Val R2: -140.1235, Val weighted MAE: 2.7783\n",
      "Model saved as checkpoint_epoch_1.pth\n",
      "Model saved as final_model.pth\n",
      "Training completed and final model saved.\n"
     ]
    }
   ],
   "source": [
    "ex = 'ex_5'\n",
    "\n",
    "init_noise_sigma = 1.0\n",
    "sigma_lr = 0.001\n",
    "loss = BMCLoss(init_noise_sigma)\n",
    "model = load_resnet_model('resnet50', num_classes=1)\n",
    "optimizer = optim.Adam(model.parameters(), lr=LR)\n",
    "optimizer.add_param_group({'params': loss.noise_sigma, 'lr': sigma_lr, 'name': 'noise_sigma'})\n",
    "\n",
    "train_model(model, loss, optimizer, train_loaders, val_loaders, device, ex, epochs=EPOCH)"
   ]
  }
 ],
 "metadata": {
  "kernelspec": {
   "display_name": "myenv",
   "language": "python",
   "name": "python3"
  },
  "language_info": {
   "codemirror_mode": {
    "name": "ipython",
    "version": 3
   },
   "file_extension": ".py",
   "mimetype": "text/x-python",
   "name": "python",
   "nbconvert_exporter": "python",
   "pygments_lexer": "ipython3",
   "version": "3.11.3"
  }
 },
 "nbformat": 4,
 "nbformat_minor": 2
}
