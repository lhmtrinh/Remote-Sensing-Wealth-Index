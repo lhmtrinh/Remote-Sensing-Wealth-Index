{
 "cells": [
  {
   "cell_type": "code",
   "execution_count": 3,
   "metadata": {},
   "outputs": [],
   "source": [
    "import torch\n",
    "from model import load_resnet_model\n",
    "from dataloader import create_dataloader, read_tfrecord\n",
    "from train import train_model\n",
    "from checkpoint import save_checkpoint, load_checkpoint\n",
    "from tqdm import tqdm"
   ]
  },
  {
   "cell_type": "code",
   "execution_count": 2,
   "metadata": {},
   "outputs": [],
   "source": []
  },
  {
   "cell_type": "code",
   "execution_count": 5,
   "metadata": {},
   "outputs": [
    {
     "name": "stderr",
     "output_type": "stream",
     "text": [
      "100%|██████████| 2000/2000 [06:06<00:00,  5.46it/s]\n"
     ]
    }
   ],
   "source": [
    "def concatenate_and_save_tfrecords(tfrecord_paths):\n",
    "    all_data = []\n",
    "    all_labels = []\n",
    "    count = 0\n",
    "    batch_number = 1\n",
    "    for path in tqdm(tfrecord_paths):\n",
    "        data, label = read_tfrecord(path)  # Read each TFRecord file\n",
    "        all_data.append(data)\n",
    "        all_labels.append(label)\n",
    "        count = count+1\n",
    "        if count == 1024:\n",
    "            # Concatenate all data and labels\n",
    "            concatenated_data = torch.cat(all_data, dim=0)\n",
    "            concatenated_labels = torch.cat(all_labels, dim=0)\n",
    "            all_data = []\n",
    "            all_labels = []\n",
    "            count = 0\n",
    "            torch.save({'data': concatenated_data, 'labels': concatenated_labels}, f'data_batch_{batch_number}.pth')\n",
    "            batch_number = batch_number + 1\n",
    "\n",
    "    # Concatenate all data and labels\n",
    "    concatenated_data = torch.cat(all_data, dim=0)\n",
    "    concatenated_labels = torch.cat(all_labels, dim=0)\n",
    "\n",
    "    # Save using torch.save or h5py\n",
    "    torch.save({'data': concatenated_data, 'labels': concatenated_labels}, f'data_batch_{batch_number}.pth')\n",
    "\n",
    "concatenate_and_save_tfrecords(file_paths)"
   ]
  },
  {
   "cell_type": "code",
   "execution_count": null,
   "metadata": {},
   "outputs": [],
   "source": [
    "concatenated_dataset = ConcatenatedDataset('concatenated_data.pth')\n",
    "concatenated_dataloader = DataLoader(concatenated_dataset, batch_size=32, shuffle=True)"
   ]
  },
  {
   "cell_type": "code",
   "execution_count": 5,
   "metadata": {},
   "outputs": [],
   "source": [
    "from torch.utils.data import Dataset\n",
    "from torch.utils.data import DataLoader\n",
    "\n",
    "class ConcatenatedDataset(Dataset):\n",
    "    def __init__(self, data_file):\n",
    "        self.data = torch.load(data_file)['data']\n",
    "        self.labels = torch.load(data_file)['labels']\n",
    "\n",
    "    def __len__(self):\n",
    "        return len(self.data)\n",
    "\n",
    "    def __getitem__(self, idx):\n",
    "        return self.data[idx], self.labels[idx]\n",
    "\n",
    "concatenated_dataset = ConcatenatedDataset('concatenated_data.pth')\n",
    "concatenated_dataloader = DataLoader(concatenated_dataset, batch_size=32, shuffle=True)\n"
   ]
  },
  {
   "cell_type": "code",
   "execution_count": 19,
   "metadata": {},
   "outputs": [
    {
     "name": "stderr",
     "output_type": "stream",
     "text": [
      "c:\\Users\\lhmtr\\OneDrive\\Desktop\\remote-sensing-asset-index\\myenv\\Lib\\site-packages\\torchvision\\models\\_utils.py:208: UserWarning: The parameter 'pretrained' is deprecated since 0.13 and may be removed in the future, please use 'weights' instead.\n",
      "  warnings.warn(\n",
      "c:\\Users\\lhmtr\\OneDrive\\Desktop\\remote-sensing-asset-index\\myenv\\Lib\\site-packages\\torchvision\\models\\_utils.py:223: UserWarning: Arguments other than a weight enum or `None` for 'weights' are deprecated since 0.13 and may be removed in the future. The current behavior is equivalent to passing `weights=ResNet50_Weights.IMAGENET1K_V1`. You can also use `weights=ResNet50_Weights.DEFAULT` to get the most up-to-date weights.\n",
      "  warnings.warn(msg)\n"
     ]
    }
   ],
   "source": [
    "model = load_resnet_model('resnet50', num_classes=10)"
   ]
  },
  {
   "cell_type": "code",
   "execution_count": 21,
   "metadata": {},
   "outputs": [
    {
     "data": {
      "text/plain": [
       "tensor([[ 0.0356,  0.3611, -0.0887, -0.1209,  0.1997, -0.0277, -0.6700, -0.0594,\n",
       "         -0.1655, -0.3548]], grad_fn=<AddmmBackward0>)"
      ]
     },
     "execution_count": 21,
     "metadata": {},
     "output_type": "execute_result"
    }
   ],
   "source": [
    "model(a[0])"
   ]
  }
 ],
 "metadata": {
  "kernelspec": {
   "display_name": "myenv",
   "language": "python",
   "name": "python3"
  },
  "language_info": {
   "codemirror_mode": {
    "name": "ipython",
    "version": 3
   },
   "file_extension": ".py",
   "mimetype": "text/x-python",
   "name": "python",
   "nbconvert_exporter": "python",
   "pygments_lexer": "ipython3",
   "version": "3.11.3"
  }
 },
 "nbformat": 4,
 "nbformat_minor": 2
}
