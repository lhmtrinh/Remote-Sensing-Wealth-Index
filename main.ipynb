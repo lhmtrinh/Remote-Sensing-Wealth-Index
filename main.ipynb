{
 "cells": [
  {
   "cell_type": "code",
   "execution_count": null,
   "metadata": {},
   "outputs": [],
   "source": [
    "import torch\n",
    "import numpy as np\n",
    "from models.resnet import load_resnet_model\n",
    "from models.swin3D import load_swin3d\n",
    "from models.swin import load_swin\n",
    "from models.resnetRNN import ResNetRNN\n",
    "\n",
    "from utils.train import train_model\n",
    "from utils.dataloader import create_dataloader, create_dataset\n",
    "from utils.utils import sorted_file_paths\n",
    "\n",
    "import torch.nn as nn\n",
    "import torch.optim as optim\n",
    "\n",
    "import seaborn as sns\n",
    "from matplotlib import pyplot as plt\n",
    "from loss.balanced_MSE_loss import BMCLoss\n",
    "from loss.weighted_MSE_loss import WeightedMSELoss\n",
    "from loss.dense_weight import DenseWeight"
   ]
  },
  {
   "attachments": {},
   "cell_type": "markdown",
   "metadata": {},
   "source": [
    "# Setting up common variables for all experiments"
   ]
  },
  {
   "cell_type": "code",
   "execution_count": null,
   "metadata": {},
   "outputs": [],
   "source": [
    "LR = 0.001\n",
    "EPOCH = 30\n",
    "GAMMA = 0.95\n",
    "BATCH_SIZE = 128\n",
    "\n",
    "device = torch.device('cuda' if torch.cuda.is_available() else 'cpu')\n",
    "train_files = sorted_file_paths('./data/records_location/train/')\n",
    "val_files = sorted_file_paths('./data/records_location/val/')\n",
    "\n",
    "train_dataset = create_dataset(train_files)\n",
    "val_dataset = create_dataset(val_files)\n",
    "\n",
    "\n",
    "train_loader = create_dataloader(train_dataset, BATCH_SIZE)\n",
    "val_loader = create_dataloader(val_dataset, BATCH_SIZE)\n",
    "\n",
    "training_labels = train_dataset.all_labels.numpy()"
   ]
  },
  {
   "attachments": {},
   "cell_type": "markdown",
   "metadata": {},
   "source": [
    "# Experiment 0: L2 loss Swin 3d"
   ]
  },
  {
   "cell_type": "code",
   "execution_count": null,
   "metadata": {},
   "outputs": [],
   "source": [
    "ex = 'experiments/ex_0'\n",
    "loss =  nn.MSELoss()\n",
    "model = load_swin3d(\"base\")\n",
    "optimizer = optim.Adam(model.parameters(), LR)\n",
    "scheduler = torch.optim.lr_scheduler.ExponentialLR(optimizer, gamma=GAMMA)\n",
    "\n",
    "train_model(model, loss, optimizer, scheduler, train_loader, val_loader, device, ex,epochs=EPOCH)"
   ]
  },
  {
   "attachments": {},
   "cell_type": "markdown",
   "metadata": {},
   "source": [
    "# Experiment 1: L2 loss Swin 3d tiny"
   ]
  },
  {
   "cell_type": "code",
   "execution_count": null,
   "metadata": {},
   "outputs": [],
   "source": [
    "ex = 'experiments/ex_1'\n",
    "loss =  nn.MSELoss()\n",
    "model = load_swin3d(\"tiny\")\n",
    "optimizer = optim.Adam(model.parameters(), LR)\n",
    "scheduler = torch.optim.lr_scheduler.ExponentialLR(optimizer, gamma=GAMMA)\n",
    "\n",
    "train_model(model, loss, optimizer, scheduler, train_loader, val_loader, device, ex, epochs=EPOCH)"
   ]
  },
  {
   "attachments": {},
   "cell_type": "markdown",
   "metadata": {},
   "source": [
    "# Experiment 2: L2 loss Resnet 50"
   ]
  },
  {
   "cell_type": "code",
   "execution_count": null,
   "metadata": {},
   "outputs": [],
   "source": [
    "ex = 'experiments/ex_2'\n",
    "loss =  nn.MSELoss()\n",
    "model = load_resnet_model('resnet50', num_classes=1)\n",
    "optimizer = optim.Adam(model.parameters(), LR)\n",
    "scheduler = torch.optim.lr_scheduler.ExponentialLR(optimizer, gamma=GAMMA)\n",
    "\n",
    "train_model(model, loss, optimizer, scheduler, train_loader, val_loader, device, ex, epochs=EPOCH)"
   ]
  },
  {
   "attachments": {},
   "cell_type": "markdown",
   "metadata": {},
   "source": [
    "# Experiment 3: L2 Loss Swin"
   ]
  },
  {
   "cell_type": "code",
   "execution_count": null,
   "metadata": {},
   "outputs": [],
   "source": [
    "ex = 'experiments/ex_3'\n",
    "loss =  nn.MSELoss()\n",
    "model = load_swin()\n",
    "optimizer = optim.Adam(model.parameters(), LR)\n",
    "scheduler = torch.optim.lr_scheduler.ExponentialLR(optimizer, gamma=GAMMA)\n",
    "\n",
    "train_model(model, loss, optimizer, scheduler, train_loader, val_loader, device, ex, epochs=EPOCH)"
   ]
  },
  {
   "attachments": {},
   "cell_type": "markdown",
   "metadata": {},
   "source": [
    "# Experiment 4: L3 loss"
   ]
  },
  {
   "cell_type": "code",
   "execution_count": null,
   "metadata": {},
   "outputs": [],
   "source": [
    "from loss.weighted_L3_loss import L3Loss\n",
    "\n",
    "ex = 'experiments/ex_4'\n",
    "loss =  L3Loss()\n",
    "model = load_resnet_model()\n",
    "optimizer = optim.Adam(model.parameters(), LR)\n",
    "scheduler = torch.optim.lr_scheduler.ExponentialLR(optimizer, gamma=GAMMA)\n",
    "\n",
    "train_model(model, loss, optimizer, scheduler, train_loader, val_loader, device, ex, epochs=EPOCH)"
   ]
  },
  {
   "attachments": {},
   "cell_type": "markdown",
   "metadata": {},
   "source": [
    "# Experiment 5: Weighted MSE with dense_weight model, alpha = 0.25"
   ]
  },
  {
   "cell_type": "code",
   "execution_count": null,
   "metadata": {},
   "outputs": [],
   "source": [
    "ex = 'experiments/ex_5'\n",
    "\n",
    "dense_weight_model = DenseWeight(0.25)\n",
    "dense_weight_model.fit(training_labels)\n",
    "loss =  WeightedMSELoss(dense_weight_model)\n",
    "model = load_resnet_model()\n",
    "optimizer = optim.Adam(model.parameters(), LR)\n",
    "scheduler = torch.optim.lr_scheduler.ExponentialLR(optimizer, gamma=GAMMA)\n",
    "\n",
    "train_model(model, loss, optimizer, scheduler, train_loader, val_loader, device, ex, epochs=EPOCH)"
   ]
  },
  {
   "attachments": {},
   "cell_type": "markdown",
   "metadata": {},
   "source": [
    "# Experiment 6: Weighted MSE with dense_weight model, alpha = 0.5"
   ]
  },
  {
   "cell_type": "code",
   "execution_count": null,
   "metadata": {},
   "outputs": [],
   "source": [
    "ex = 'experiments/ex_6/'\n",
    "\n",
    "dense_weight_model = DenseWeight(0.5)\n",
    "dense_weight_model.fit(training_labels)\n",
    "loss =  WeightedMSELoss(dense_weight_model)\n",
    "model = load_resnet_model()\n",
    "optimizer = optim.Adam(model.parameters(), LR)\n",
    "scheduler = torch.optim.lr_scheduler.ExponentialLR(optimizer, gamma=GAMMA)\n",
    "\n",
    "train_model(model, loss, optimizer, scheduler, train_loader, val_loader, device, ex, epochs=EPOCH)"
   ]
  },
  {
   "attachments": {},
   "cell_type": "markdown",
   "metadata": {},
   "source": [
    "# Experiment 10: Weighted MSE with dense_weight model, alpha = 0.75"
   ]
  },
  {
   "cell_type": "code",
   "execution_count": null,
   "metadata": {},
   "outputs": [],
   "source": [
    "ex = 'experiments/ex_10/'\n",
    "\n",
    "dense_weight_model = DenseWeight(0.75)\n",
    "dense_weight_model.fit(training_labels)\n",
    "loss =  WeightedMSELoss(dense_weight_model)\n",
    "model = load_resnet_model()\n",
    "optimizer = optim.Adam(model.parameters(), LR)\n",
    "scheduler = torch.optim.lr_scheduler.ExponentialLR(optimizer, gamma=GAMMA)\n",
    "\n",
    "train_model(model, loss, optimizer, scheduler, train_loader, val_loader, device, ex, epochs=EPOCH)"
   ]
  },
  {
   "attachments": {},
   "cell_type": "markdown",
   "metadata": {},
   "source": [
    "# Experiment 11: Weighted MSE with dense_weight model, alpha = 1.0"
   ]
  },
  {
   "cell_type": "code",
   "execution_count": null,
   "metadata": {},
   "outputs": [],
   "source": [
    "ex = 'experiments/ex_11/'\n",
    "\n",
    "dense_weight_model = DenseWeight(1)\n",
    "dense_weight_model.fit(training_labels)\n",
    "loss =  WeightedMSELoss(dense_weight_model)\n",
    "model = load_resnet_model()\n",
    "optimizer = optim.Adam(model.parameters(), LR)\n",
    "scheduler = torch.optim.lr_scheduler.ExponentialLR(optimizer, gamma=GAMMA)\n",
    "\n",
    "train_model(model, loss, optimizer, scheduler, train_loader, val_loader, device, ex, epochs=EPOCH)"
   ]
  },
  {
   "attachments": {},
   "cell_type": "markdown",
   "metadata": {},
   "source": [
    "# Weighting schemes"
   ]
  },
  {
   "cell_type": "code",
   "execution_count": null,
   "metadata": {},
   "outputs": [],
   "source": [
    "dense_weight_model = DenseWeight(0.25)\n",
    "dense_weight_model.fit(training_labels)\n",
    "weights_025 = dense_weight_model.dense_weight(np.sort(training_labels))\n",
    "\n",
    "dense_weight_model = DenseWeight(0.5)\n",
    "dense_weight_model.fit(training_labels)\n",
    "weights_05 = dense_weight_model.dense_weight(np.sort(training_labels))\n",
    "\n",
    "dense_weight_model = DenseWeight(0.75)\n",
    "dense_weight_model.fit(training_labels)\n",
    "weights_075 = dense_weight_model.dense_weight(np.sort(training_labels))\n",
    "\n",
    "dense_weight_model = DenseWeight(1)\n",
    "dense_weight_model.fit(training_labels)\n",
    "weights_1 = dense_weight_model.dense_weight(np.sort(training_labels))\n",
    "\n",
    "plt.figure(figsize=(12, 6))\n",
    "\n",
    "# KDE plot of True Labels\n",
    "sns.kdeplot(training_labels, label='Training Distribution', fill=True)\n",
    "plt.plot(np.sort(training_labels), weights_025, label='alpha=0.25')\n",
    "plt.plot(np.sort(training_labels), weights_05, label='alpha=0.5')\n",
    "plt.plot(np.sort(training_labels), weights_075, label='alpha=0.75')\n",
    "plt.plot(np.sort(training_labels), weights_1, label='alpha=1.0')\n",
    "\n",
    "# Plot formatting\n",
    "plt.xlabel('Wealth Index')\n",
    "plt.legend()\n",
    "\n",
    "# Show the plot\n",
    "plt.show()"
   ]
  },
  {
   "attachments": {},
   "cell_type": "markdown",
   "metadata": {},
   "source": [
    "# Experiment 7: weighted sampling with replacement for a more balanced dataset alpha = 0.25"
   ]
  },
  {
   "cell_type": "code",
   "execution_count": null,
   "metadata": {},
   "outputs": [],
   "source": [
    "ex = 'experiments/ex_7/'\n",
    "\n",
    "dense_weight_model = DenseWeight(0.25)\n",
    "dense_weight_model.fit(training_labels)\n",
    "\n",
    "balanced_train_loader = create_dataloader(train_dataset, BATCH_SIZE, dense_weight_model)\n",
    "\n",
    "loss =  nn.MSELoss()\n",
    "model = load_resnet_model('resnet50', num_classes=1)\n",
    "optimizer = optim.Adam(model.parameters(), LR)\n",
    "scheduler = torch.optim.lr_scheduler.ExponentialLR(optimizer, gamma=GAMMA)\n",
    "\n",
    "train_model(model, loss, optimizer, scheduler, balanced_train_loader, val_loader, device, ex, epochs=EPOCH)"
   ]
  },
  {
   "attachments": {},
   "cell_type": "markdown",
   "metadata": {},
   "source": [
    "# Experiment 8: weighted sampling with replacement for a more balanced dataset, alpha = 0.5"
   ]
  },
  {
   "cell_type": "code",
   "execution_count": null,
   "metadata": {},
   "outputs": [],
   "source": [
    "ex = 'experiments/ex_8'\n",
    "\n",
    "dense_weight_model = DenseWeight(0.5)\n",
    "dense_weight_model.fit(training_labels)\n",
    "\n",
    "balanced_train_loader = create_dataloader(train_dataset, BATCH_SIZE, dense_weight_model)\n",
    "\n",
    "loss =  nn.MSELoss()\n",
    "model = load_resnet_model('resnet50', num_classes=1)\n",
    "optimizer = optim.Adam(model.parameters(), LR)\n",
    "scheduler = torch.optim.lr_scheduler.ExponentialLR(optimizer, gamma=GAMMA)\n",
    "\n",
    "train_model(model, loss, optimizer, scheduler, balanced_train_loader, val_loader, device, ex, epochs=EPOCH)"
   ]
  },
  {
   "cell_type": "code",
   "execution_count": null,
   "metadata": {},
   "outputs": [],
   "source": [
    "ex = 'experiments/ex_12/'\n",
    "\n",
    "dense_weight_model = DenseWeight(0.75)\n",
    "dense_weight_model.fit(training_labels)\n",
    "\n",
    "balanced_train_loader = create_dataloader(train_dataset, BATCH_SIZE, dense_weight_model)\n",
    "\n",
    "loss =  nn.MSELoss()\n",
    "model = load_resnet_model()\n",
    "optimizer = optim.Adam(model.parameters(), LR)\n",
    "scheduler = torch.optim.lr_scheduler.ExponentialLR(optimizer, gamma=GAMMA)\n",
    "\n",
    "train_model(model, loss, optimizer, scheduler, balanced_train_loader, val_loader, device, ex, epochs=EPOCH)"
   ]
  },
  {
   "cell_type": "code",
   "execution_count": null,
   "metadata": {},
   "outputs": [],
   "source": [
    "ex = 'experiments/ex_13/'\n",
    "\n",
    "dense_weight_model = DenseWeight(1)\n",
    "dense_weight_model.fit(training_labels)\n",
    "\n",
    "balanced_train_loader = create_dataloader(train_dataset, BATCH_SIZE, dense_weight_model)\n",
    "\n",
    "loss =  nn.MSELoss()\n",
    "model = load_resnet_model()\n",
    "optimizer = optim.Adam(model.parameters(), LR)\n",
    "scheduler = torch.optim.lr_scheduler.ExponentialLR(optimizer, gamma=GAMMA)\n",
    "\n",
    "train_model(model, loss, optimizer, scheduler, balanced_train_loader, val_loader, device, ex, epochs=EPOCH)"
   ]
  },
  {
   "cell_type": "code",
   "execution_count": null,
   "metadata": {},
   "outputs": [],
   "source": [
    "dense_weight_model = DenseWeight(0.25)\n",
    "dense_weight_model.fit(training_labels)\n",
    "balanced_train_loader = create_dataloader(train_dataset, 64, dense_weight_model)\n",
    "balanced_training_labels_alpha_025 = []\n",
    "for _,_, label in balanced_train_loader:\n",
    "    balanced_training_labels_alpha_025.extend(label.numpy())\n",
    "\n",
    "dense_weight_model = DenseWeight(0.5)\n",
    "dense_weight_model.fit(training_labels)\n",
    "balanced_train_loader = create_dataloader(train_dataset, 64, dense_weight_model)\n",
    "balanced_training_labels_alpha_05 = []\n",
    "for _,_, label in balanced_train_loader:\n",
    "    balanced_training_labels_alpha_05.extend(label.numpy())\n",
    "\n",
    "dense_weight_model = DenseWeight(0.75)\n",
    "dense_weight_model.fit(training_labels)\n",
    "balanced_train_loader = create_dataloader(train_dataset, 64, dense_weight_model)\n",
    "balanced_training_labels_alpha_075 = []\n",
    "for _,_, label in balanced_train_loader:\n",
    "    balanced_training_labels_alpha_075.extend(label.numpy())\n",
    "\n",
    "dense_weight_model = DenseWeight(1)\n",
    "dense_weight_model.fit(training_labels)\n",
    "balanced_train_loader = create_dataloader(train_dataset, 64, dense_weight_model)\n",
    "balanced_training_labels_alpha_1 = []\n",
    "for _,_, label in balanced_train_loader:\n",
    "    balanced_training_labels_alpha_1.extend(label.numpy())\n",
    "\n",
    "# Set up the matplotlib figure\n",
    "plt.figure(figsize=(12, 6))\n",
    "\n",
    "# KDE plot of True Labels\n",
    "sns.kdeplot(training_labels, label='Original Training Distribution', fill=True)\n",
    "# KDE plot of distribution of resampling\n",
    "sns.kdeplot(balanced_training_labels_alpha_025, label='alpha=0.25', fill=True)\n",
    "sns.kdeplot(balanced_training_labels_alpha_05, label='alpha=0.5', fill=True)\n",
    "sns.kdeplot(balanced_training_labels_alpha_075, label='alpha=0.75', fill=True)\n",
    "sns.kdeplot(balanced_training_labels_alpha_1, label='alpha=1.0', fill=True)\n",
    "\n",
    "# Plot formatting\n",
    "plt.xlabel('Wealth Index')\n",
    "plt.ylabel('Density')\n",
    "plt.legend()\n",
    "\n",
    "# Show the plot\n",
    "plt.show()"
   ]
  },
  {
   "attachments": {},
   "cell_type": "markdown",
   "metadata": {},
   "source": [
    "# Experiment 9: Balanced MSE loss"
   ]
  },
  {
   "cell_type": "code",
   "execution_count": null,
   "metadata": {},
   "outputs": [],
   "source": [
    "ex = 'experiments/ex_9'\n",
    "\n",
    "init_noise_sigma = 1.0\n",
    "sigma_lr = 0.001\n",
    "loss = BMCLoss(init_noise_sigma)\n",
    "model = load_resnet_model('resnet50', num_classes=1)\n",
    "optimizer = optim.Adam(model.parameters(), lr=LR)\n",
    "optimizer.add_param_group({'params': loss.noise_sigma, 'lr': sigma_lr, 'name': 'noise_sigma'})\n",
    "scheduler = torch.optim.lr_scheduler.ExponentialLR(optimizer, gamma=GAMMA)\n",
    "\n",
    "train_model(model, loss, optimizer, scheduler, train_loader, val_loader, device, ex, epochs=50)"
   ]
  },
  {
   "attachments": {},
   "cell_type": "markdown",
   "metadata": {},
   "source": [
    "# Distribution of all set"
   ]
  },
  {
   "cell_type": "code",
   "execution_count": null,
   "metadata": {},
   "outputs": [],
   "source": [
    "test_files = sorted_file_paths('./data/records_location/test/')\n",
    "test_dataset = create_dataset(test_files)\n",
    "\n",
    "validation_labels = val_dataset.all_labels.numpy()\n",
    "test_labels = test_dataset.all_labels.numpy()\n",
    "\n",
    "# Set up the matplotlib figure\n",
    "# Set up the matplotlib figure\n",
    "plt.figure(figsize=(12, 6))\n",
    "\n",
    "# KDE plot of True Labels\n",
    "sns.kdeplot(training_labels, label='Train set', fill=True)\n",
    "sns.kdeplot(validation_labels, label='Validation set', fill=True)\n",
    "sns.kdeplot(test_labels, label='Test set', fill=True)\n",
    "\n",
    "# Plot formatting\n",
    "plt.title('Distribution of Labels Across Training, Validation, Testing')\n",
    "plt.xlabel('Wealth Index')\n",
    "plt.ylabel('Density')\n",
    "plt.legend()\n",
    "\n",
    "# Show the plot\n",
    "plt.show()"
   ]
  },
  {
   "attachments": {},
   "cell_type": "markdown",
   "metadata": {},
   "source": [
    "# Experiment 14"
   ]
  },
  {
   "cell_type": "code",
   "execution_count": null,
   "metadata": {},
   "outputs": [],
   "source": [
    "ex = 'experiments/ex_14'\n",
    "loss =  nn.MSELoss()\n",
    "model = ResNetRNN()\n",
    "optimizer = optim.Adam(model.parameters(), LR)\n",
    "scheduler = torch.optim.lr_scheduler.ExponentialLR(optimizer, gamma=GAMMA)\n",
    "\n",
    "train_model(model, loss, optimizer, scheduler, train_loader, val_loader, device, ex,epochs=EPOCH)"
   ]
  }
 ],
 "metadata": {
  "kernelspec": {
   "display_name": "myenv",
   "language": "python",
   "name": "python3"
  },
  "language_info": {
   "codemirror_mode": {
    "name": "ipython",
    "version": 3
   },
   "file_extension": ".py",
   "mimetype": "text/x-python",
   "name": "python",
   "nbconvert_exporter": "python",
   "pygments_lexer": "ipython3",
   "version": "3.11.3"
  }
 },
 "nbformat": 4,
 "nbformat_minor": 2
}
