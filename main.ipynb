{
 "cells": [
  {
   "cell_type": "code",
   "execution_count": 1,
   "metadata": {},
   "outputs": [
    {
     "name": "stderr",
     "output_type": "stream",
     "text": [
      "2024-02-02 14:54:35.921382: E external/local_xla/xla/stream_executor/cuda/cuda_dnn.cc:9261] Unable to register cuDNN factory: Attempting to register factory for plugin cuDNN when one has already been registered\n",
      "2024-02-02 14:54:35.921430: E external/local_xla/xla/stream_executor/cuda/cuda_fft.cc:607] Unable to register cuFFT factory: Attempting to register factory for plugin cuFFT when one has already been registered\n",
      "2024-02-02 14:54:36.143140: E external/local_xla/xla/stream_executor/cuda/cuda_blas.cc:1515] Unable to register cuBLAS factory: Attempting to register factory for plugin cuBLAS when one has already been registered\n",
      "2024-02-02 14:54:36.635198: I tensorflow/core/platform/cpu_feature_guard.cc:182] This TensorFlow binary is optimized to use available CPU instructions in performance-critical operations.\n",
      "To enable the following instructions: AVX2 FMA, in other operations, rebuild TensorFlow with the appropriate compiler flags.\n",
      "2024-02-02 14:54:38.768628: W tensorflow/compiler/tf2tensorrt/utils/py_utils.cc:38] TF-TRT Warning: Could not find TensorRT\n"
     ]
    }
   ],
   "source": [
    "import torch\n",
    "from model import load_resnet_model\n",
    "from train_regression_weighted_loss_loaded import train_model\n",
    "from dataloader import create_dataloader\n",
    "\n",
    "from utils import sorted_file_paths\n",
    "import torch.nn as nn\n",
    "import torch.optim as optim"
   ]
  },
  {
   "attachments": {},
   "cell_type": "markdown",
   "metadata": {},
   "source": [
    "# Setting up common variables for all experiments"
   ]
  },
  {
   "cell_type": "code",
   "execution_count": 2,
   "metadata": {},
   "outputs": [],
   "source": [
    "LR = 0.001\n",
    "EPOCH = 30\n",
    "\n",
    "device = torch.device('cuda' if torch.cuda.is_available() else 'cpu')\n",
    "train_files = sorted_file_paths('./data/records_unscaled/train/')\n",
    "val_files = sorted_file_paths('./data/records_unscaled/val/')\n",
    "\n",
    "train_loaders = [create_dataloader(file, True, 64) for file in train_files]\n",
    "val_loaders = [create_dataloader(file, True, 64) for file in val_files]\n",
    "\n",
    "training_labels = []\n",
    "for train_loader in train_loaders:\n",
    "    for _, labels in train_loader:\n",
    "        training_labels.extend(labels.detach().cpu().numpy())"
   ]
  },
  {
   "attachments": {},
   "cell_type": "markdown",
   "metadata": {},
   "source": [
    "# Experiment 1: L2 loss"
   ]
  },
  {
   "cell_type": "code",
   "execution_count": 8,
   "metadata": {},
   "outputs": [
    {
     "name": "stderr",
     "output_type": "stream",
     "text": [
      "/opt/conda/envs/pytorch/lib/python3.10/site-packages/torchvision/models/_utils.py:208: UserWarning: The parameter 'pretrained' is deprecated since 0.13 and may be removed in the future, please use 'weights' instead.\n",
      "  warnings.warn(\n",
      "/opt/conda/envs/pytorch/lib/python3.10/site-packages/torchvision/models/_utils.py:223: UserWarning: Arguments other than a weight enum or `None` for 'weights' are deprecated since 0.13 and may be removed in the future. The current behavior is equivalent to passing `weights=ResNet50_Weights.IMAGENET1K_V1`. You can also use `weights=ResNet50_Weights.DEFAULT` to get the most up-to-date weights.\n",
      "  warnings.warn(msg)\n"
     ]
    },
    {
     "name": "stdout",
     "output_type": "stream",
     "text": [
      "Epoch 1/30, Train Loss: 0.3566, Train R2: -0.7822, Train weighted MAE: 1.4048,Val Loss: 1.7248, Val R2: -7.6371, Val weighted MAE: 1.3050\n",
      "Model saved as ex_1/checkpoint_epoch_1.pth\n",
      "Epoch 2/30, Train Loss: 0.1773, Train R2: 0.1138, Train weighted MAE: 1.3710,Val Loss: 0.1282, Val R2: 0.3582, Val weighted MAE: 1.2486\n",
      "Model saved as ex_1/checkpoint_epoch_2.pth\n",
      "Epoch 3/30, Train Loss: 0.1373, Train R2: 0.3139, Train weighted MAE: 1.2699,Val Loss: 0.1835, Val R2: 0.0813, Val weighted MAE: 1.4276\n",
      "Epoch 4/30, Train Loss: 0.1234, Train R2: 0.3834, Train weighted MAE: 1.2249,Val Loss: 0.1440, Val R2: 0.2789, Val weighted MAE: 1.2186\n",
      "Epoch 5/30, Train Loss: 0.1183, Train R2: 0.4085, Train weighted MAE: 1.2288,Val Loss: 0.1240, Val R2: 0.3790, Val weighted MAE: 1.2188\n",
      "Model saved as ex_1/checkpoint_epoch_5.pth\n",
      "Epoch 6/30, Train Loss: 0.1126, Train R2: 0.4373, Train weighted MAE: 1.1846,Val Loss: 0.1262, Val R2: 0.3681, Val weighted MAE: 1.2497\n",
      "Epoch 7/30, Train Loss: 0.1117, Train R2: 0.4416, Train weighted MAE: 1.1503,Val Loss: 0.1351, Val R2: 0.3233, Val weighted MAE: 1.3158\n",
      "Epoch 8/30, Train Loss: 0.1154, Train R2: 0.4231, Train weighted MAE: 1.1590,Val Loss: 0.1422, Val R2: 0.2878, Val weighted MAE: 1.2726\n",
      "Epoch 9/30, Train Loss: 0.1127, Train R2: 0.4368, Train weighted MAE: 1.1173,Val Loss: 0.1212, Val R2: 0.3929, Val weighted MAE: 1.2109\n",
      "Model saved as ex_1/checkpoint_epoch_9.pth\n",
      "Epoch 10/30, Train Loss: 0.1068, Train R2: 0.4665, Train weighted MAE: 1.1045,Val Loss: 0.1216, Val R2: 0.3911, Val weighted MAE: 1.2617\n",
      "Epoch 11/30, Train Loss: 0.0995, Train R2: 0.5026, Train weighted MAE: 1.0907,Val Loss: 0.1325, Val R2: 0.3363, Val weighted MAE: 1.2705\n",
      "Epoch 12/30, Train Loss: 0.0959, Train R2: 0.5207, Train weighted MAE: 1.0463,Val Loss: 0.1320, Val R2: 0.3391, Val weighted MAE: 1.3119\n",
      "Epoch 13/30, Train Loss: 0.0941, Train R2: 0.5295, Train weighted MAE: 1.0169,Val Loss: 0.1860, Val R2: 0.0688, Val weighted MAE: 1.3393\n",
      "Epoch 14/30, Train Loss: 0.0913, Train R2: 0.5436, Train weighted MAE: 0.9907,Val Loss: 0.1677, Val R2: 0.1600, Val weighted MAE: 1.4196\n",
      "Epoch 15/30, Train Loss: 0.0830, Train R2: 0.5853, Train weighted MAE: 0.9499,Val Loss: 0.1441, Val R2: 0.2785, Val weighted MAE: 1.2144\n",
      "Epoch 16/30, Train Loss: 0.0793, Train R2: 0.6039, Train weighted MAE: 0.9132,Val Loss: 0.1237, Val R2: 0.3806, Val weighted MAE: 1.1521\n",
      "Epoch 17/30, Train Loss: 0.1109, Train R2: 0.4459, Train weighted MAE: 1.2045,Val Loss: 0.1197, Val R2: 0.4008, Val weighted MAE: 1.2588\n",
      "Model saved as ex_1/checkpoint_epoch_17.pth\n",
      "Epoch 18/30, Train Loss: 0.1011, Train R2: 0.4946, Train weighted MAE: 1.1434,Val Loss: 0.1346, Val R2: 0.3258, Val weighted MAE: 1.2182\n",
      "Epoch 19/30, Train Loss: 0.0842, Train R2: 0.5792, Train weighted MAE: 1.0368,Val Loss: 0.1378, Val R2: 0.3097, Val weighted MAE: 1.2777\n",
      "Epoch 20/30, Train Loss: 0.0759, Train R2: 0.6208, Train weighted MAE: 0.9537,Val Loss: 0.1502, Val R2: 0.2480, Val weighted MAE: 1.2985\n",
      "Epoch 21/30, Train Loss: 0.0632, Train R2: 0.6841, Train weighted MAE: 0.8278,Val Loss: 0.1439, Val R2: 0.2796, Val weighted MAE: 1.3163\n",
      "Epoch 22/30, Train Loss: 0.0599, Train R2: 0.7007, Train weighted MAE: 0.7545,Val Loss: 0.1375, Val R2: 0.3114, Val weighted MAE: 1.1715\n",
      "Epoch 23/30, Train Loss: 0.0565, Train R2: 0.7177, Train weighted MAE: 0.7755,Val Loss: 0.1399, Val R2: 0.2995, Val weighted MAE: 1.1174\n",
      "Epoch 24/30, Train Loss: 0.0484, Train R2: 0.7580, Train weighted MAE: 0.7011,Val Loss: 0.1531, Val R2: 0.2331, Val weighted MAE: 1.3805\n",
      "Epoch 25/30, Train Loss: 0.0379, Train R2: 0.8108, Train weighted MAE: 0.6115,Val Loss: 0.1779, Val R2: 0.1093, Val weighted MAE: 1.4121\n",
      "Epoch 26/30, Train Loss: 0.0343, Train R2: 0.8284, Train weighted MAE: 0.5261,Val Loss: 0.1421, Val R2: 0.2885, Val weighted MAE: 1.0327\n",
      "Epoch 27/30, Train Loss: 0.0347, Train R2: 0.8268, Train weighted MAE: 0.4452,Val Loss: 0.1477, Val R2: 0.2605, Val weighted MAE: 1.2182\n",
      "Epoch 28/30, Train Loss: 0.0301, Train R2: 0.8494, Train weighted MAE: 0.4298,Val Loss: 0.1410, Val R2: 0.2939, Val weighted MAE: 1.1155\n",
      "Epoch 29/30, Train Loss: 0.0283, Train R2: 0.8585, Train weighted MAE: 0.3202,Val Loss: 0.2036, Val R2: -0.0197, Val weighted MAE: 1.3867\n",
      "Epoch 30/30, Train Loss: 0.0284, Train R2: 0.8579, Train weighted MAE: 0.3552,Val Loss: 0.1561, Val R2: 0.2184, Val weighted MAE: 1.2972\n",
      "Model saved as ex_1/final_model.pth\n",
      "Training completed and final model saved.\n"
     ]
    }
   ],
   "source": [
    "ex = 'ex_1'\n",
    "loss =  nn.MSELoss()\n",
    "model = load_resnet_model('resnet50', num_classes=1)\n",
    "optimizer = optim.Adam(model.parameters(), LR)\n",
    "\n",
    "train_model(model, loss, optimizer, train_loaders, val_loaders, device, ex, epochs=EPOCH)"
   ]
  },
  {
   "attachments": {},
   "cell_type": "markdown",
   "metadata": {},
   "source": [
    "# Experiment 2: L3 loss"
   ]
  },
  {
   "cell_type": "code",
   "execution_count": 9,
   "metadata": {},
   "outputs": [
    {
     "name": "stderr",
     "output_type": "stream",
     "text": [
      "/opt/conda/envs/pytorch/lib/python3.10/site-packages/torchvision/models/_utils.py:208: UserWarning: The parameter 'pretrained' is deprecated since 0.13 and may be removed in the future, please use 'weights' instead.\n",
      "  warnings.warn(\n",
      "/opt/conda/envs/pytorch/lib/python3.10/site-packages/torchvision/models/_utils.py:223: UserWarning: Arguments other than a weight enum or `None` for 'weights' are deprecated since 0.13 and may be removed in the future. The current behavior is equivalent to passing `weights=ResNet50_Weights.IMAGENET1K_V1`. You can also use `weights=ResNet50_Weights.DEFAULT` to get the most up-to-date weights.\n",
      "  warnings.warn(msg)\n"
     ]
    },
    {
     "name": "stdout",
     "output_type": "stream",
     "text": [
      "Epoch 1/30, Train Loss: 0.5754, Train R2: -0.8377, Train weighted MAE: 1.5852,Val Loss: 0.1138, Val R2: 0.1817, Val weighted MAE: 1.4594\n",
      "Model saved as ex_2/checkpoint_epoch_1.pth\n",
      "Epoch 2/30, Train Loss: 0.0936, Train R2: 0.2832, Train weighted MAE: 1.3679,Val Loss: 0.0858, Val R2: 0.3722, Val weighted MAE: 1.3049\n",
      "Model saved as ex_2/checkpoint_epoch_2.pth\n",
      "Epoch 3/30, Train Loss: 0.0778, Train R2: 0.3860, Train weighted MAE: 1.2704,Val Loss: 0.0935, Val R2: 0.3403, Val weighted MAE: 1.3374\n",
      "Epoch 4/30, Train Loss: 0.0702, Train R2: 0.4275, Train weighted MAE: 1.2011,Val Loss: 0.0960, Val R2: 0.3259, Val weighted MAE: 1.3411\n",
      "Epoch 5/30, Train Loss: 0.0658, Train R2: 0.4469, Train weighted MAE: 1.1421,Val Loss: 0.0873, Val R2: 0.3717, Val weighted MAE: 1.2644\n",
      "Epoch 6/30, Train Loss: 0.0622, Train R2: 0.4669, Train weighted MAE: 1.1228,Val Loss: 0.0971, Val R2: 0.3169, Val weighted MAE: 1.2552\n",
      "Epoch 7/30, Train Loss: 0.0544, Train R2: 0.5077, Train weighted MAE: 1.0022,Val Loss: 0.0908, Val R2: 0.3356, Val weighted MAE: 1.2058\n",
      "Epoch 8/30, Train Loss: 0.0464, Train R2: 0.5506, Train weighted MAE: 0.9234,Val Loss: 0.1095, Val R2: 0.2493, Val weighted MAE: 1.1974\n",
      "Epoch 9/30, Train Loss: 0.0386, Train R2: 0.5959, Train weighted MAE: 0.8244,Val Loss: 0.0975, Val R2: 0.2998, Val weighted MAE: 1.1671\n",
      "Epoch 10/30, Train Loss: 0.0325, Train R2: 0.6334, Train weighted MAE: 0.7045,Val Loss: 0.0909, Val R2: 0.3423, Val weighted MAE: 1.2032\n",
      "Epoch 11/30, Train Loss: 0.0269, Train R2: 0.6784, Train weighted MAE: 0.5687,Val Loss: 0.0999, Val R2: 0.2952, Val weighted MAE: 1.2647\n",
      "Epoch 12/30, Train Loss: 0.0295, Train R2: 0.6578, Train weighted MAE: 0.5390,Val Loss: 0.1440, Val R2: 0.0757, Val weighted MAE: 1.2519\n",
      "Epoch 13/30, Train Loss: 0.0242, Train R2: 0.7101, Train weighted MAE: 0.5157,Val Loss: 0.0886, Val R2: 0.3545, Val weighted MAE: 0.9567\n",
      "Epoch 14/30, Train Loss: 0.0188, Train R2: 0.7533, Train weighted MAE: 0.4011,Val Loss: 0.1237, Val R2: 0.2101, Val weighted MAE: 0.7222\n",
      "Epoch 15/30, Train Loss: 0.0145, Train R2: 0.7955, Train weighted MAE: 0.3263,Val Loss: 0.1087, Val R2: 0.3279, Val weighted MAE: 1.1312\n",
      "Epoch 16/30, Train Loss: 0.0146, Train R2: 0.7965, Train weighted MAE: 0.3109,Val Loss: 0.0909, Val R2: 0.3561, Val weighted MAE: 1.1658\n",
      "Epoch 17/30, Train Loss: 0.0156, Train R2: 0.7893, Train weighted MAE: 0.2478,Val Loss: 0.1068, Val R2: 0.2932, Val weighted MAE: 1.2546\n",
      "Epoch 18/30, Train Loss: 0.0162, Train R2: 0.7779, Train weighted MAE: 0.2634,Val Loss: 0.0852, Val R2: 0.3627, Val weighted MAE: 1.1208\n",
      "Model saved as ex_2/checkpoint_epoch_18.pth\n",
      "Epoch 19/30, Train Loss: 0.0144, Train R2: 0.7983, Train weighted MAE: 0.2529,Val Loss: 0.1264, Val R2: 0.2704, Val weighted MAE: 1.0923\n",
      "Epoch 20/30, Train Loss: 0.0130, Train R2: 0.8126, Train weighted MAE: 0.2312,Val Loss: 0.1210, Val R2: 0.2925, Val weighted MAE: 1.0120\n",
      "Epoch 21/30, Train Loss: 0.0103, Train R2: 0.8418, Train weighted MAE: 0.2007,Val Loss: 0.1467, Val R2: 0.2913, Val weighted MAE: 0.9638\n",
      "Epoch 22/30, Train Loss: 0.0090, Train R2: 0.8568, Train weighted MAE: 0.1264,Val Loss: 0.1394, Val R2: 0.2280, Val weighted MAE: 0.9967\n",
      "Epoch 23/30, Train Loss: 0.0091, Train R2: 0.8578, Train weighted MAE: 0.2311,Val Loss: 0.4798, Val R2: 0.0302, Val weighted MAE: 1.0820\n",
      "Epoch 24/30, Train Loss: 0.0095, Train R2: 0.8539, Train weighted MAE: 0.1120,Val Loss: 17.7407, Val R2: -6.5968, Val weighted MAE: 1.3696\n",
      "Epoch 25/30, Train Loss: 0.0171, Train R2: 0.7797, Train weighted MAE: 0.3033,Val Loss: 0.3496, Val R2: 0.0234, Val weighted MAE: 1.3092\n",
      "Epoch 26/30, Train Loss: 0.0226, Train R2: 0.7209, Train weighted MAE: 0.3085,Val Loss: 0.1104, Val R2: 0.2663, Val weighted MAE: 1.3278\n",
      "Epoch 27/30, Train Loss: 0.0208, Train R2: 0.7411, Train weighted MAE: 0.3096,Val Loss: 0.0919, Val R2: 0.3319, Val weighted MAE: 1.1711\n",
      "Epoch 28/30, Train Loss: 0.0166, Train R2: 0.7704, Train weighted MAE: 0.2607,Val Loss: 0.1093, Val R2: 0.2645, Val weighted MAE: 1.2901\n",
      "Epoch 29/30, Train Loss: 0.0186, Train R2: 0.7497, Train weighted MAE: 0.2316,Val Loss: 0.0919, Val R2: 0.3455, Val weighted MAE: 1.2170\n",
      "Epoch 30/30, Train Loss: 0.0186, Train R2: 0.7502, Train weighted MAE: 0.2555,Val Loss: 0.1030, Val R2: 0.3129, Val weighted MAE: 1.3560\n",
      "Model saved as ex_2/final_model.pth\n",
      "Training completed and final model saved.\n"
     ]
    }
   ],
   "source": [
    "from weighted_L3_loss import L3Loss\n",
    "\n",
    "ex = 'ex_2'\n",
    "loss =  L3Loss()\n",
    "model = load_resnet_model('resnet50', num_classes=1)\n",
    "optimizer = optim.Adam(model.parameters(), LR)\n",
    "\n",
    "train_model(model, loss, optimizer, train_loaders, val_loaders, device, ex, epochs=EPOCH)"
   ]
  },
  {
   "attachments": {},
   "cell_type": "markdown",
   "metadata": {},
   "source": [
    "# Experiment 3: Weighted MSE with dense_weight model, alpha = 0.25"
   ]
  },
  {
   "cell_type": "code",
   "execution_count": 10,
   "metadata": {},
   "outputs": [],
   "source": [
    "from dense_weight import DenseWeight\n",
    "from weighted_MSE_loss import WeightedMSELoss"
   ]
  },
  {
   "cell_type": "code",
   "execution_count": 11,
   "metadata": {},
   "outputs": [
    {
     "name": "stderr",
     "output_type": "stream",
     "text": [
      "/opt/conda/envs/pytorch/lib/python3.10/site-packages/torchvision/models/_utils.py:208: UserWarning: The parameter 'pretrained' is deprecated since 0.13 and may be removed in the future, please use 'weights' instead.\n",
      "  warnings.warn(\n",
      "/opt/conda/envs/pytorch/lib/python3.10/site-packages/torchvision/models/_utils.py:223: UserWarning: Arguments other than a weight enum or `None` for 'weights' are deprecated since 0.13 and may be removed in the future. The current behavior is equivalent to passing `weights=ResNet50_Weights.IMAGENET1K_V1`. You can also use `weights=ResNet50_Weights.DEFAULT` to get the most up-to-date weights.\n",
      "  warnings.warn(msg)\n"
     ]
    },
    {
     "name": "stdout",
     "output_type": "stream",
     "text": [
      "Epoch 1/30, Train Loss: 0.3292, Train R2: -0.6131, Train weighted MAE: 1.3614,Val Loss: 0.1464, Val R2: 0.3217, Val weighted MAE: 1.3193\n",
      "Model saved as ex_3/checkpoint_epoch_1.pth\n",
      "Epoch 2/30, Train Loss: 0.1273, Train R2: 0.4025, Train weighted MAE: 1.1913,Val Loss: 0.1307, Val R2: 0.3985, Val weighted MAE: 1.2596\n",
      "Model saved as ex_3/checkpoint_epoch_2.pth\n",
      "Epoch 3/30, Train Loss: 0.1184, Train R2: 0.4431, Train weighted MAE: 1.1615,Val Loss: 0.1495, Val R2: 0.3069, Val weighted MAE: 1.2400\n",
      "Epoch 4/30, Train Loss: 0.1145, Train R2: 0.4603, Train weighted MAE: 1.1272,Val Loss: 0.1241, Val R2: 0.4102, Val weighted MAE: 1.1275\n",
      "Model saved as ex_3/checkpoint_epoch_4.pth\n",
      "Epoch 5/30, Train Loss: 0.1087, Train R2: 0.4865, Train weighted MAE: 1.0901,Val Loss: 0.1219, Val R2: 0.4295, Val weighted MAE: 1.1696\n",
      "Model saved as ex_3/checkpoint_epoch_5.pth\n",
      "Epoch 6/30, Train Loss: 0.1012, Train R2: 0.5212, Train weighted MAE: 1.0298,Val Loss: 0.1264, Val R2: 0.3939, Val weighted MAE: 1.0601\n",
      "Epoch 7/30, Train Loss: 0.0974, Train R2: 0.5390, Train weighted MAE: 1.0019,Val Loss: 0.1666, Val R2: 0.2060, Val weighted MAE: 1.0426\n",
      "Epoch 8/30, Train Loss: 0.0919, Train R2: 0.5639, Train weighted MAE: 1.0262,Val Loss: 0.1270, Val R2: 0.3959, Val weighted MAE: 1.1133\n",
      "Epoch 9/30, Train Loss: 0.0834, Train R2: 0.6025, Train weighted MAE: 0.8813,Val Loss: 0.1418, Val R2: 0.3401, Val weighted MAE: 1.1929\n",
      "Epoch 10/30, Train Loss: 0.0758, Train R2: 0.6382, Train weighted MAE: 0.8552,Val Loss: 0.1788, Val R2: 0.1828, Val weighted MAE: 1.3600\n",
      "Epoch 11/30, Train Loss: 0.0710, Train R2: 0.6593, Train weighted MAE: 0.8153,Val Loss: 0.1674, Val R2: 0.2263, Val weighted MAE: 1.2715\n",
      "Epoch 12/30, Train Loss: 0.0639, Train R2: 0.6924, Train weighted MAE: 0.6685,Val Loss: 0.1703, Val R2: 0.1952, Val weighted MAE: 1.0887\n",
      "Epoch 13/30, Train Loss: 0.0620, Train R2: 0.6998, Train weighted MAE: 0.5651,Val Loss: 0.1486, Val R2: 0.2946, Val weighted MAE: 1.0292\n",
      "Epoch 14/30, Train Loss: 0.0569, Train R2: 0.7244, Train weighted MAE: 0.4823,Val Loss: 0.1551, Val R2: 0.2706, Val weighted MAE: 1.2915\n",
      "Epoch 15/30, Train Loss: 0.0563, Train R2: 0.7263, Train weighted MAE: 0.3767,Val Loss: 0.1918, Val R2: 0.1128, Val weighted MAE: 1.4366\n",
      "Epoch 16/30, Train Loss: 0.0489, Train R2: 0.7608, Train weighted MAE: 0.3286,Val Loss: 0.1559, Val R2: 0.2336, Val weighted MAE: 1.0479\n",
      "Epoch 17/30, Train Loss: 0.0506, Train R2: 0.7523, Train weighted MAE: 0.3017,Val Loss: 0.1708, Val R2: 0.1641, Val weighted MAE: 1.1860\n",
      "Epoch 18/30, Train Loss: 0.1167, Train R2: 0.4360, Train weighted MAE: 0.8626,Val Loss: 0.1735, Val R2: 0.1981, Val weighted MAE: 1.2856\n",
      "Epoch 19/30, Train Loss: 0.0541, Train R2: 0.7388, Train weighted MAE: 0.3563,Val Loss: 0.1362, Val R2: 0.3556, Val weighted MAE: 1.2327\n",
      "Epoch 20/30, Train Loss: 0.0452, Train R2: 0.7777, Train weighted MAE: 0.2472,Val Loss: 0.1351, Val R2: 0.3542, Val weighted MAE: 1.0992\n",
      "Epoch 21/30, Train Loss: 0.0553, Train R2: 0.7262, Train weighted MAE: 0.3188,Val Loss: 0.1663, Val R2: 0.1911, Val weighted MAE: 1.1177\n",
      "Epoch 22/30, Train Loss: 0.0397, Train R2: 0.8040, Train weighted MAE: 0.2168,Val Loss: 0.1517, Val R2: 0.2928, Val weighted MAE: 1.3702\n",
      "Epoch 23/30, Train Loss: 0.0247, Train R2: 0.8789, Train weighted MAE: 0.1847,Val Loss: 0.1467, Val R2: 0.3147, Val weighted MAE: 1.2831\n",
      "Epoch 24/30, Train Loss: 0.0274, Train R2: 0.8645, Train weighted MAE: 0.1862,Val Loss: 0.1441, Val R2: 0.3324, Val weighted MAE: 1.3540\n",
      "Epoch 25/30, Train Loss: 0.0491, Train R2: 0.7560, Train weighted MAE: 0.2418,Val Loss: 0.1388, Val R2: 0.3584, Val weighted MAE: 1.3187\n",
      "Epoch 26/30, Train Loss: 0.0885, Train R2: 0.5597, Train weighted MAE: 0.4238,Val Loss: 0.1668, Val R2: 0.2348, Val weighted MAE: 1.4797\n",
      "Epoch 27/30, Train Loss: 0.0466, Train R2: 0.7702, Train weighted MAE: 0.1529,Val Loss: 0.1268, Val R2: 0.4068, Val weighted MAE: 1.2491\n",
      "Epoch 28/30, Train Loss: 0.0353, Train R2: 0.8247, Train weighted MAE: 0.1614,Val Loss: 0.1318, Val R2: 0.3883, Val weighted MAE: 1.3065\n",
      "Epoch 29/30, Train Loss: 0.0518, Train R2: 0.7397, Train weighted MAE: 0.1073,Val Loss: 0.1380, Val R2: 0.3589, Val weighted MAE: 1.3204\n",
      "Epoch 30/30, Train Loss: 0.0685, Train R2: 0.6565, Train weighted MAE: 0.2462,Val Loss: 0.1427, Val R2: 0.3211, Val weighted MAE: 1.1159\n",
      "Model saved as ex_3/final_model.pth\n",
      "Training completed and final model saved.\n"
     ]
    }
   ],
   "source": [
    "ex = 'ex_3'\n",
    "\n",
    "dense_weight_model = DenseWeight(0.25)\n",
    "dense_weight_model.fit(training_labels)\n",
    "loss =  WeightedMSELoss(dense_weight_model)\n",
    "model = load_resnet_model('resnet50', num_classes=1)\n",
    "optimizer = optim.Adam(model.parameters(), LR)\n",
    "\n",
    "train_model(model, loss, optimizer, train_loaders, val_loaders, device, ex, epochs=EPOCH)"
   ]
  },
  {
   "attachments": {},
   "cell_type": "markdown",
   "metadata": {},
   "source": [
    "# Experiment 4: Weighted MSE with dense_weight model, alpha = 0.5"
   ]
  },
  {
   "cell_type": "code",
   "execution_count": 12,
   "metadata": {},
   "outputs": [
    {
     "name": "stderr",
     "output_type": "stream",
     "text": [
      "/opt/conda/envs/pytorch/lib/python3.10/site-packages/torchvision/models/_utils.py:208: UserWarning: The parameter 'pretrained' is deprecated since 0.13 and may be removed in the future, please use 'weights' instead.\n",
      "  warnings.warn(\n",
      "/opt/conda/envs/pytorch/lib/python3.10/site-packages/torchvision/models/_utils.py:223: UserWarning: Arguments other than a weight enum or `None` for 'weights' are deprecated since 0.13 and may be removed in the future. The current behavior is equivalent to passing `weights=ResNet50_Weights.IMAGENET1K_V1`. You can also use `weights=ResNet50_Weights.DEFAULT` to get the most up-to-date weights.\n",
      "  warnings.warn(msg)\n"
     ]
    },
    {
     "name": "stdout",
     "output_type": "stream",
     "text": [
      "Epoch 1/30, Train Loss: 0.3371, Train R2: -0.6252, Train weighted MAE: 1.2362,Val Loss: 0.1674, Val R2: 0.3010, Val weighted MAE: 1.2752\n",
      "Model saved as ex_4/checkpoint_epoch_1.pth\n",
      "Epoch 2/30, Train Loss: 0.1521, Train R2: 0.3211, Train weighted MAE: 1.1822,Val Loss: 0.2401, Val R2: -0.0901, Val weighted MAE: 1.3148\n",
      "Epoch 3/30, Train Loss: 0.1437, Train R2: 0.3628, Train weighted MAE: 1.1624,Val Loss: 0.1385, Val R2: 0.4023, Val weighted MAE: 1.1248\n",
      "Model saved as ex_4/checkpoint_epoch_3.pth\n",
      "Epoch 4/30, Train Loss: 0.1327, Train R2: 0.4105, Train weighted MAE: 1.1016,Val Loss: 0.1632, Val R2: 0.3381, Val weighted MAE: 1.2820\n",
      "Epoch 5/30, Train Loss: 0.1337, Train R2: 0.4040, Train weighted MAE: 1.0935,Val Loss: 0.1954, Val R2: 0.2196, Val weighted MAE: 1.5090\n",
      "Epoch 6/30, Train Loss: 0.1224, Train R2: 0.4540, Train weighted MAE: 1.0177,Val Loss: 0.2075, Val R2: 0.1542, Val weighted MAE: 1.4708\n",
      "Epoch 7/30, Train Loss: 0.1121, Train R2: 0.4938, Train weighted MAE: 0.9535,Val Loss: 0.1882, Val R2: 0.2398, Val weighted MAE: 1.3876\n",
      "Epoch 8/30, Train Loss: 0.1117, Train R2: 0.4853, Train weighted MAE: 0.8593,Val Loss: 0.2030, Val R2: 0.1355, Val weighted MAE: 1.3253\n",
      "Epoch 9/30, Train Loss: 0.1039, Train R2: 0.5212, Train weighted MAE: 0.8702,Val Loss: 0.1696, Val R2: 0.2679, Val weighted MAE: 1.1737\n",
      "Epoch 10/30, Train Loss: 0.1032, Train R2: 0.5199, Train weighted MAE: 0.7613,Val Loss: 0.1637, Val R2: 0.3285, Val weighted MAE: 1.3427\n",
      "Epoch 11/30, Train Loss: 0.0928, Train R2: 0.5616, Train weighted MAE: 0.6698,Val Loss: 0.1515, Val R2: 0.2887, Val weighted MAE: 0.8879\n",
      "Epoch 12/30, Train Loss: 0.0990, Train R2: 0.5283, Train weighted MAE: 0.7177,Val Loss: 0.1796, Val R2: 0.1947, Val weighted MAE: 1.2200\n",
      "Epoch 13/30, Train Loss: 0.0865, Train R2: 0.5860, Train weighted MAE: 0.6036,Val Loss: 0.1631, Val R2: 0.2321, Val weighted MAE: 0.9670\n",
      "Epoch 14/30, Train Loss: 0.0665, Train R2: 0.6811, Train weighted MAE: 0.4200,Val Loss: 0.1761, Val R2: 0.1663, Val weighted MAE: 0.9448\n",
      "Epoch 15/30, Train Loss: 0.0550, Train R2: 0.7375, Train weighted MAE: 0.3639,Val Loss: 0.1763, Val R2: 0.1861, Val weighted MAE: 1.0390\n",
      "Epoch 16/30, Train Loss: 0.0509, Train R2: 0.7509, Train weighted MAE: 0.2324,Val Loss: 0.1513, Val R2: 0.3301, Val weighted MAE: 1.1300\n",
      "Epoch 17/30, Train Loss: 0.0661, Train R2: 0.6749, Train weighted MAE: 0.3269,Val Loss: 0.1831, Val R2: 0.1811, Val weighted MAE: 1.3052\n",
      "Epoch 18/30, Train Loss: 0.0682, Train R2: 0.6665, Train weighted MAE: 0.4045,Val Loss: 0.1671, Val R2: 0.2246, Val weighted MAE: 1.1687\n",
      "Epoch 19/30, Train Loss: 0.0498, Train R2: 0.7593, Train weighted MAE: 0.2598,Val Loss: 0.1477, Val R2: 0.3050, Val weighted MAE: 1.0921\n",
      "Epoch 20/30, Train Loss: 0.0524, Train R2: 0.7426, Train weighted MAE: 0.2096,Val Loss: 0.1927, Val R2: 0.0865, Val weighted MAE: 1.2576\n",
      "Epoch 21/30, Train Loss: 0.0643, Train R2: 0.6812, Train weighted MAE: 0.2404,Val Loss: 0.2148, Val R2: -0.0539, Val weighted MAE: 1.1635\n",
      "Epoch 22/30, Train Loss: 0.0466, Train R2: 0.7756, Train weighted MAE: 0.2850,Val Loss: 0.1789, Val R2: 0.1503, Val weighted MAE: 1.1335\n",
      "Epoch 23/30, Train Loss: 0.0362, Train R2: 0.8240, Train weighted MAE: 0.2603,Val Loss: 0.1507, Val R2: 0.3611, Val weighted MAE: 1.2817\n",
      "Epoch 24/30, Train Loss: 0.0287, Train R2: 0.8575, Train weighted MAE: 0.2038,Val Loss: 0.1425, Val R2: 0.3676, Val weighted MAE: 1.2336\n",
      "Epoch 25/30, Train Loss: 0.0320, Train R2: 0.8399, Train weighted MAE: 0.1569,Val Loss: 0.1818, Val R2: 0.2603, Val weighted MAE: 1.4241\n",
      "Epoch 26/30, Train Loss: 0.0305, Train R2: 0.8481, Train weighted MAE: 0.1403,Val Loss: 0.1485, Val R2: 0.3383, Val weighted MAE: 1.1930\n",
      "Epoch 27/30, Train Loss: 0.0335, Train R2: 0.8341, Train weighted MAE: 0.1508,Val Loss: 0.1643, Val R2: 0.3162, Val weighted MAE: 1.3937\n",
      "Epoch 28/30, Train Loss: 0.0222, Train R2: 0.8922, Train weighted MAE: 0.1743,Val Loss: 0.2193, Val R2: 0.0879, Val weighted MAE: 1.4436\n",
      "Epoch 29/30, Train Loss: 0.0279, Train R2: 0.8613, Train weighted MAE: 0.1925,Val Loss: 0.2033, Val R2: 0.1159, Val weighted MAE: 1.2598\n",
      "Epoch 30/30, Train Loss: 0.0344, Train R2: 0.8270, Train weighted MAE: 0.2236,Val Loss: 0.1957, Val R2: 0.1568, Val weighted MAE: 1.2783\n",
      "Model saved as ex_4/final_model.pth\n",
      "Training completed and final model saved.\n"
     ]
    }
   ],
   "source": [
    "ex = 'ex_4'\n",
    "\n",
    "dense_weight_model = DenseWeight(0.5)\n",
    "dense_weight_model.fit(training_labels)\n",
    "loss =  WeightedMSELoss(dense_weight_model)\n",
    "model = load_resnet_model('resnet50', num_classes=1)\n",
    "optimizer = optim.Adam(model.parameters(), LR)\n",
    "\n",
    "train_model(model, loss, optimizer, train_loaders, val_loaders, device, ex, epochs=EPOCH)"
   ]
  },
  {
   "attachments": {},
   "cell_type": "markdown",
   "metadata": {},
   "source": [
    "# Experiment 5: Balanced MSE loss"
   ]
  },
  {
   "cell_type": "code",
   "execution_count": 13,
   "metadata": {},
   "outputs": [],
   "source": [
    "from balanced_MSE_loss import BMCLoss"
   ]
  },
  {
   "cell_type": "code",
   "execution_count": 14,
   "metadata": {},
   "outputs": [
    {
     "name": "stderr",
     "output_type": "stream",
     "text": [
      "/opt/conda/envs/pytorch/lib/python3.10/site-packages/torchvision/models/_utils.py:208: UserWarning: The parameter 'pretrained' is deprecated since 0.13 and may be removed in the future, please use 'weights' instead.\n",
      "  warnings.warn(\n",
      "/opt/conda/envs/pytorch/lib/python3.10/site-packages/torchvision/models/_utils.py:223: UserWarning: Arguments other than a weight enum or `None` for 'weights' are deprecated since 0.13 and may be removed in the future. The current behavior is equivalent to passing `weights=ResNet50_Weights.IMAGENET1K_V1`. You can also use `weights=ResNet50_Weights.DEFAULT` to get the most up-to-date weights.\n",
      "  warnings.warn(msg)\n"
     ]
    },
    {
     "name": "stdout",
     "output_type": "stream",
     "text": [
      "Epoch 1/30, Train Loss: 8.2130, Train R2: -15.0353, Train weighted MAE: 0.9307,Val Loss: 8.2544, Val R2: -29.1896, Val weighted MAE: 0.7188\n",
      "Model saved as ex_5/checkpoint_epoch_1.pth\n",
      "Epoch 2/30, Train Loss: 8.0404, Train R2: -15.2155, Train weighted MAE: 0.7115,Val Loss: 7.8833, Val R2: -18.6355, Val weighted MAE: 0.7180\n",
      "Model saved as ex_5/checkpoint_epoch_2.pth\n",
      "Epoch 3/30, Train Loss: 7.7448, Train R2: -15.8423, Train weighted MAE: 0.7668,Val Loss: 7.6710, Val R2: -10.9125, Val weighted MAE: 0.5249\n",
      "Model saved as ex_5/checkpoint_epoch_3.pth\n",
      "Epoch 4/30, Train Loss: 7.4043, Train R2: -15.5768, Train weighted MAE: 0.8509,Val Loss: 7.3368, Val R2: -11.0311, Val weighted MAE: 0.8728\n",
      "Model saved as ex_5/checkpoint_epoch_4.pth\n",
      "Epoch 5/30, Train Loss: 7.0640, Train R2: -14.6840, Train weighted MAE: 0.7799,Val Loss: 7.0171, Val R2: -5.7851, Val weighted MAE: 0.5281\n",
      "Model saved as ex_5/checkpoint_epoch_5.pth\n",
      "Epoch 6/30, Train Loss: 6.6960, Train R2: -13.6988, Train weighted MAE: 0.7884,Val Loss: 6.6188, Val R2: -14.5605, Val weighted MAE: 0.7447\n",
      "Model saved as ex_5/checkpoint_epoch_6.pth\n",
      "Epoch 7/30, Train Loss: 6.3230, Train R2: -12.6918, Train weighted MAE: 0.9037,Val Loss: 6.2079, Val R2: -8.2230, Val weighted MAE: 0.4209\n",
      "Model saved as ex_5/checkpoint_epoch_7.pth\n",
      "Epoch 8/30, Train Loss: 5.9115, Train R2: -11.5520, Train weighted MAE: 0.8816,Val Loss: 5.8449, Val R2: -11.2108, Val weighted MAE: 0.5632\n",
      "Model saved as ex_5/checkpoint_epoch_8.pth\n",
      "Epoch 9/30, Train Loss: 5.4347, Train R2: -10.8587, Train weighted MAE: 0.9390,Val Loss: 5.3475, Val R2: -7.6341, Val weighted MAE: 0.4187\n",
      "Model saved as ex_5/checkpoint_epoch_9.pth\n",
      "Epoch 10/30, Train Loss: 4.9467, Train R2: -9.6341, Train weighted MAE: 0.9182,Val Loss: 4.9466, Val R2: -2.8946, Val weighted MAE: 0.7875\n",
      "Model saved as ex_5/checkpoint_epoch_10.pth\n",
      "Epoch 11/30, Train Loss: 4.4927, Train R2: -8.2420, Train weighted MAE: 0.8043,Val Loss: 4.4195, Val R2: -5.4231, Val weighted MAE: 0.5588\n",
      "Model saved as ex_5/checkpoint_epoch_11.pth\n",
      "Epoch 12/30, Train Loss: 4.0067, Train R2: -6.9949, Train weighted MAE: 1.1630,Val Loss: 3.9523, Val R2: -5.5910, Val weighted MAE: 0.4802\n",
      "Model saved as ex_5/checkpoint_epoch_12.pth\n",
      "Epoch 13/30, Train Loss: 3.4455, Train R2: -6.1419, Train weighted MAE: 1.3102,Val Loss: 3.4294, Val R2: -4.7707, Val weighted MAE: 0.7647\n",
      "Model saved as ex_5/checkpoint_epoch_13.pth\n",
      "Epoch 14/30, Train Loss: 2.8435, Train R2: -4.7256, Train weighted MAE: 1.1143,Val Loss: 2.8353, Val R2: -3.0381, Val weighted MAE: 0.7576\n",
      "Model saved as ex_5/checkpoint_epoch_14.pth\n",
      "Epoch 15/30, Train Loss: 2.2963, Train R2: -3.1970, Train weighted MAE: 1.0763,Val Loss: 2.2780, Val R2: -1.3746, Val weighted MAE: 0.9786\n",
      "Model saved as ex_5/checkpoint_epoch_15.pth\n",
      "Epoch 16/30, Train Loss: 1.7902, Train R2: -1.9722, Train weighted MAE: 0.7459,Val Loss: 1.7526, Val R2: -0.9471, Val weighted MAE: 1.0214\n",
      "Model saved as ex_5/checkpoint_epoch_16.pth\n",
      "Epoch 17/30, Train Loss: 1.3462, Train R2: -1.0381, Train weighted MAE: 0.7293,Val Loss: 1.3481, Val R2: -0.9295, Val weighted MAE: 1.0203\n",
      "Model saved as ex_5/checkpoint_epoch_17.pth\n",
      "Epoch 18/30, Train Loss: 1.0574, Train R2: -0.6271, Train weighted MAE: 0.7238,Val Loss: 1.1755, Val R2: -0.8019, Val weighted MAE: 0.9444\n",
      "Model saved as ex_5/checkpoint_epoch_18.pth\n",
      "Epoch 19/30, Train Loss: 0.9259, Train R2: -0.3573, Train weighted MAE: 0.5452,Val Loss: 1.1702, Val R2: -1.0864, Val weighted MAE: 1.0909\n",
      "Model saved as ex_5/checkpoint_epoch_19.pth\n",
      "Epoch 20/30, Train Loss: 0.8714, Train R2: -0.2913, Train weighted MAE: 0.6525,Val Loss: 0.9874, Val R2: -0.2518, Val weighted MAE: 0.7616\n",
      "Model saved as ex_5/checkpoint_epoch_20.pth\n",
      "Epoch 21/30, Train Loss: 0.7085, Train R2: -0.0397, Train weighted MAE: 0.6529,Val Loss: 0.7995, Val R2: 0.0054, Val weighted MAE: 0.9662\n",
      "Model saved as ex_5/checkpoint_epoch_21.pth\n",
      "Epoch 22/30, Train Loss: 0.5792, Train R2: 0.2375, Train weighted MAE: 0.5192,Val Loss: 0.6196, Val R2: 0.0477, Val weighted MAE: 0.9419\n",
      "Model saved as ex_5/checkpoint_epoch_22.pth\n",
      "Epoch 23/30, Train Loss: 0.4366, Train R2: 0.3508, Train weighted MAE: 0.3462,Val Loss: 0.6037, Val R2: -0.6123, Val weighted MAE: 1.2745\n",
      "Model saved as ex_5/checkpoint_epoch_23.pth\n",
      "Epoch 24/30, Train Loss: 0.4694, Train R2: 0.2762, Train weighted MAE: 0.2619,Val Loss: 0.6056, Val R2: 0.1943, Val weighted MAE: 1.0609\n",
      "Epoch 25/30, Train Loss: 0.4860, Train R2: 0.3597, Train weighted MAE: 0.3020,Val Loss: 0.5946, Val R2: 0.1253, Val weighted MAE: 0.9536\n",
      "Model saved as ex_5/checkpoint_epoch_25.pth\n",
      "Epoch 26/30, Train Loss: 0.4044, Train R2: 0.4518, Train weighted MAE: 0.2298,Val Loss: 0.4997, Val R2: 0.1430, Val weighted MAE: 0.8600\n",
      "Model saved as ex_5/checkpoint_epoch_26.pth\n",
      "Epoch 27/30, Train Loss: 0.3383, Train R2: 0.5253, Train weighted MAE: 0.2382,Val Loss: 0.4253, Val R2: 0.0768, Val weighted MAE: 1.0582\n",
      "Model saved as ex_5/checkpoint_epoch_27.pth\n",
      "Epoch 28/30, Train Loss: 0.2877, Train R2: 0.5863, Train weighted MAE: 0.2513,Val Loss: 0.4252, Val R2: -0.2680, Val weighted MAE: 0.9880\n",
      "Model saved as ex_5/checkpoint_epoch_28.pth\n",
      "Epoch 29/30, Train Loss: 0.2608, Train R2: 0.5871, Train weighted MAE: 0.2522,Val Loss: 0.3761, Val R2: 0.0102, Val weighted MAE: 0.9816\n",
      "Model saved as ex_5/checkpoint_epoch_29.pth\n",
      "Epoch 30/30, Train Loss: 0.2427, Train R2: 0.5719, Train weighted MAE: 0.1511,Val Loss: 0.4244, Val R2: -0.2692, Val weighted MAE: 0.9614\n",
      "Model saved as ex_5/final_model.pth\n",
      "Training completed and final model saved.\n"
     ]
    }
   ],
   "source": [
    "ex = 'ex_5'\n",
    "\n",
    "init_noise_sigma = 1.0\n",
    "sigma_lr = 0.001\n",
    "loss = BMCLoss(init_noise_sigma)\n",
    "model = load_resnet_model('resnet50', num_classes=1)\n",
    "optimizer = optim.Adam(model.parameters(), lr=LR)\n",
    "optimizer.add_param_group({'params': loss.noise_sigma, 'lr': sigma_lr, 'name': 'noise_sigma'})\n",
    "\n",
    "train_model(model, loss, optimizer, train_loaders, val_loaders, device, ex, epochs=EPOCH)"
   ]
  }
 ],
 "metadata": {
  "kernelspec": {
   "display_name": "myenv",
   "language": "python",
   "name": "python3"
  },
  "language_info": {
   "codemirror_mode": {
    "name": "ipython",
    "version": 3
   },
   "file_extension": ".py",
   "mimetype": "text/x-python",
   "name": "python",
   "nbconvert_exporter": "python",
   "pygments_lexer": "ipython3",
   "version": "3.11.3"
  }
 },
 "nbformat": 4,
 "nbformat_minor": 2
}
